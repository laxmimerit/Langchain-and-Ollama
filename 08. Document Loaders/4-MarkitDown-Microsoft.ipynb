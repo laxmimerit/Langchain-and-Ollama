{
 "cells": [
  {
   "cell_type": "markdown",
   "metadata": {},
   "source": [
    "## 🤖 LLM and AI Agent Development Courses\n",
    "\n",
    "| Course | Description | Enroll |\n",
    "|--------|-------------|---------|\n",
    "| **🎯 Master OpenAI Agent Builder** | Build and deploy AI agents visually using OpenAI Agent Builder, ChatKit, RAG, Chatbot, AI Assistant with MCP, AWS, RDS MySQL | [Enroll Now](https://www.udemy.com/course/master-openai-agent-builder-low-code-ai-projects-workflow/?referralCode=B0B67D18B1013E488FB7) |\n",
    "| **🔥 MCP Mastery** | Build MCP servers & clients with Python, Streamlit, ChromaDB, LangChain, LangGraph agents, and Ollama integrations | [Enroll Now](https://www.udemy.com/course/mcp-mastery-build-ai-apps-with-claude-langchain-and-ollama/?referralCode=31C17C306A59601B8689) |\n",
    "| **📊 Agentic RAG with LangChain** | Step-by-Step Guide to RAG with LangChain v1, LangGraph, and Ollama (Qwen3, Gemma3, DeepSeek-R1, LLAMA, FAISS) | [Enroll Now](https://www.udemy.com/course/agentic-rag-with-langchain-and-langgraph/?referralCode=C0BCC208F53AF2C98AC5) |\n",
    "| **🔧 Master LangGraph and LangChain** | Agentic RAG and Chatbot, AI Agent with LangChain v1, Qwen3, Gemma3, DeepSeek-R1, LLAMA 3.2, FAISS Vector Database | [Enroll Now](https://www.udemy.com/course/langgraph-with-ollama/?referralCode=B646DCB44A189BEBC20C) |\n",
    "| **⚡ Master Langchain and Ollama** | Master Langchain v1, Local LLM Projects with Ollama, Qwen3, Gemma3, DeepSeek-R1, LLAMA 3.2, Complete Integration Guide | [Enroll Now](https://www.udemy.com/course/ollama-and-langchain/?referralCode=7F4C0C7B8CF223BA9327) |\n",
    "| **🔬 Fine Tuning LLM** | Learn transformer architecture fundamentals and fine-tune LLMs with custom datasets | [Enroll Now](https://www.udemy.com/course/fine-tuning-llm-with-hugging-face-transformers/?referralCode=6DEB3BE17C2644422D8E) |"
   ]
  },
  {
   "cell_type": "markdown",
   "metadata": {},
   "source": [
    "## Document Loaders | MarkitDown"
   ]
  },
  {
   "cell_type": "markdown",
   "metadata": {},
   "source": [
    "#### Microsoft's File to Markdown Converter\n",
    "\n",
    "Installation:\n",
    "```\n",
    "pip install markitdown\n",
    "```\n",
    "GitHub: https://github.com/microsoft/markitdown\n"
   ]
  },
  {
   "cell_type": "code",
   "execution_count": 1,
   "metadata": {},
   "outputs": [],
   "source": [
    "import warnings\n",
    "warnings.filterwarnings(\"ignore\")"
   ]
  },
  {
   "cell_type": "code",
   "execution_count": 2,
   "metadata": {},
   "outputs": [],
   "source": [
    "from markitdown import MarkItDown\n",
    "from pathlib import Path"
   ]
  },
  {
   "cell_type": "code",
   "execution_count": 3,
   "metadata": {},
   "outputs": [
    {
     "data": {
      "text/plain": [
       "'Apple-10-Q-2025-Q1'"
      ]
     },
     "execution_count": 3,
     "metadata": {},
     "output_type": "execute_result"
    }
   ],
   "source": [
    "md = MarkItDown()\n",
    "\n",
    "file_path = Path(\"data/Apple-10-Q-2025-Q1.pdf\")\n",
    "\n",
    "file_path.stem"
   ]
  },
  {
   "cell_type": "code",
   "execution_count": 4,
   "metadata": {},
   "outputs": [],
   "source": [
    "import os\n",
    "os.makedirs(\"markitdown\", exist_ok=True)\n",
    "\n",
    "result = md.convert(file_path)\n",
    "\n",
    "with open(f\"markitdown/{file_path.stem}.md\", \"w\", encoding=\"utf-8\") as f:\n",
    "    f.write(result.text_content)"
   ]
  },
  {
   "cell_type": "code",
   "execution_count": 5,
   "metadata": {},
   "outputs": [
    {
     "name": "stdout",
     "output_type": "stream",
     "text": [
      "UNITED STATES\n",
      "SECURITIES AND EXCHANGE COMMISSION\n",
      "Washington, D.C. 20549\n",
      "\n",
      "FORM 10-Q\n",
      "\n",
      "(Mark One)\n",
      "\n",
      "☒    QUARTERLY REPORT PURSUANT TO SECTION 13 OR 15(d) OF THE SECURITIES EXCHANGE ACT OF 1934\n",
      "For the quarterly period ended December 28, 2024\n",
      "or\n",
      "☐    TRANSITION REPORT PURSUANT TO SECTION 13 OR 15(d) OF THE SECURITIES EXCHANGE ACT OF 1934\n",
      "For the transition period from              to             .\n",
      "\n",
      "Commission File Number: 001-36743\n",
      "\n",
      "Apple Inc.\n",
      "\n",
      "(Exact name of Registrant as specified in its charter)\n",
      "\n",
      "\n"
     ]
    }
   ],
   "source": [
    "print(result.text_content[:500])"
   ]
  },
  {
   "cell_type": "code",
   "execution_count": 6,
   "metadata": {},
   "outputs": [],
   "source": [
    "def convert_and_save(file_path):\n",
    "    file_path = Path(file_path)\n",
    "    result = md.convert(file_path)\n",
    "\n",
    "    with open(f\"markitdown/{file_path.stem}.md\", \"w\", encoding=\"utf-8\") as f:\n",
    "        f.write(result.text_content)"
   ]
  },
  {
   "cell_type": "code",
   "execution_count": 7,
   "metadata": {},
   "outputs": [],
   "source": [
    "convert_and_save(\"data/Apple-10-Q-2025-Q1.pdf\")"
   ]
  },
  {
   "cell_type": "code",
   "execution_count": 8,
   "metadata": {},
   "outputs": [],
   "source": [
    "convert_and_save(\"data/job_description.docx\")"
   ]
  },
  {
   "cell_type": "code",
   "execution_count": 9,
   "metadata": {},
   "outputs": [],
   "source": [
    "convert_and_save(\"data/ml_course.pptx\")"
   ]
  },
  {
   "cell_type": "code",
   "execution_count": 10,
   "metadata": {},
   "outputs": [],
   "source": [
    "convert_and_save(\"data/sample.xlsx\")"
   ]
  },
  {
   "cell_type": "code",
   "execution_count": 11,
   "metadata": {},
   "outputs": [],
   "source": [
    "md = MarkItDown()\n",
    "\n",
    "result = md.convert(\"https://www.youtube.com/watch?v=De66dBYqQWI\")"
   ]
  },
  {
   "cell_type": "code",
   "execution_count": 12,
   "metadata": {},
   "outputs": [
    {
     "name": "stdout",
     "output_type": "stream",
     "text": [
      "# YouTube\n",
      "\n",
      "## Deploy OpenAI Agent Builder Workflow in Production at Your Website | Integrate Chatbot in Website\n",
      "\n",
      "### Video Metadata\n",
      "- **Keywords:** kgp talkie,kgp talkie videos,kgp talkie ml,openai agent builder,chatbot deployment,website chatbot integration,vercel deployment,chatkit tutorial,vector database chatbot,openai api tutorial,ai chatbot development,agent builder workflow,website qa chatbot,document chatbot,openai workflow,ai agent deployment,agentkit tutorial,free chatbot hosting,ai as\n"
     ]
    }
   ],
   "source": [
    "print(result.text_content[:500])"
   ]
  }
 ],
 "metadata": {
  "kernelspec": {
   "display_name": "langchain-and-ollama",
   "language": "python",
   "name": "python3"
  },
  "language_info": {
   "codemirror_mode": {
    "name": "ipython",
    "version": 3
   },
   "file_extension": ".py",
   "mimetype": "text/x-python",
   "name": "python",
   "nbconvert_exporter": "python",
   "pygments_lexer": "ipython3",
   "version": "3.12.9"
  }
 },
 "nbformat": 4,
 "nbformat_minor": 2
}
