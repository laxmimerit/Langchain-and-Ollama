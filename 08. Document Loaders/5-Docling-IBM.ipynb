{
 "cells": [
  {
   "cell_type": "markdown",
   "metadata": {},
   "source": [
    "# Announcement-on-ML\n",
    "<a href='http://www.kgptalkie.com' target=\"_blank\"> <img src='https://github.com/laxmimerit/Important-Announcement-on-ML/raw/master/kgptalkie_strips.png'/></a>\n",
    "\n",
    "# ML Resources\n",
    "|  ML Course | Description |\n",
    "|:---|:---|\n",
    "| [**Deploy LLM App with Ollama and Langchain in Production**](https://www.udemy.com/course/ollama-and-langchain/?referralCode=7F4C0C7B8CF223BA9327) | Master Langchain v0.3, Private Chatbot, Deploy LLM App.  Ollama, LLAMA, LLAMA 3.2, FAISS, RAG, Deploy RAG, Gen AI, LLM|\n",
    "| [**Fine Tuning LLM with HuggingFace Transformers for NLP**](https://www.udemy.com/course/fine-tuning-llm-with-hugging-face-transformers/?referralCode=6DEB3BE17C2644422D8E) | Learn how to fine tune LLM with custom dataset. You will learn basics of transformers then fine tune LLM|\n",
    "| [**Data Visualization in Python Masterclass™: Beginners to Pro**](https://bit.ly/udemy95off_kgptalkie) |  Learn to build Machine Learning and Deep Learning models using Python and its libraries like Scikit-Learn, Keras, and TensorFlow. |\n",
    "| [**Python for Machine Learning: A Step-by-Step Guide**](https://bit.ly/ml-ds-project) | Learn to build Machine Learning and Deep Learning models using Python and its libraries like Scikit-Learn, Keras, and TensorFlow. |\n",
    "| [**Deep Learning for Beginners with Python**](https://bit.ly/dl-with-python) | Neural Networks, TensorFlow, ANN, CNN, RNN, LSTM, Transfer Learning and Much More. |\n",
    "| [**Python for Linear Regression in Machine Learning**](https://bit.ly/regression-python) | Learn to build Linear Regression models using Python and its libraries like Scikit-Learn. |\n",
    "| [**Introduction to Spacy 3 for Natural Language Processing**](https://bit.ly/spacy-intro) | Learn to build Natural Language Processing models using Python and its libraries like Spacy. |\n",
    "| [**Advanced Machine Learning and Deep Learning Projects**](https://bit.ly/kgptalkie_ml_projects) | Learn to build Advanced Machine Learning and Deep Learning models using Python and transformer models like BERT, GPT-2, and XLNet. |\n",
    "| [**Natural Language Processing in Python for Beginners**](https://bit.ly/intro_nlp) | Learn to build Natural Language Processing Projects using Spacy, NLTK, and Gensim, and transformer models like BERT, GPT-2, and XLNet. |\n",
    "| [**Deployment of Machine Learning Models in Production in Python**](https://bit.ly/bert_nlp) |  Learn to deploy Machine Learning and Deep Learning models using Python and its libraries like Flask, Streamlit, and NGINX. |\n",
    "| [**R 4.0 Programming for Data Science - Beginners to Pro**](https://bit.ly/r4-ml) | Learn to build Machine Learning and Deep Learning models using R and its libraries like caret, tidyverse, and keras. |\n"
   ]
  },
  {
   "cell_type": "markdown",
   "metadata": {},
   "source": [
    "## Document Loaders | Docling"
   ]
  },
  {
   "cell_type": "markdown",
   "metadata": {},
   "source": [
    "### Basic Markdown Extraction "
   ]
  },
  {
   "cell_type": "markdown",
   "metadata": {},
   "source": [
    "https://github.com/docling-project/docling"
   ]
  },
  {
   "cell_type": "code",
   "execution_count": null,
   "metadata": {},
   "outputs": [],
   "source": [
    "from docling.document_converter import DocumentConverter\n",
    "import os\n",
    "from pathlib import Path\n",
    "\n",
    "\n",
    "converter = DocumentConverter()\n",
    "\n",
    "# Step 2: Convert document (works with PDF, DOCX, PPTX)\n",
    "file_path  = Path(\"data/Apple-10-Q-2025-Q1.pdf\")\n",
    "result = converter.convert(file_path)\n",
    "markdown = result.document.export_to_markdown()\n",
    "\n",
    "# Step 4: Print or save\n",
    "# print(markdown)\n",
    "\n"
   ]
  },
  {
   "cell_type": "code",
   "execution_count": null,
   "metadata": {},
   "outputs": [],
   "source": [
    "import os\n",
    "\n",
    "os.makedirs(\"docling\", exist_ok=True)\n",
    "with open(f\"docling/{file_path.stem}.md\", \"w\", encoding=\"utf-8\") as f:\n",
    "    f.write(markdown)"
   ]
  },
  {
   "cell_type": "code",
   "execution_count": null,
   "metadata": {},
   "outputs": [],
   "source": [
    "file_path  = Path(\"data/scansmpl.pdf\")\n",
    "result = converter.convert(file_path)\n",
    "markdown = result.document.export_to_markdown()\n",
    "\n",
    "with open(f\"docling/{file_path.stem}.md\", \"w\", encoding=\"utf-8\") as f:\n",
    "    f.write(markdown)"
   ]
  },
  {
   "cell_type": "code",
   "execution_count": null,
   "metadata": {},
   "outputs": [],
   "source": [
    "file_path  = Path(\"data/job_description.docx\")\n",
    "result = converter.convert(file_path)\n",
    "markdown = result.document.export_to_markdown()\n",
    "\n",
    "with open(f\"docling/{file_path.stem}.md\", \"w\", encoding=\"utf-8\") as f:\n",
    "    f.write(markdown)"
   ]
  },
  {
   "cell_type": "markdown",
   "metadata": {},
   "source": [
    "## Extract Tables"
   ]
  },
  {
   "cell_type": "code",
   "execution_count": null,
   "metadata": {},
   "outputs": [],
   "source": [
    "os.makedirs(\"docling/tables\", exist_ok=True)\n",
    "# Step 1: Convert document\n",
    "converter = DocumentConverter()\n",
    "\n",
    "file_path = Path(\"data/Apple-10-Q-2025-Q1.pdf\")\n",
    "result = converter.convert(file_path)\n",
    "\n",
    "# Step 2: Loop through tables\n",
    "for i, table in enumerate(result.document.tables):\n",
    "    # Convert table to pandas DataFrame\n",
    "    df = table.export_to_dataframe()\n",
    "    \n",
    "    # Save as CSV\n",
    "    df.to_csv(f\"docling/tables/{file_path.stem}_table_{i+1}.csv\", index=False)"
   ]
  },
  {
   "cell_type": "markdown",
   "metadata": {},
   "source": [
    "## Extract Figures "
   ]
  },
  {
   "cell_type": "code",
   "execution_count": null,
   "metadata": {},
   "outputs": [],
   "source": [
    "from docling.document_converter import DocumentConverter\n",
    "from docling.datamodel.pipeline_options import PdfPipelineOptions\n",
    "from docling.datamodel.base_models import InputFormat\n",
    "from docling.document_converter import PdfFormatOption\n",
    "\n",
    "os.makedirs(\"docling/figures\", exist_ok=True)\n",
    "\n",
    "# Step 1: Enable image extraction\n",
    "pipeline_options = PdfPipelineOptions()\n",
    "pipeline_options.generate_picture_images = True\n",
    "pipeline_options.images_scale = 3.0\n",
    "\n",
    "# Step 2: Create converter\n",
    "converter = DocumentConverter(\n",
    "    format_options={\n",
    "        InputFormat.PDF: PdfFormatOption(pipeline_options=pipeline_options)\n",
    "    }\n",
    ")\n",
    "\n",
    "# Step 3: Convert document\n",
    "file_path = Path(\"data/sample_textbook.pdf\")\n",
    "result = converter.convert(file_path)\n",
    "\n",
    "# Step 4: Save each figure\n",
    "for i, picture in enumerate(result.document.pictures):\n",
    "    image = picture.get_image(result.document)\n",
    "    image.save(f\"docling/figures/{file_path.stem}_figure_{i+1}.png\")\n",
    "    print(f\"Saved figure_{i+1}.png\")"
   ]
  }
 ],
 "metadata": {
  "kernelspec": {
   "display_name": "ml",
   "language": "python",
   "name": "python3"
  },
  "language_info": {
   "codemirror_mode": {
    "name": "ipython",
    "version": 3
   },
   "file_extension": ".py",
   "mimetype": "text/x-python",
   "name": "python",
   "nbconvert_exporter": "python",
   "pygments_lexer": "ipython3",
   "version": "3.11.13"
  }
 },
 "nbformat": 4,
 "nbformat_minor": 2
}
