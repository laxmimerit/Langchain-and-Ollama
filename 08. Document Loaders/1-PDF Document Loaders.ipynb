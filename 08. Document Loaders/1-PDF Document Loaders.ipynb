{
 "cells": [
  {
   "cell_type": "markdown",
   "metadata": {},
   "source": [
    "# Announcement-on-ML\n",
    "<a href='http://www.kgptalkie.com' target=\"_blank\"> <img src='https://github.com/laxmimerit/Important-Announcement-on-ML/raw/master/kgptalkie_strips.png'/></a>\n",
    "\n",
    "# ML Resources\n",
    "|  ML Course | Description |\n",
    "|:---|:---|\n",
    "| [**Deploy LLM App with Ollama and Langchain in Production**](https://www.udemy.com/course/ollama-and-langchain/?referralCode=7F4C0C7B8CF223BA9327) | Master Langchain v0.3, Private Chatbot, Deploy LLM App.  Ollama, LLAMA, LLAMA 3.2, FAISS, RAG, Deploy RAG, Gen AI, LLM|\n",
    "| [**Fine Tuning LLM with HuggingFace Transformers for NLP**](https://www.udemy.com/course/fine-tuning-llm-with-hugging-face-transformers/?referralCode=6DEB3BE17C2644422D8E) | Learn how to fine tune LLM with custom dataset. You will learn basics of transformers then fine tune LLM|\n",
    "| [**Data Visualization in Python Masterclass™: Beginners to Pro**](https://bit.ly/udemy95off_kgptalkie) |  Learn to build Machine Learning and Deep Learning models using Python and its libraries like Scikit-Learn, Keras, and TensorFlow. |\n",
    "| [**Python for Machine Learning: A Step-by-Step Guide**](https://bit.ly/ml-ds-project) | Learn to build Machine Learning and Deep Learning models using Python and its libraries like Scikit-Learn, Keras, and TensorFlow. |\n",
    "| [**Deep Learning for Beginners with Python**](https://bit.ly/dl-with-python) | Neural Networks, TensorFlow, ANN, CNN, RNN, LSTM, Transfer Learning and Much More. |\n",
    "| [**Python for Linear Regression in Machine Learning**](https://bit.ly/regression-python) | Learn to build Linear Regression models using Python and its libraries like Scikit-Learn. |\n",
    "| [**Introduction to Spacy 3 for Natural Language Processing**](https://bit.ly/spacy-intro) | Learn to build Natural Language Processing models using Python and its libraries like Spacy. |\n",
    "| [**Advanced Machine Learning and Deep Learning Projects**](https://bit.ly/kgptalkie_ml_projects) | Learn to build Advanced Machine Learning and Deep Learning models using Python and transformer models like BERT, GPT-2, and XLNet. |\n",
    "| [**Natural Language Processing in Python for Beginners**](https://bit.ly/intro_nlp) | Learn to build Natural Language Processing Projects using Spacy, NLTK, and Gensim, and transformer models like BERT, GPT-2, and XLNet. |\n",
    "| [**Deployment of Machine Learning Models in Production in Python**](https://bit.ly/bert_nlp) |  Learn to deploy Machine Learning and Deep Learning models using Python and its libraries like Flask, Streamlit, and NGINX. |\n",
    "| [**R 4.0 Programming for Data Science - Beginners to Pro**](https://bit.ly/r4-ml) | Learn to build Machine Learning and Deep Learning models using R and its libraries like caret, tidyverse, and keras. |\n"
   ]
  },
  {
   "cell_type": "markdown",
   "metadata": {},
   "source": [
    "## PDF Document Loaders\n",
    "- Load various kind of documents from the web and local files.\n",
    "- Apply LLM to the documents for summarization and question answering."
   ]
  },
  {
   "cell_type": "markdown",
   "metadata": {},
   "source": [
    "### Project 1: Question Answering from PDF Document\n",
    "- We will load the document from the local file and apply LLM to answer the questions.\n",
    "- Lets use research paper published on the missuse of the health supplements for workout. "
   ]
  },
  {
   "cell_type": "markdown",
   "metadata": {},
   "source": [
    "rag-dataset: git@github.com:laxmimerit/rag-dataset.git\n",
    "\n",
    "```bash\n",
    "git clone git@github.com:laxmimerit/rag-dataset.git\n",
    "```"
   ]
  },
  {
   "cell_type": "code",
   "execution_count": 1,
   "metadata": {},
   "outputs": [
    {
     "name": "stderr",
     "output_type": "stream",
     "text": [
      "fatal: destination path 'rag-dataset' already exists and is not an empty directory.\n"
     ]
    }
   ],
   "source": [
    "!git clone git@github.com:laxmimerit/rag-dataset.git\n",
    "# !pip install pymupdf tiktoken "
   ]
  },
  {
   "cell_type": "code",
   "execution_count": 2,
   "metadata": {},
   "outputs": [
    {
     "data": {
      "text/plain": [
       "True"
      ]
     },
     "execution_count": 2,
     "metadata": {},
     "output_type": "execute_result"
    }
   ],
   "source": [
    "from dotenv import load_dotenv\n",
    "\n",
    "load_dotenv('./../.env')"
   ]
  },
  {
   "cell_type": "code",
   "execution_count": 3,
   "metadata": {},
   "outputs": [],
   "source": [
    "from langchain_community.document_loaders import PyMuPDFLoader\n",
    "\n",
    "loader = PyMuPDFLoader(\"rag-dataset/health supplements/1. dietary supplements - for whom.pdf\")\n",
    "\n",
    "docs = loader.load()"
   ]
  },
  {
   "cell_type": "code",
   "execution_count": 4,
   "metadata": {},
   "outputs": [
    {
     "data": {
      "text/plain": [
       "17"
      ]
     },
     "execution_count": 4,
     "metadata": {},
     "output_type": "execute_result"
    }
   ],
   "source": [
    "len(docs)"
   ]
  },
  {
   "cell_type": "code",
   "execution_count": 5,
   "metadata": {},
   "outputs": [],
   "source": [
    "# docs[0].metadata\n",
    "# print(docs[0].page_content)"
   ]
  },
  {
   "cell_type": "code",
   "execution_count": 6,
   "metadata": {},
   "outputs": [],
   "source": [
    "### Read the list of PDFs in the dir\n",
    "import os\n",
    "\n",
    "pdfs = []\n",
    "for root, dirs, files in os.walk(\"rag-dataset\"):\n",
    "    # print(root, dirs, files)\n",
    "    for file in files:\n",
    "        if file.endswith(\".pdf\"):\n",
    "            pdfs.append(os.path.join(root, file))"
   ]
  },
  {
   "cell_type": "code",
   "execution_count": 7,
   "metadata": {},
   "outputs": [],
   "source": [
    "docs = []\n",
    "for pdf in pdfs:\n",
    "    loader = PyMuPDFLoader(pdf)\n",
    "    temp = loader.load()\n",
    "    docs.extend(temp)\n",
    "\n",
    "    # print(temp)\n",
    "    # break"
   ]
  },
  {
   "cell_type": "code",
   "execution_count": 8,
   "metadata": {},
   "outputs": [
    {
     "data": {
      "text/plain": [
       "64"
      ]
     },
     "execution_count": 8,
     "metadata": {},
     "output_type": "execute_result"
    }
   ],
   "source": [
    "len(docs)"
   ]
  },
  {
   "cell_type": "code",
   "execution_count": 9,
   "metadata": {},
   "outputs": [],
   "source": [
    "def format_docs(docs):\n",
    "    return \"\\n\\n\".join([x.page_content for x in docs])\n",
    "\n",
    "\n",
    "context = format_docs(docs)"
   ]
  },
  {
   "cell_type": "code",
   "execution_count": 10,
   "metadata": {},
   "outputs": [
    {
     "data": {
      "text/plain": [
       "Document(metadata={'producer': 'iLovePDF', 'creator': '', 'creationdate': '', 'source': 'rag-dataset\\\\gym supplements\\\\1. Analysis of Actual Fitness Supplement.pdf', 'file_path': 'rag-dataset\\\\gym supplements\\\\1. Analysis of Actual Fitness Supplement.pdf', 'total_pages': 15, 'format': 'PDF 1.7', 'title': '', 'author': '', 'subject': '', 'keywords': '', 'moddate': '2024-10-21T11:38:50+00:00', 'trapped': '', 'modDate': 'D:20241021113850Z', 'creationDate': '', 'page': 0}, page_content='Citation: Espeño, P.R.; Ong, A.K.S.;\\nGerman, J.D.; Gumasing, M.J.J.; Casas,\\nE.S. Analysis of Actual Fitness\\nSupplement Consumption among\\nHealth and Fitness Enthusiasts. Foods\\n2024, 13, 1424. https://doi.org/\\n10.3390/foods13091424\\nAcademic Editors: Ilija Djekic\\nand Nada Smigic\\nReceived: 30 March 2024\\nRevised: 15 April 2024\\nAccepted: 18 April 2024\\nPublished: 6 May 2024\\nCopyright: © 2024 by the authors.\\nLicensee MDPI, Basel, Switzerland.\\nThis article is an open access article\\ndistributed\\nunder\\nthe\\nterms\\nand\\nconditions of the Creative Commons\\nAttribution (CC BY) license (https://\\ncreativecommons.org/licenses/by/\\n4.0/).\\nfoods\\nArticle\\nAnalysis of Actual Fitness Supplement Consumption among\\nHealth and Fitness Enthusiasts\\nPaolo Renzo Espeño 1, Ardvin Kester S. Ong 1,2,*\\n, Josephine D. German 1\\n, Ma. Janice J. Gumasing 3\\nand Ethan S. Casas 1\\n1\\nSchool of Industrial Engineering and Engineering Management, Mapúa University, 658 Muralla St.,\\nIntramuros, Manila 1002, Philippines\\n2\\nE.T. Yuchengo School of Business, Mapúa University, 1191 Pablo Ocampo Sr. Ext., Makati 1204, Philippines\\n3\\nDepartment of Industrial and Systems Engineering, Gokongwei College of Engineering,\\nDe La Salle University, 2401 Taft Ave., Manila 1007, Philippines\\n*\\nCorrespondence: aksong@mapua.edu.ph; Tel.: +63-(2)8247-5000 (ext. 6202)\\nAbstract: With the rising popularity of fitness supplements, understanding the factors driving their\\nconsumption behaviors is crucial. This study investigated the actual consumption of fitness supple-\\nments utilizing the Theory of Planned Behavior (TPB), Health Belief Model (HBM), and the Theory\\nof Effort Minimization in Physical Activity (TEMPA) frameworks. The TPB provided insights into\\nhow attitudes, subjective norms, and perceived behavioral control influence individuals’ intentions\\nto consume fitness supplements. Additionally, the HBM sheds light on perceived effectiveness,\\nbenefits, barriers, and health motivation related to supplement consumption. Integrating the TEMPA\\nframework further investigated the role of effort minimization in physical activity contexts. Through\\nan online questionnaire, data were collected from a sample of 250 fitness supplement-consuming\\nrespondents. SEM analysis revealed significant associations between behavioral intentions and\\nattitudes, perceived behavioral control, health motivation, and controlled precursors. However, it\\nwas seen that subjective norms, perceived effectiveness, perceived benefits, and automatic precursors\\nwere deemed insignificant. The findings contribute to a comprehensive understanding of the factors\\nshaping actual consumption behaviors, offering valuable implications for marketers, health profes-\\nsionals, and policymakers seeking to promote informed and responsible supplement use among\\nhealth and fitness enthusiasts.\\nKeywords: fitness supplements; health belief model; theory of effort of minimization; theory of\\nplanned behavior; structural equation modelling\\n1. Introduction\\nSupplementary drinks or fitness supplements are commonly used to enhance an\\nindividual’s performance in various sports and health settings, catering to both competitive\\nand non-competitive athletes [1]. One widely known supplement for athletes and fitness\\nenthusiasts is protein supplements like protein shakes. Others may be whey protein,\\ncaffeine, and creatine, to name a few. These supplements play a crucial role in helping\\nindividuals increase muscle mass, recover faster, and enhance their overall performance [2].\\nWhey protein stands out as a top-quality protein source, containing more essential amino\\nacids than traditional protein sources. Its numerous benefits have made it a popular choice\\nfor snacks and drinks among consumers [3]. Another widely embraced supplement is\\ncaffeine, which is found in many sports and food supplements. Caffeine reduces perceived\\neffort, minimizes fatigue and pain, and proves to be effective for endurance and high-\\nintensity activities, which is the choice of consumers [4].\\nCreatine monohydrate is another well-known supplement used to gain muscle mass\\nand support performance and recovery. It is known not to increase fat mass and remains\\neffective even when taken in recommended doses [5]. Despite its popularity in the fitness\\nFoods 2024, 13, 1424. https://doi.org/10.3390/foods13091424\\nhttps://www.mdpi.com/journal/foods')"
      ]
     },
     "execution_count": 10,
     "metadata": {},
     "output_type": "execute_result"
    }
   ],
   "source": [
    "docs[0]"
   ]
  },
  {
   "cell_type": "code",
   "execution_count": 11,
   "metadata": {},
   "outputs": [],
   "source": [
    "# print(context)"
   ]
  },
  {
   "cell_type": "code",
   "execution_count": 12,
   "metadata": {},
   "outputs": [],
   "source": [
    "import tiktoken\n",
    "\n",
    "encoding = tiktoken.encoding_for_model(\"gpt-4o-mini\")\n"
   ]
  },
  {
   "cell_type": "code",
   "execution_count": 13,
   "metadata": {},
   "outputs": [
    {
     "data": {
      "text/plain": [
       "([542, 111291, 14571], [81, 31847, 80, 5276])"
      ]
     },
     "execution_count": 13,
     "metadata": {},
     "output_type": "execute_result"
    }
   ],
   "source": [
    "encoding.encode(\"congratulations\"), encoding.encode(\"rqsqeft\")"
   ]
  },
  {
   "cell_type": "code",
   "execution_count": 14,
   "metadata": {},
   "outputs": [
    {
     "data": {
      "text/plain": [
       "968"
      ]
     },
     "execution_count": 14,
     "metadata": {},
     "output_type": "execute_result"
    }
   ],
   "source": [
    "len(encoding.encode(docs[0].page_content))"
   ]
  },
  {
   "cell_type": "code",
   "execution_count": 15,
   "metadata": {},
   "outputs": [
    {
     "data": {
      "text/plain": [
       "58181"
      ]
     },
     "execution_count": 15,
     "metadata": {},
     "output_type": "execute_result"
    }
   ],
   "source": [
    "len(encoding.encode(context))"
   ]
  },
  {
   "cell_type": "code",
   "execution_count": 16,
   "metadata": {},
   "outputs": [
    {
     "data": {
      "text/plain": [
       "62016"
      ]
     },
     "execution_count": 16,
     "metadata": {},
     "output_type": "execute_result"
    }
   ],
   "source": [
    "969*64"
   ]
  },
  {
   "cell_type": "code",
   "execution_count": 17,
   "metadata": {},
   "outputs": [],
   "source": [
    "### Question Answering using LLM\n",
    "from langchain_ollama import ChatOllama\n",
    "\n",
    "from langchain_core.prompts import (SystemMessagePromptTemplate, HumanMessagePromptTemplate,\n",
    "                                    ChatPromptTemplate)\n",
    "\n",
    "\n",
    "\n",
    "from langchain_core.output_parsers import StrOutputParser\n",
    "\n",
    "base_url = \"http://localhost:11434\"\n",
    "model = 'qwen3'\n",
    "\n",
    "llm = ChatOllama(base_url=base_url, model=model)\n"
   ]
  },
  {
   "cell_type": "code",
   "execution_count": 18,
   "metadata": {},
   "outputs": [],
   "source": [
    "system = SystemMessagePromptTemplate.from_template(\"\"\"You are helpful AI assistant who answer user question based on the provided context. \n",
    "                                                    Do not answer in more than {words} words\"\"\")\n",
    "\n",
    "prompt = \"\"\"Answer user question based on the provided context ONLY! If you do not know the answer, just say \"I don't know\".\n",
    "            ### Context:\n",
    "            {context}\n",
    "\n",
    "            ### Question:\n",
    "            {question}\n",
    "\n",
    "            ### Answer:\"\"\"\n",
    "\n",
    "prompt = HumanMessagePromptTemplate.from_template(prompt)\n",
    "\n",
    "messages = [system, prompt]\n",
    "template = ChatPromptTemplate(messages)\n",
    "\n",
    "# template\n",
    "# template.invoke({'context': context, 'question': \"How to gain muscle mass?\", 'words': 50})\n",
    "\n",
    "qna_chain = template | llm | StrOutputParser()"
   ]
  },
  {
   "cell_type": "code",
   "execution_count": 19,
   "metadata": {},
   "outputs": [
    {
     "data": {
      "text/plain": [
       "ChatPromptTemplate(input_variables=['context', 'question', 'words'], input_types={}, partial_variables={}, messages=[SystemMessagePromptTemplate(prompt=PromptTemplate(input_variables=['words'], input_types={}, partial_variables={}, template='You are helpful AI assistant who answer user question based on the provided context. \\n                                                    Do not answer in more than {words} words'), additional_kwargs={}), HumanMessagePromptTemplate(prompt=PromptTemplate(input_variables=['context', 'question'], input_types={}, partial_variables={}, template='Answer user question based on the provided context ONLY! If you do not know the answer, just say \"I don\\'t know\".\\n            ### Context:\\n            {context}\\n\\n            ### Question:\\n            {question}\\n\\n            ### Answer:'), additional_kwargs={})])\n",
       "| ChatOllama(model='qwen3', base_url='http://localhost:11434')\n",
       "| StrOutputParser()"
      ]
     },
     "execution_count": 19,
     "metadata": {},
     "output_type": "execute_result"
    }
   ],
   "source": [
    "qna_chain"
   ]
  },
  {
   "cell_type": "code",
   "execution_count": 20,
   "metadata": {},
   "outputs": [
    {
     "name": "stdout",
     "output_type": "stream",
     "text": [
      "To gain muscle mass (hypertrophy), a combination of resistance training, proper nutrition, recovery, and lifestyle factors is essential. Here's a structured approach:\n",
      "\n",
      "---\n",
      "\n",
      "### **1. Resistance Training (Exercise)**\n",
      "- **Focus on Compound Movements**: Prioritize exercises that work multiple muscle groups, such as:\n",
      "  - **Squats** (quads, glutes, hamstrings)\n",
      "  - **Deadlifts** (back, glutes, hamstrings)\n",
      "  - **Bench Press** (chest, triceps, shoulders)\n",
      "  - **Pull-Ups/Rows** (back, biceps)\n",
      "  - **Overhead Press** (shoulders, triceps)\n",
      "- **Progressive Overload**: Gradually increase weight, reps, or intensity over time to continually challenge muscles.\n",
      "- **Training Frequency**: Train each major muscle group 2–3 times per week, with at least 48 hours of recovery between sessions for the same muscle group.\n",
      "- **Rep Range**: Aim for 6–12 reps per set for hypertrophy (focus on strength and volume).\n",
      "- **Warm-Up and Form**: Always warm up to prevent injury and ensure proper form to target the right muscles effectively.\n",
      "\n",
      "---\n",
      "\n",
      "### **2. Nutrition**\n",
      "- **Protein Intake**: Consume **1.2–2.2 grams of protein per kilogram of body weight** daily. Good sources include:\n",
      "  - Lean meats, eggs, dairy, legumes, tofu, and whey protein supplements.\n",
      "- **Caloric Surplus**: Eat more calories than you burn to provide energy for growth. Aim for a surplus of **250–500 calories/day**.\n",
      "- **Carbohydrates**: Fuel workouts with complex carbs (oats, rice, fruits, vegetables) and simple carbs post-workout for quick energy.\n",
      "- **Fats**: Include healthy fats (avocados, nuts, olive oil) for hormone production and overall health.\n",
      "- **Meal Timing**: Eat a **protein-rich meal or snack within 30–60 minutes post-workout** to support muscle recovery.\n",
      "\n",
      "---\n",
      "\n",
      "### **3. Recovery and Rest**\n",
      "- **Sleep**: Aim for **7–9 hours of sleep per night** to allow muscles to repair and grow.\n",
      "- **Rest Days**: Take 1–2 rest days weekly to prevent overtraining and promote recovery.\n",
      "- **Active Recovery**: Light activities like walking or stretching on rest days can aid circulation and reduce soreness.\n",
      "\n",
      "---\n",
      "\n",
      "### **4. Hydration and Lifestyle**\n",
      "- **Hydration**: Drink plenty of water (at least 3–4 liters/day) to support muscle function and recovery.\n",
      "- **Avoid Harmful Habits**: Limit alcohol and tobacco, as they can impair muscle growth and recovery.\n",
      "- **Stress Management**: Chronic stress elevates cortisol, which can hinder muscle growth. Practice mindfulness, meditation, or yoga.\n",
      "\n",
      "---\n",
      "\n",
      "### **5. Supplements (Optional)**\n",
      "- **Whey Protein**: Helps meet protein needs, especially post-workout.\n",
      "- **Creatine**: Enhances strength and muscle gains (5–10 grams/day).\n",
      "- **BCAAs (Branched-Chain Amino Acids)**: May reduce muscle soreness and support recovery.\n",
      "- **Omega-3 Fatty Acids**: Reduce inflammation and support joint health.\n",
      "\n",
      "---\n",
      "\n",
      "### **6. Consistency and Tracking**\n",
      "- **Progress Tracking**: Measure body weight, circumference, or take progress photos to stay motivated.\n",
      "- **Adjustments**: Periodically adjust your workout routine or diet to avoid plateaus.\n",
      "\n",
      "---\n",
      "\n",
      "### **Example Daily Plan**\n",
      "- **Morning**: \n",
      "  - Breakfast: Oatmeal with protein powder, berries, and almond butter.\n",
      "  - Workout: Full-body strength training (squats, bench press, rows).\n",
      "- **Afternoon**: \n",
      "  - Snack: Greek yogurt with nuts and fruit.\n",
      "  - Light activity (walk, stretch).\n",
      "- **Evening**: \n",
      "  - Dinner: Grilled chicken, brown rice, and steamed veggies.\n",
      "  - Post-workout shake: Whey protein + banana.\n",
      "\n",
      "---\n",
      "\n",
      "By combining these strategies, you can create an environment where your muscles grow stronger and larger over time. Consistency and patience are key! 💪\n"
     ]
    }
   ],
   "source": [
    "response = qna_chain.invoke({'context': context, 'question': \"How to gain muscle mass?\", 'words': 50})\n",
    "print(response)"
   ]
  },
  {
   "cell_type": "code",
   "execution_count": 21,
   "metadata": {},
   "outputs": [
    {
     "name": "stdout",
     "output_type": "stream",
     "text": [
      "To reduce weight effectively and safely, consider the following evidence-based strategies, while being cautious about the risks associated with dietary supplements:\n",
      "\n",
      "---\n",
      "\n",
      "### **1. Focus on a Balanced Diet**\n",
      "- **Caloric Deficit**: Create a calorie deficit by consuming fewer calories than you burn. Prioritize whole, unprocessed foods like vegetables, fruits, lean proteins, whole grains, and healthy fats.\n",
      "- **Limit Processed Foods**: Reduce intake of sugary drinks, refined carbohydrates (e.g., white bread, pastries), and highly processed snacks.\n",
      "- **Portion Control**: Use smaller plates, avoid overeating, and eat slowly to enhance satiety.\n",
      "\n",
      "---\n",
      "\n",
      "### **2. Incorporate Regular Physical Activity**\n",
      "- **Aerobic Exercise**: Aim for at least 150 minutes of moderate-intensity aerobic activity (e.g., brisk walking, cycling) or 75 minutes of vigorous activity (e.g., running) per week.\n",
      "- **Strength Training**: Include resistance exercises (e.g., weightlifting, bodyweight workouts) 2–3 times weekly to build muscle and boost metabolism.\n",
      "- **Daily Movement**: Add activity to daily routines (e.g., taking stairs, walking short distances) to increase overall calorie expenditure.\n",
      "\n",
      "---\n",
      "\n",
      "### **3. Stay Hydrated**\n",
      "- Drink water throughout the day to control hunger, support metabolic processes, and reduce calorie intake from sugary beverages.\n",
      "\n",
      "---\n",
      "\n",
      "### **4. Prioritize Sleep and Stress Management**\n",
      "- **Sleep**: Aim for 7–9 hours of quality sleep per night. Poor sleep disrupts hormones regulating hunger and metabolism.\n",
      "- **Stress Reduction**: Chronic stress can lead to overeating and weight gain. Practice mindfulness, meditation, or relaxation techniques.\n",
      "\n",
      "---\n",
      "\n",
      "### **5. Be Cautious with Dietary Supplements**\n",
      "- **Avoid Unregulated Products**: Many weight-loss supplements (e.g., Ephedra, DMAA, green tea extract) have been linked to serious side effects like heart palpitations, liver damage, or strokes. The FDA has banned several due to safety concerns.\n",
      "- **Consult a Healthcare Provider**: If considering supplements, ensure they are FDA-approved and discuss potential interactions with medications.\n",
      "- **Focus on Natural Methods**: Supplements should complement, not replace, lifestyle changes. Prioritize sustainable habits over quick fixes.\n",
      "\n",
      "---\n",
      "\n",
      "### **6. Monitor Progress and Adjust**\n",
      "- Track progress through regular weigh-ins and measurements (e.g., waist circumference). Adjust diet and exercise plans as needed, but avoid extreme diets or rapid weight loss, which can be harmful.\n",
      "\n",
      "---\n",
      "\n",
      "### **Key Takeaways**\n",
      "- **Lifestyle Changes First**: A healthy diet and exercise are foundational to long-term weight management.\n",
      "- **Supplements as a Supplement**: Use supplements only under medical supervision and as part of a holistic plan.\n",
      "- **Avoid Risks**: Be wary of supplements with unproven efficacy or potential for serious side effects.\n",
      "\n",
      "Always consult a healthcare professional before starting any weight-loss program, especially if you have underlying health conditions.\n"
     ]
    }
   ],
   "source": [
    "response = qna_chain.invoke({'context': context, 'question': \"How to reduce the weight?\", 'words': 50})\n",
    "print(response)"
   ]
  },
  {
   "cell_type": "code",
   "execution_count": 22,
   "metadata": {},
   "outputs": [
    {
     "name": "stdout",
     "output_type": "stream",
     "text": [
      "Weight loss requires a combination of dietary adjustments, physical activity, and lifestyle changes. Here's a structured approach:\n",
      "\n",
      "### 1. **Create a Calorie Deficit**\n",
      "   - **Track Intake:** Use apps or journals to monitor daily calorie consumption. Aim for a deficit of 500–750 calories/day for gradual weight loss (0.5–1 kg/week).\n",
      "   - **Prioritize Nutrient-Dense Foods:** Focus on:\n",
      "     - **Proteins:** Lean meats, fish, eggs, legumes, tofu.\n",
      "     - **Fruits/Vegetables:** High in fiber and water, which promote satiety.\n",
      "     - **Whole Grains:** Brown rice, quinoa, oats.\n",
      "     - **Healthy Fats:** Avocados, nuts, olive oil.\n",
      "   - **Limit Processed Foods:** Reduce sugary snacks, refined carbs (white bread, pastries), and high-fat fried foods.\n",
      "\n",
      "### 2. **Incorporate Physical Activity**\n",
      "   - **Cardiovascular Exercise:** Aim for 150 minutes/week of moderate-intensity activities (e.g., brisk walking, cycling) or 75 minutes of vigorous exercise (e.g., running, swimming).\n",
      "   - **Strength Training:** 2–3 times/week to build muscle, which boosts metabolism.\n",
      "   - **Daily Movement:** Take stairs, walk during breaks, or do short workouts to increase calorie burn.\n",
      "\n",
      "### 3. **Behavioral and Lifestyle Adjustments**\n",
      "   - **Mindful Eating:** Eat slowly, avoid distractions (e.g., TV), and savor meals to reduce overeating.\n",
      "   - **Hydration:** Drink water before meals to reduce hunger and boost metabolism.\n",
      "   - **Sleep & Stress Management:** Aim for 7–9 hours of sleep nightly. Chronic stress can increase cortisol, leading to weight gain.\n",
      "   - **Avoid Emotional Eating:** Replace stress or boredom with activities like walking, reading, or journaling.\n",
      "\n",
      "### 4. **Avoid Quick Fixes**\n",
      "   - **No Extreme Diets:** Restrictive diets (e.g., crash diets) can slow metabolism and lead to regain.\n",
      "   - **Focus on Sustainability:** Choose foods you enjoy in moderation. For example, allow occasional treats but in smaller portions.\n",
      "\n",
      "### 5. **Monitor Progress**\n",
      "   - **Track Changes:** Use a journal or app to log meals, workouts, and weight. Celebrate small wins (e.g., 100 steps more daily).\n",
      "   - **Adjust as Needed:** If progress stalls, reassess calorie intake, exercise routine, or stress levels.\n",
      "\n",
      "### 6. **Seek Support**\n",
      "   - **Professional Guidance:** Consult a dietitian or doctor for personalized plans, especially if you have health conditions.\n",
      "   - **Accountability:** Join groups or apps with others pursuing weight loss for motivation.\n",
      "\n",
      "### Example Daily Plan:\n",
      "- **Breakfast:** Greek yogurt with berries and almonds.\n",
      "- **Snack:** Apple with peanut butter.\n",
      "- **Lunch:** Grilled chicken salad with olive oil and quinoa.\n",
      "- **Snack:** Carrot sticks with hummus.\n",
      "- **Dinner:** Baked salmon with steamed broccoli and brown rice.\n",
      "- **Exercise:** 30-minute walk after dinner.\n",
      "\n",
      "**Note:** Individual results vary. Consistency and patience are key. Avoid fad diets or supplements without medical advice.\n"
     ]
    }
   ],
   "source": [
    "response = qna_chain.invoke({'context': context, 'question': \"How to do weight loss?\", 'words': 50})\n",
    "print(response)"
   ]
  },
  {
   "cell_type": "code",
   "execution_count": 23,
   "metadata": {},
   "outputs": [
    {
     "name": "stdout",
     "output_type": "stream",
     "text": [
      "As of the latest data up to 2023, there are **over 5,000 confirmed exoplanets** (planets outside our solar system) discovered by astronomers. This number is constantly growing as new missions like NASA's **TESS (Transiting Exoplanet Survey Satellite)** and ground-based observatories continue to detect more. \n",
      "\n",
      "### Key Points:\n",
      "- **Confirmed Exoplanets**: Over **5,000** (as of 2023).  \n",
      "- **Unconfirmed Candidates**: Thousands more are under study but not yet confirmed.  \n",
      "- **Discovery Methods**: Techniques like the **transit method** (used by Kepler) and **radial velocity** help identify exoplanets.  \n",
      "- **Dwarf Planets vs. Planets**: Exoplanets are distinct from dwarf planets (e.g., Pluto) and are defined by their orbit around a star and sufficient mass to be rounded by gravity.  \n",
      "\n",
      "The exact count fluctuates as new discoveries are made, and some planets may be reclassified or invalidated. For the most current figure, checking the [NASA Exoplanet Archive](https://exoplanetarchive.ipac.caltech.edu/) is recommended.\n"
     ]
    }
   ],
   "source": [
    "response = qna_chain.invoke({'context': context, 'question': \"How many planets are there outside of our solar system?\", 'words': 50})\n",
    "print(response)"
   ]
  },
  {
   "cell_type": "markdown",
   "metadata": {},
   "source": [
    "### Project 2: PDF Document Summarization"
   ]
  },
  {
   "cell_type": "code",
   "execution_count": 24,
   "metadata": {},
   "outputs": [],
   "source": [
    "system = SystemMessagePromptTemplate.from_template(\"\"\"You are helpful AI assistant who works as document summarizer. \n",
    "                                                   You must not hallucinate or provide any false information.\"\"\")\n",
    "\n",
    "prompt = \"\"\"Summarize the given context in {words}.\n",
    "            ### Context:\n",
    "            {context}\n",
    "\n",
    "            ### Summary:\"\"\"\n",
    "\n",
    "prompt = HumanMessagePromptTemplate.from_template(prompt)\n",
    "\n",
    "messages = [system, prompt]\n",
    "template = ChatPromptTemplate(messages)\n",
    "\n",
    "summary_chain = template | llm | StrOutputParser()"
   ]
  },
  {
   "cell_type": "code",
   "execution_count": 25,
   "metadata": {},
   "outputs": [
    {
     "data": {
      "text/plain": [
       "ChatPromptTemplate(input_variables=['context', 'words'], input_types={}, partial_variables={}, messages=[SystemMessagePromptTemplate(prompt=PromptTemplate(input_variables=[], input_types={}, partial_variables={}, template='You are helpful AI assistant who works as document summarizer. \\n                                                   You must not hallucinate or provide any false information.'), additional_kwargs={}), HumanMessagePromptTemplate(prompt=PromptTemplate(input_variables=['context', 'words'], input_types={}, partial_variables={}, template='Summarize the given context in {words}.\\n            ### Context:\\n            {context}\\n\\n            ### Summary:'), additional_kwargs={})])\n",
       "| ChatOllama(model='qwen3', base_url='http://localhost:11434')\n",
       "| StrOutputParser()"
      ]
     },
     "execution_count": 25,
     "metadata": {},
     "output_type": "execute_result"
    }
   ],
   "source": [
    "summary_chain"
   ]
  },
  {
   "cell_type": "code",
   "execution_count": 26,
   "metadata": {},
   "outputs": [
    {
     "name": "stdout",
     "output_type": "stream",
     "text": [
      "**Summary of Dietary Supplements and Nutraceuticals: Safety, Regulation, and Adverse Effects**\n",
      "\n",
      "**Regulatory Frameworks:**  \n",
      "- **United States:** The Dietary Supplement Health and Education Act (DSHEA) allows supplements to be sold without pre-market approval, unlike drugs. The FDA regulates them with limited authority, focusing on post-market safety monitoring. Supplements are labeled as \"dietary supplements\" and cannot claim to treat or prevent diseases.  \n",
      "- **European Union:** Stricter regulations under EC Regulation 1924/2006 define food categories, including supplements, but do not officially recognize \"nutraceuticals.\" The EFSA (European Food Safety Authority) evaluates health claims, requiring clinical evidence for approval.  \n",
      "- **Other Countries:** Japan’s FOSHU (Foods for Specified Health Use) and India’s FSSA (Food Safety and Standards Act) have unique frameworks, often treating supplements as food or drugs depending on context.\n",
      "\n",
      "**Key Adverse Effects and Risks:**  \n",
      "1. **Vitamins and Minerals:**  \n",
      "   - Excess vitamin A (hypervitaminosis) can cause liver damage, bone issues, and congenital abnormalities.  \n",
      "   - High-dose vitamin E may increase bleeding risk and mortality in some studies.  \n",
      "   - Iron or multimineral supplements can lead to iron overload (hemochromatosis) or liver toxicity.  \n",
      "\n",
      "2. **Omega-3/Fish Oil:**  \n",
      "   - Generally safe but may interact with anticoagulants (e.g., warfarin), increasing bleeding risk.  \n",
      "   - Long-term use in cancer patients linked to increased cancer recurrence in some trials.  \n",
      "\n",
      "3. **Protein Powders/Soy Supplements:**  \n",
      "   - Soy isoflavones (genistein, daidzein) may mimic estrogen, potentially affecting reproductive health, especially in children.  \n",
      "   - Chronic use in animals showed reduced fertility and testicular changes, though human data is limited.  \n",
      "\n",
      "4. **Weight-Loss/Bodybuilding Supplements:**  \n",
      "   - **Ephedra (Ma Huang):** Banned in the U.S. due to severe cardiovascular risks (e.g., heart attacks, strokes).  \n",
      "   - **DMAA (1,3-Dimethylamylamine):** Linked to liver failure, hypertension, and cardiac arrest. OxyELITE Pro, a popular supplement, was associated with acute liver injury, possibly due to undisclosed ingredients like aegeline or DMAA.  \n",
      "   - **Sibutramine and Rimonabant:** Illicitly added to weight-loss supplements, causing psychiatric symptoms, hypertension, and cardiac issues.  \n",
      "\n",
      "5. **Herbal Supplements:**  \n",
      "   - **Black Cohosh:** Associated with liver failure and bradycardia.  \n",
      "   - **Kava Kava:** Linked to liver toxicity via oxidative stress and mitochondrial dysfunction.  \n",
      "   - **Ginkgo Biloba and Garlic:** Increased bleeding risk, especially with anticoagulants.  \n",
      "\n",
      "**Notable Cases and Bans:**  \n",
      "- **OxyELITE Pro:** Caused over 100 cases of liver injury, leading to FDA bans on DMAA and aegeline.  \n",
      "- **Ephedra:** Banned in 2004 due to cardiovascular risks.  \n",
      "- **DMAA:** Prohibited by the World Anti-Doping Agency (WADA) as a performance-enhancing drug.  \n",
      "\n",
      "**Regulatory Challenges:**  \n",
      "- Supplements often lack rigorous pre-market safety testing, leading to potential contamination or undisclosed ingredients.  \n",
      "- Adverse effects are underreported, and interactions with medications (e.g., anticoagulants) pose risks.  \n",
      "- Consumer education is critical, as many users do not disclose supplement use to healthcare providers.  \n",
      "\n",
      "**Conclusion:**  \n",
      "While dietary supplements can offer health benefits, their safety depends on strict regulation, transparency, and proper labeling. Adverse effects range from mild to severe, with some ingredients (e.g., ephedra, DMAA) posing significant risks. Regulatory bodies like the FDA and EFSA play key roles in monitoring, but gaps in oversight highlight the need for stricter safety standards and consumer awareness.\n"
     ]
    }
   ],
   "source": [
    "response = summary_chain.invoke({'context': context, 'words': 50})\n",
    "print(response)"
   ]
  },
  {
   "cell_type": "code",
   "execution_count": 27,
   "metadata": {},
   "outputs": [
    {
     "name": "stdout",
     "output_type": "stream",
     "text": [
      "**Summary of Dietary Supplements and Nutraceuticals: Benefits, Risks, and Regulatory Context**\n",
      "\n",
      "**Regulatory Framework:**  \n",
      "In the U.S., dietary supplements are regulated under the Dietary Supplement Health and Education Act (DSHEA) of 1994. Unlike drugs, supplements do not require pre-market approval but are monitored post-market for adverse effects. The FDA ensures safety through post-marketing surveillance, though manufacturers are not required to prove efficacy for specific health conditions.\n",
      "\n",
      "**Key Supplement Categories and Risks:**  \n",
      "1. **Vitamins and Minerals:**  \n",
      "   - **Benefits:** Essential for preventing deficiencies (e.g., scurvy, beriberi).  \n",
      "   - **Risks:** Excess intake (e.g., vitamin A, E) can cause toxicity (liver damage, bleeding).  \n",
      "   - **Interactions:** May interfere with medications (e.g., warfarin).  \n",
      "\n",
      "2. **Omega-3 Fatty Acids (Fish Oil):**  \n",
      "   - **Benefits:** Linked to cardiovascular health, anti-inflammatory effects.  \n",
      "   - **Risks:** High doses may increase bleeding risk, especially with anticoagulants.  \n",
      "\n",
      "3. **Protein Powders (Whey, Soy):**  \n",
      "   - **Benefits:** Support muscle growth and recovery.  \n",
      "   - **Risks:** Soy isoflavones (e.g., genistein) may mimic estrogen, raising concerns about reproductive effects, though evidence is mixed.  \n",
      "\n",
      "4. **Weight-Loss and Bodybuilding Supplements:**  \n",
      "   - **Risks:** Products like ephedra and DMAA (a stimulant) have been banned due to severe side effects (e.g., hypertension, heart attacks, liver damage).  \n",
      "   - **Adulteration:** Some supplements contain unlisted drugs (e.g., sibutramine, rimonabant), leading to serious adverse events.  \n",
      "\n",
      "5. **Botanical Supplements (Herbs):**  \n",
      "   - **Risks:**  \n",
      "     - **Liver toxicity:** Black cohosh, kava, and milk thistle have been linked to liver damage.  \n",
      "     - **Bleeding risk:** Garlic, ginkgo biloba, and ginseng may interact with anticoagulants.  \n",
      "     - **Hormonal effects:** Soy isoflavones and other herbs may affect hormone levels, particularly in children.  \n",
      "\n",
      "**Adverse Effects and Interactions:**  \n",
      "- **Drug-Supplement Interactions:** Common, especially with medications like anticoagulants.  \n",
      "- **Toxicity:** Excessive intake of certain supplements (e.g., vitamin A, DMAA) can lead to severe health issues, including liver failure and cardiovascular events.  \n",
      "- **Lack of Regulation:** Many supplements are not rigorously tested, leading to unlisted harmful ingredients.  \n",
      "\n",
      "**Conclusion:**  \n",
      "While dietary supplements offer potential health benefits, their use carries risks, particularly when taken in excess or combined with medications. Regulatory oversight under DSHEA is limited, emphasizing the need for consumer awareness, healthcare consultation, and further research on long-term safety. Adulteration and inconsistent quality remain significant concerns, underscoring the importance of cautious use and rigorous oversight.\n"
     ]
    }
   ],
   "source": [
    "response = summary_chain.invoke({'context': context, 'words': 500})\n",
    "print(response)"
   ]
  },
  {
   "cell_type": "markdown",
   "metadata": {},
   "source": [
    "### Project 3: Report Generation from PDF Document"
   ]
  },
  {
   "cell_type": "markdown",
   "metadata": {},
   "source": [
    "Streamlit Tutorial: https://www.youtube.com/watch?v=hff2tHUzxJM&list=PLc2rvfiptPSSpZ99EnJbH5LjTJ_nOoSWW"
   ]
  },
  {
   "cell_type": "code",
   "execution_count": 28,
   "metadata": {},
   "outputs": [
    {
     "name": "stdout",
     "output_type": "stream",
     "text": [
      "```markdown\n",
      "# Detailed Report: Adverse Effects of Dietary Supplements and Nutraceuticals\n",
      "\n",
      "## Introduction\n",
      "Dietary supplements and nutraceuticals are widely consumed globally, with over 70% of Americans using them daily. These products are regulated differently from drugs under the Dietary Supplement Health and Education Act (DSHEA) of 1994, which allows manufacturers to market supplements without prior FDA approval. However, this regulatory framework has led to concerns about safety, efficacy, and potential adverse effects. This report explores the benefits, risks, and regulatory challenges associated with common dietary supplements and nutraceuticals.\n",
      "\n",
      "---\n",
      "\n",
      "## Overview of Dietary Supplements and Nutraceuticals\n",
      "Dietary supplements include vitamins, minerals, herbs, and other substances intended to supplement the diet. Nutraceuticals are products derived from food sources that claim to provide health benefits beyond basic nutrition. While some supplements are safe and beneficial, others have been linked to serious adverse effects, including organ damage, cardiovascular events, and drug interactions.\n",
      "\n",
      "---\n",
      "\n",
      "## 1. Vitamins and Minerals\n",
      "### Benefits\n",
      "- Essential for maintaining optimal health.\n",
      "- Prevent deficiencies (e.g., scurvy, beriberi) when consumed in adequate amounts.\n",
      "\n",
      "### Risks\n",
      "- **Toxicity**: Excessive intake of fat-soluble vitamins (e.g., A, D, E, K) can lead to accumulation in the body, causing toxicity. For example:\n",
      "  - **Vitamin A**: Excess intake may cause bone loss and liver damage.\n",
      "  - **Vitamin E**: High doses (>1200 mg/day) can lead to bleeding, diarrhea, and weakened vision.\n",
      "  - **Vitamin B6 (Pyridoxine)**: Doses >500 mg/day may cause sensory neuropathy.\n",
      "- **Clinical Trials**: Studies in well-nourished individuals show no clear health benefits for most vitamins, and some may even increase mortality (e.g., high-dose vitamin E).\n",
      "\n",
      "---\n",
      "\n",
      "## 2. Fish Oil and Omega-3 Fatty Acids\n",
      "### Benefits\n",
      "- May reduce triglycerides and support cardiovascular health.\n",
      "- Anti-inflammatory properties linked to potential cancer and heart disease prevention.\n",
      "\n",
      "### Risks\n",
      "- **Drug Interactions**: May increase bleeding risk when taken with anticoagulants (e.g., warfarin).\n",
      "- **Adverse Effects**: High doses may cause gastrointestinal discomfort or oxidative stress.\n",
      "\n",
      "---\n",
      "\n",
      "## 3. Protein Powders and Infant Formula\n",
      "### Benefits\n",
      "- Popular among athletes for muscle building and recovery.\n",
      "- Soy-based protein isolates (SPI) are used in infant formulas.\n",
      "\n",
      "### Risks\n",
      "- **Estrogenic Effects**: SPI contains isoflavones (e.g., genistein, daidzein) that may mimic estrogen, potentially affecting reproductive health. Studies suggest:\n",
      "  - **Infants**: Early exposure to soy formula may alter puberty timing and hormone levels.\n",
      "  - **Adults**: No significant effects on male reproductive hormones, but long-term effects remain unclear.\n",
      "- **Liver Toxicity**: Contaminants in some products, like **DMAA** (a stimulant), have been linked to liver damage and cardiovascular events.\n",
      "\n",
      "---\n",
      "\n",
      "## 4. Weight-Loss and Bodybuilding Supplements\n",
      "### Benefits\n",
      "- May aid in weight management and muscle gain when used as part of a balanced diet and exercise regimen.\n",
      "\n",
      "### Risks\n",
      "- **Ephedra and DMAA**: \n",
      "  - **Ephedra**: Linked to hypertension, heart attacks, and strokes. Banned by the FDA in 2004 due to severe adverse effects.\n",
      "  - **DMAA**: Associated with liver injury, cardiovascular events, and deaths. Banned in 2012.\n",
      "- **OxyELITE Pro**: A supplement containing DMAA and other ingredients caused outbreaks of acute liver failure and hepatitis. Over 100 cases were reported, with some requiring liver transplants.\n",
      "- **Other Risks**: Contamination with unlisted drugs (e.g., sibutramine, rimonabant) has led to severe side effects like psychiatric episodes and cardiovascular issues.\n",
      "\n",
      "---\n",
      "\n",
      "## 5. Botanical Supplements\n",
      "### Benefits\n",
      "- Traditional herbal remedies with potential therapeutic effects (e.g., black cohosh for menopause, ginkgo biloba for cognitive function).\n",
      "\n",
      "### Risks\n",
      "- **Drug Interactions**: Many botanicals interact with prescription medications. For example:\n",
      "  - **Black cohosh**: Linked to liver damage and bradycardia.\n",
      "  - **Ginkgo biloba**: Increases bleeding risk when combined with anticoagulants.\n",
      "  - **Kava kava**: Associated with liver toxicity and oxidative stress.\n",
      "- **Adverse Effects**: Some botanicals cause gastrointestinal issues, allergic reactions, or hormonal imbalances.\n",
      "\n",
      "---\n",
      "\n",
      "## 6. Regulatory Framework and Safety Concerns\n",
      "### FDA Regulation under DSHEA\n",
      "- **Pre-Market Approval**: Unlike drugs, supplements do not require FDA approval before sale.\n",
      "- **Post-Market Monitoring**: FDA can only act on adverse reports after products are on the market.\n",
      "- **Adulteration**: Supplements may contain unlisted ingredients or banned substances (e.g., DMAA, ephedra).\n",
      "\n",
      "### Key Regulatory Actions\n",
      "- **Ban on Ephedra and DMAA**: FDA banned these substances due to severe health risks.\n",
      "- **OxyELITE Pro Recall**: Products containing DMAA and aegeline were recalled after reports of liver failure and hepatitis.\n",
      "- **Labeling Requirements**: Supplements must list ingredients and disclaimers (e.g., \"This product is not intended to diagnose, treat, or prevent any disease\").\n",
      "\n",
      "### Challenges\n",
      "- **Limited Clinical Trials**: Most supplements lack rigorous testing for safety and efficacy.\n",
      "- **Unlisted Ingredients**: Contamination with undeclared substances poses risks to consumers.\n",
      "\n",
      "---\n",
      "\n",
      "## 7. Conclusion\n",
      "Dietary supplements and nutraceuticals offer potential health benefits but carry significant risks, particularly when misused or contaminated. Regulatory frameworks like DSHEA have enabled widespread availability but also created challenges in ensuring safety. Consumers should consult healthcare providers before use, and stricter regulations are needed to address adulteration, drug interactions, and long-term health impacts. Ongoing research and improved oversight are critical to balancing the benefits and risks of these products.\n",
      "```\n"
     ]
    }
   ],
   "source": [
    "response = qna_chain.invoke({'context': context, \n",
    "                             'question': \"Provide a detailed report from the provided context. Write answer in Markdown.\", \n",
    "                             'words': 2000})\n",
    "print(response)"
   ]
  },
  {
   "cell_type": "code",
   "execution_count": null,
   "metadata": {},
   "outputs": [],
   "source": []
  }
 ],
 "metadata": {
  "kernelspec": {
   "display_name": "langchain-and-ollama",
   "language": "python",
   "name": "python3"
  },
  "language_info": {
   "codemirror_mode": {
    "name": "ipython",
    "version": 3
   },
   "file_extension": ".py",
   "mimetype": "text/x-python",
   "name": "python",
   "nbconvert_exporter": "python",
   "pygments_lexer": "ipython3",
   "version": "3.12.9"
  }
 },
 "nbformat": 4,
 "nbformat_minor": 2
}
