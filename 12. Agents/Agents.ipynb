{
 "cells": [
  {
   "cell_type": "markdown",
   "metadata": {},
   "source": [
    "# Announcement-on-ML\n",
    "<a href='http://www.kgptalkie.com' target=\"_blank\"> <img src='https://github.com/laxmimerit/Important-Announcement-on-ML/raw/master/kgptalkie_strips.png'/></a>\n",
    "\n",
    "# ML Resources\n",
    "|  ML Course | Description |\n",
    "|:---|:---|\n",
    "| [**Deploy LLM App with Ollama and Langchain in Production**](https://www.udemy.com/course/ollama-and-langchain/?referralCode=7F4C0C7B8CF223BA9327) | Master Langchain v0.3, Private Chatbot, Deploy LLM App.  Ollama, LLAMA, LLAMA 3.2, FAISS, RAG, Deploy RAG, Gen AI, LLM|\n",
    "| [**Fine Tuning LLM with HuggingFace Transformers for NLP**](https://www.udemy.com/course/fine-tuning-llm-with-hugging-face-transformers/?referralCode=6DEB3BE17C2644422D8E) | Learn how to fine tune LLM with custom dataset. You will learn basics of transformers then fine tune LLM|\n",
    "| [**Data Visualization in Python Masterclass™: Beginners to Pro**](https://bit.ly/udemy95off_kgptalkie) |  Learn to build Machine Learning and Deep Learning models using Python and its libraries like Scikit-Learn, Keras, and TensorFlow. |\n",
    "| [**Python for Machine Learning: A Step-by-Step Guide**](https://bit.ly/ml-ds-project) | Learn to build Machine Learning and Deep Learning models using Python and its libraries like Scikit-Learn, Keras, and TensorFlow. |\n",
    "| [**Deep Learning for Beginners with Python**](https://bit.ly/dl-with-python) | Neural Networks, TensorFlow, ANN, CNN, RNN, LSTM, Transfer Learning and Much More. |\n",
    "| [**Python for Linear Regression in Machine Learning**](https://bit.ly/regression-python) | Learn to build Linear Regression models using Python and its libraries like Scikit-Learn. |\n",
    "| [**Introduction to Spacy 3 for Natural Language Processing**](https://bit.ly/spacy-intro) | Learn to build Natural Language Processing models using Python and its libraries like Spacy. |\n",
    "| [**Advanced Machine Learning and Deep Learning Projects**](https://bit.ly/kgptalkie_ml_projects) | Learn to build Advanced Machine Learning and Deep Learning models using Python and transformer models like BERT, GPT-2, and XLNet. |\n",
    "| [**Natural Language Processing in Python for Beginners**](https://bit.ly/intro_nlp) | Learn to build Natural Language Processing Projects using Spacy, NLTK, and Gensim, and transformer models like BERT, GPT-2, and XLNet. |\n",
    "| [**Deployment of Machine Learning Models in Production in Python**](https://bit.ly/bert_nlp) |  Learn to deploy Machine Learning and Deep Learning models using Python and its libraries like Flask, Streamlit, and NGINX. |\n",
    "| [**R 4.0 Programming for Data Science - Beginners to Pro**](https://bit.ly/r4-ml) | Learn to build Machine Learning and Deep Learning models using R and its libraries like caret, tidyverse, and keras. |\n"
   ]
  },
  {
   "cell_type": "markdown",
   "metadata": {},
   "source": [
    "## Agents\n",
    "### Your Personal Health Expert "
   ]
  },
  {
   "cell_type": "markdown",
   "metadata": {},
   "source": [
    "- Agents are systems that use an LLM as a reasoning engine to determine which actions to take and what the inputs to those actions should be.\n",
    "- The results of those actions can then be fed back into the agent and it determines whether more actions are needed, or whether it is okay to finish."
   ]
  },
  {
   "cell_type": "code",
   "execution_count": 1,
   "metadata": {},
   "outputs": [
    {
     "data": {
      "text/plain": [
       "True"
      ]
     },
     "execution_count": 1,
     "metadata": {},
     "output_type": "execute_result"
    }
   ],
   "source": [
    "from dotenv import load_dotenv\n",
    "import os\n",
    "\n",
    "os.environ['KMP_DUPLICATE_LIB_OK'] = 'True'\n",
    "\n",
    "load_dotenv()"
   ]
  },
  {
   "cell_type": "code",
   "execution_count": 2,
   "metadata": {},
   "outputs": [
    {
     "data": {
      "text/plain": [
       "AIMessage(content='Hello! How can I assist you today? 😊', additional_kwargs={}, response_metadata={'model': 'qwen3', 'created_at': '2025-10-20T08:44:43.3544708Z', 'done': True, 'done_reason': 'stop', 'total_duration': 900756100, 'load_duration': 59951000, 'prompt_eval_count': 11, 'prompt_eval_duration': 138212100, 'eval_count': 112, 'eval_duration': 677245900, 'model_name': 'qwen3', 'model_provider': 'ollama'}, id='lc_run--8e97125a-1b13-4a76-a8a9-9fbf882949ed-0', usage_metadata={'input_tokens': 11, 'output_tokens': 112, 'total_tokens': 123})"
      ]
     },
     "execution_count": 2,
     "metadata": {},
     "output_type": "execute_result"
    }
   ],
   "source": [
    "from langchain_ollama import ChatOllama \n",
    "from langchain_core.output_parsers import StrOutputParser\n",
    "from langchain_core.runnables import RunnablePassthrough \n",
    "from langchain_core.prompts import ChatPromptTemplate\n",
    "\n",
    "from langchain_core.tools import tool\n",
    "\n",
    "\n",
    "llm = ChatOllama(model='qwen3', base_url='http://localhost:11434')\n",
    "llm.invoke('hi')"
   ]
  },
  {
   "cell_type": "markdown",
   "metadata": {},
   "source": [
    "### Define Tools\n",
    "#### 1. Tavily"
   ]
  },
  {
   "cell_type": "code",
   "execution_count": 3,
   "metadata": {},
   "outputs": [],
   "source": [
    "from langchain_community.tools import TavilySearchResults\n",
    "\n",
    "@tool\n",
    "def search(query: str) -> str:\n",
    "    \"\"\"\n",
    "    Search the web for realtime and latest information.\n",
    "    for examples, news, stock market, weather updates etc.\n",
    "    \n",
    "    Args:\n",
    "    query: The search query\n",
    "    \"\"\"\n",
    "    \n",
    "    search = TavilySearchResults(\n",
    "        max_results=5,\n",
    "        search_depth=\"advanced\",\n",
    "        include_answer=True,\n",
    "        include_raw_content=True,\n",
    "    )\n",
    "    response = search.invoke(query)\n",
    "    return response"
   ]
  },
  {
   "cell_type": "markdown",
   "metadata": {},
   "source": [
    "#### 2. Health Supplements Retriever"
   ]
  },
  {
   "cell_type": "code",
   "execution_count": 4,
   "metadata": {},
   "outputs": [],
   "source": [
    "from langchain_ollama import OllamaEmbeddings\n",
    "\n",
    "import faiss\n",
    "from langchain_community.vectorstores import FAISS \n",
    "from langchain_community.docstore.in_memory import InMemoryDocstore"
   ]
  },
  {
   "cell_type": "code",
   "execution_count": 5,
   "metadata": {},
   "outputs": [],
   "source": [
    "embeddings = OllamaEmbeddings(model='nomic-embed-text', base_url='http://localhost:11434')\n",
    "\n",
    "db_name = r\".\\..\\09. Vector Stores and Retrievals\\health_supplements\"\n",
    "vector_store = FAISS.load_local(db_name, embeddings, allow_dangerous_deserialization=True)\n",
    "\n",
    "retriever = vector_store.as_retriever(search_type = 'similarity', \n",
    "                                      search_kwargs = {'k': 3})"
   ]
  },
  {
   "cell_type": "code",
   "execution_count": 6,
   "metadata": {},
   "outputs": [],
   "source": [
    "@tool\n",
    "def health_supplements(query: str) -> str:\n",
    "    \"\"\"Search for information about Health Supplements.\n",
    "    For any questions about Health and Gym Supplements, you must use this tool!,\n",
    "\n",
    "    Args:\n",
    "        query: The search query.\n",
    "    \"\"\"\n",
    "    response = retriever.invoke(query)\n",
    "    return response"
   ]
  },
  {
   "cell_type": "code",
   "execution_count": 7,
   "metadata": {},
   "outputs": [
    {
     "data": {
      "text/plain": [
       "[Document(id='fd6ca7af-09ea-44bf-b197-655128273c30', metadata={'producer': 'iLovePDF', 'creator': '', 'creationdate': '', 'source': 'rag-dataset\\\\gym supplements\\\\1. Analysis of Actual Fitness Supplement.pdf', 'file_path': 'rag-dataset\\\\gym supplements\\\\1. Analysis of Actual Fitness Supplement.pdf', 'total_pages': 15, 'format': 'PDF 1.7', 'title': '', 'author': '', 'subject': '', 'keywords': '', 'moddate': '2024-10-21T11:38:50+00:00', 'trapped': '', 'modDate': 'D:20241021113850Z', 'creationDate': '', 'page': 0}, page_content='acids than traditional protein sources. Its numerous benefits have made it a popular choice\\nfor snacks and drinks among consumers [3]. Another widely embraced supplement is\\ncaffeine, which is found in many sports and food supplements. Caffeine reduces perceived\\neffort, minimizes fatigue and pain, and proves to be effective for endurance and high-\\nintensity activities, which is the choice of consumers [4].\\nCreatine monohydrate is another well-known supplement used to gain muscle mass\\nand support performance and recovery. It is known not to increase fat mass and remains\\neffective even when taken in recommended doses [5]. Despite its popularity in the fitness\\nFoods 2024, 13, 1424. https://doi.org/10.3390/foods13091424\\nhttps://www.mdpi.com/journal/foods'),\n",
       " Document(id='04dc7e5b-a64c-465b-9b07-464f38ae4974', metadata={'producer': 'iLovePDF', 'creator': '', 'creationdate': '', 'source': 'rag-dataset\\\\gym supplements\\\\1. Analysis of Actual Fitness Supplement.pdf', 'file_path': 'rag-dataset\\\\gym supplements\\\\1. Analysis of Actual Fitness Supplement.pdf', 'total_pages': 15, 'format': 'PDF 1.7', 'title': '', 'author': '', 'subject': '', 'keywords': '', 'moddate': '2024-10-21T11:38:50+00:00', 'trapped': '', 'modDate': 'D:20241021113850Z', 'creationDate': '', 'page': 1}, page_content='Foods 2024, 13, 1424\\n2 of 21\\nand sports industry, evidence suggests that creatine can benefit not only athletes but also\\nthe elderly and the general population [6]. Branched-chain amino acids (BCAA) also offer\\na plethora of benefits for consumers. As explained by Sanz et al. [7], BCAAs are stored\\ndirectly in muscles and serve as the raw materials needed to build new muscle. This\\ncontributes to the overall process of strengthening muscles and alleviating post-workout\\nsoreness. Consumers often integrate these supplements into their routines with the aim of\\noptimizing the outcomes they wish to achieve and support overall well-being [1].\\nThe sports supplement industry makes for an impressive market share of nearly\\n$12 billion in the health/wellness portfolio and is projected to be worth $24.4 billion\\nby 2025. In a study by Burke [4], which investigated 20 published studies about the\\nprevalence, methods, and reasons for supplement consumption, it is evident from the'),\n",
       " Document(id='85b8717a-b463-4ecb-b4f2-6e05b5ba5bd5', metadata={'producer': 'iLovePDF', 'creator': '', 'creationdate': '', 'source': 'rag-dataset\\\\gym supplements\\\\1. Analysis of Actual Fitness Supplement.pdf', 'file_path': 'rag-dataset\\\\gym supplements\\\\1. Analysis of Actual Fitness Supplement.pdf', 'total_pages': 15, 'format': 'PDF 1.7', 'title': '', 'author': '', 'subject': '', 'keywords': '', 'moddate': '2024-10-21T11:38:50+00:00', 'trapped': '', 'modDate': 'D:20241021113850Z', 'creationDate': '', 'page': 12}, page_content='p < 0.001). Based on the constructs, respondents consume fitness supplements with mul-\\ntiple goals in mind, including increasing muscle mass, enhancing performance in fitness\\nactivities, meeting nutritional needs, and supporting the maintenance or initiation of a\\nhealthy lifestyle. They view fitness supplements as versatile tools with a range of posi-\\ntive impacts. The diverse reasons for consumption suggest a comprehensive approach\\nto health, encompassing not only physical well-being but also performance and lifestyle\\nconsiderations. Additionally, they see fitness supplements as instrumental in achieving\\nvarious health-related objectives, from muscle building and performance enhancement to\\nnutritional support and the promotion of a sustainable healthy lifestyle. This is aligned\\nwith the results of Sirico [46], which found that the enhancement of sport performance\\nand overall health and wellness are primary motivations for supplement use. Addition-')]"
      ]
     },
     "execution_count": 7,
     "metadata": {},
     "output_type": "execute_result"
    }
   ],
   "source": [
    "health_supplements.invoke(\"what is the best supplement for muscle gain?\")"
   ]
  },
  {
   "cell_type": "code",
   "execution_count": null,
   "metadata": {},
   "outputs": [],
   "source": []
  },
  {
   "cell_type": "markdown",
   "metadata": {},
   "source": [
    "### Agent Creation"
   ]
  },
  {
   "cell_type": "markdown",
   "metadata": {},
   "source": [
    " - The agent is responsible for taking in input and deciding what actions to take\n",
    " - the Agent does not execute those actions - that is done by the AgentExecutor\n",
    " - `create_tool_calling_agent` will call `.bind_tools` for us under the hood."
   ]
  },
  {
   "cell_type": "code",
   "execution_count": 8,
   "metadata": {},
   "outputs": [],
   "source": [
    "## Get the prompt to use - you can modify this!\n",
    "# prompt = hub.pull(\"hwchase17/openai-functions-agent\")"
   ]
  },
  {
   "cell_type": "code",
   "execution_count": null,
   "metadata": {},
   "outputs": [
    {
     "ename": "ImportError",
     "evalue": "cannot import name 'hub' from 'langchain' (d:\\LLM\\Langchain and Ollama\\.venv\\Lib\\site-packages\\langchain\\__init__.py)",
     "output_type": "error",
     "traceback": [
      "\u001b[31m---------------------------------------------------------------------------\u001b[39m",
      "\u001b[31mImportError\u001b[39m                               Traceback (most recent call last)",
      "\u001b[36mCell\u001b[39m\u001b[36m \u001b[39m\u001b[32mIn[9]\u001b[39m\u001b[32m, line 1\u001b[39m\n\u001b[32m----> \u001b[39m\u001b[32m1\u001b[39m \u001b[38;5;28;01mfrom\u001b[39;00m\u001b[38;5;250m \u001b[39m\u001b[34;01mlangchain\u001b[39;00m\u001b[38;5;250m \u001b[39m\u001b[38;5;28;01mimport\u001b[39;00m hub\n\u001b[32m      3\u001b[39m \u001b[38;5;28;01mfrom\u001b[39;00m\u001b[38;5;250m \u001b[39m\u001b[34;01mlangchain\u001b[39;00m\u001b[34;01m.\u001b[39;00m\u001b[34;01magents\u001b[39;00m\u001b[38;5;250m \u001b[39m\u001b[38;5;28;01mimport\u001b[39;00m create_tool_calling_agent\n\u001b[32m      4\u001b[39m \u001b[38;5;28;01mfrom\u001b[39;00m\u001b[38;5;250m \u001b[39m\u001b[34;01mlangchain\u001b[39;00m\u001b[34;01m.\u001b[39;00m\u001b[34;01magents\u001b[39;00m\u001b[38;5;250m \u001b[39m\u001b[38;5;28;01mimport\u001b[39;00m AgentExecutor\n",
      "\u001b[31mImportError\u001b[39m: cannot import name 'hub' from 'langchain' (d:\\LLM\\Langchain and Ollama\\.venv\\Lib\\site-packages\\langchain\\__init__.py)"
     ]
    }
   ],
   "source": [
    "from langchain import hub\n",
    "\n",
    "from langchain.agents import create_tool_calling_agent\n",
    "from langchain.agents import AgentExecutor"
   ]
  },
  {
   "cell_type": "code",
   "execution_count": 13,
   "metadata": {},
   "outputs": [],
   "source": [
    "prompt = hub.pull(\"hwchase17/openai-functions-agent\")"
   ]
  },
  {
   "cell_type": "code",
   "execution_count": 15,
   "metadata": {},
   "outputs": [
    {
     "data": {
      "text/plain": [
       "[SystemMessagePromptTemplate(prompt=PromptTemplate(input_variables=[], input_types={}, partial_variables={}, template='You are a helpful assistant'), additional_kwargs={}),\n",
       " MessagesPlaceholder(variable_name='chat_history', optional=True),\n",
       " HumanMessagePromptTemplate(prompt=PromptTemplate(input_variables=['input'], input_types={}, partial_variables={}, template='{input}'), additional_kwargs={}),\n",
       " MessagesPlaceholder(variable_name='agent_scratchpad')]"
      ]
     },
     "execution_count": 15,
     "metadata": {},
     "output_type": "execute_result"
    }
   ],
   "source": [
    "prompt.messages"
   ]
  },
  {
   "cell_type": "code",
   "execution_count": 16,
   "metadata": {},
   "outputs": [],
   "source": [
    "tools = [search, health_supplements]\n",
    "agent = create_tool_calling_agent(llm, tools, prompt)"
   ]
  },
  {
   "cell_type": "code",
   "execution_count": 18,
   "metadata": {},
   "outputs": [],
   "source": [
    "agent_executor = AgentExecutor(agent=agent, tools=tools, verbose=True)"
   ]
  },
  {
   "cell_type": "code",
   "execution_count": 24,
   "metadata": {},
   "outputs": [
    {
     "name": "stdout",
     "output_type": "stream",
     "text": [
      "\n",
      "\n",
      "\u001b[1m> Entering new AgentExecutor chain...\u001b[0m\n",
      "\u001b[32;1m\u001b[1;3m\n",
      "Invoking: `health_supplements` with `{'query': 'side effects of taking too much vitamin D'}`\n",
      "\n",
      "\n",
      "\u001b[0m\u001b[33;1m\u001b[1;3m[Document(metadata={'source': 'rag-dataset\\\\health supplements\\\\3.health_supplements_side_effects.pdf', 'file_path': 'rag-dataset\\\\health supplements\\\\3.health_supplements_side_effects.pdf', 'page': 3, 'total_pages': 11, 'format': 'PDF 1.5', 'title': '', 'author': '', 'subject': '', 'keywords': '', 'creator': '', 'producer': 'iLovePDF', 'creationDate': '', 'modDate': 'D:20241021143742Z', 'trapped': ''}, page_content='additional two studies have suggested increased mortality in smokers consuming β-carotene \\nsupplements (18,19). Excess vitamin A supplementation has been suggested to be associated \\nwith adverse effects on bone health including low bone mineral density and increased \\nfracture risk (20). In addition, women consuming large amounts of vitamin A supplements \\nduring pregnancy have been reported to have increased incidence of congenital \\nabnormalities (21). There is also a case report of intra-hepatic cholestasis in a patient with \\nchronic hypervitaminosis A after 12 years of supplement consumption which resolved after \\nsupplements were ceased (22). In addition to toxicity from excess vitamin consumption, \\ntoxicity can arise from excess consumption of minerals. In particular, there is an increasing \\nrisk of hyperchromatosis, an iron storage disease associated with liver injury after excess \\nconsumption of iron or multimineral supplements (23,24). This can be exacerbated by'), Document(metadata={'source': 'rag-dataset\\\\health supplements\\\\3.health_supplements_side_effects.pdf', 'file_path': 'rag-dataset\\\\health supplements\\\\3.health_supplements_side_effects.pdf', 'page': 2, 'total_pages': 11, 'format': 'PDF 1.5', 'title': '', 'author': '', 'subject': '', 'keywords': '', 'creator': '', 'producer': 'iLovePDF', 'creationDate': '', 'modDate': 'D:20241021143742Z', 'trapped': ''}, page_content='adults with no nutritional deficiencies have concluded that there is no clear evidence of \\nbeneficial health effects. These include primary or secondary prevention of chronic diseases \\nincluding cardiovascular disease, cancer, cognitive decline and effects on overall mortality \\n(10,11). Indeed, on the contrary, there is evidence for possible harm based on consumption \\nof individual vitamins and mineral in excess. Toxicity following consumption of water-\\nsoluble vitamins is rare. However, photosensitivity and neurotoxicity have been reported at \\ndoses higher than 500 mg/d of pyridoxine (vitamin B6) (12) and cases of pyridoxine-\\nassociated chronic sensory polyneuropathy have been reported in elderly patients consuming \\nmultivitamin supplements (13). Reports of toxicity associated with overconsumption of \\nsupplemental antioxidant fat-soluble vitamins are more prevalent. Vitamin E is a family of 8 \\nrelated tocopherols and tocotrienols of which α-tocopherol is the form generally used in'), Document(metadata={'source': 'rag-dataset\\\\health supplements\\\\1. dietary supplements - for whom.pdf', 'file_path': 'rag-dataset\\\\health supplements\\\\1. dietary supplements - for whom.pdf', 'page': 15, 'total_pages': 17, 'format': 'PDF 1.7', 'title': '', 'author': '', 'subject': '', 'keywords': '', 'creator': '', 'producer': 'iLovePDF', 'creationDate': '', 'modDate': 'D:20241021113754Z', 'trapped': ''}, page_content='in such cases where the person already has a better nutritional status, including a lack\\nof vitamin and mineral deﬁciencies, supplementation may not be of beneﬁt, and long-\\nterm consumption of excessive quantities of these nutrients may, in fact, have detrimental\\nside effects. The risk of such side effects increases when consumers take several dietary\\nsupplements at the same time (for example, “for immunity”, “for the heart”, or “for an\\nefﬁcient mind”), as they may contain the same vitamins and minerals as each other.\\nOn the other hand, the beneﬁcial effect of using certain nutrients (omega-3 fatty\\nacids) in the treatment of lipid disorders, as demonstrated in studies, undermines the\\nregistration of preparations intended for this purpose as dietary supplements. Dietary\\nsupplements, by their deﬁnition, serve to supplement the usual diet with nutrients or\\ncomponents with a physiological effect, and this group of preparations does not include')]\u001b[0m\u001b[32;1m\u001b[1;3mThe side effects of taking too much vitamin D can include:\n",
      "\n",
      "* Hypercalcemia (high levels of calcium in the blood)\n",
      "* Kidney stone formation\n",
      "* Nausea and vomiting\n",
      "* Diarrhea\n",
      "* Fatigue\n",
      "* Weakness\n",
      "* Headaches\n",
      "* Dizziness\n",
      "* Confusion\n",
      "* Seizures\n",
      "* Coma\n",
      "\n",
      "In severe cases, excessive vitamin D intake can lead to:\n",
      "\n",
      "* Kidney damage\n",
      "* Heart problems\n",
      "* High blood pressure\n",
      "* Stroke\n",
      "* Death\n",
      "\n",
      "It is essential to consult with a healthcare professional before taking any supplements, including vitamin D, to determine the safe and effective dosage for individual needs.\u001b[0m\n",
      "\n",
      "\u001b[1m> Finished chain.\u001b[0m\n"
     ]
    }
   ],
   "source": [
    "# question = \"What is the best supplement for muscle gain?\"\n",
    "# question = \"what's weather in New York?\"\n",
    "question = \"What are the side effects of taking too much vitamin D?\"\n",
    "response = agent_executor.invoke({'input': question})"
   ]
  },
  {
   "cell_type": "code",
   "execution_count": 26,
   "metadata": {},
   "outputs": [
    {
     "name": "stdout",
     "output_type": "stream",
     "text": [
      "The side effects of taking too much vitamin D can include:\n",
      "\n",
      "* Hypercalcemia (high levels of calcium in the blood)\n",
      "* Kidney stone formation\n",
      "* Nausea and vomiting\n",
      "* Diarrhea\n",
      "* Fatigue\n",
      "* Weakness\n",
      "* Headaches\n",
      "* Dizziness\n",
      "* Confusion\n",
      "* Seizures\n",
      "* Coma\n",
      "\n",
      "In severe cases, excessive vitamin D intake can lead to:\n",
      "\n",
      "* Kidney damage\n",
      "* Heart problems\n",
      "* High blood pressure\n",
      "* Stroke\n",
      "* Death\n",
      "\n",
      "It is essential to consult with a healthcare professional before taking any supplements, including vitamin D, to determine the safe and effective dosage for individual needs.\n"
     ]
    }
   ],
   "source": [
    "print(response['output'])"
   ]
  },
  {
   "cell_type": "code",
   "execution_count": null,
   "metadata": {},
   "outputs": [],
   "source": []
  },
  {
   "cell_type": "code",
   "execution_count": null,
   "metadata": {},
   "outputs": [],
   "source": []
  },
  {
   "cell_type": "code",
   "execution_count": null,
   "metadata": {},
   "outputs": [],
   "source": []
  },
  {
   "cell_type": "code",
   "execution_count": null,
   "metadata": {},
   "outputs": [],
   "source": []
  },
  {
   "cell_type": "code",
   "execution_count": null,
   "metadata": {},
   "outputs": [],
   "source": []
  },
  {
   "cell_type": "code",
   "execution_count": null,
   "metadata": {},
   "outputs": [],
   "source": []
  }
 ],
 "metadata": {
  "kernelspec": {
   "display_name": "langchain-and-ollama",
   "language": "python",
   "name": "python3"
  },
  "language_info": {
   "codemirror_mode": {
    "name": "ipython",
    "version": 3
   },
   "file_extension": ".py",
   "mimetype": "text/x-python",
   "name": "python",
   "nbconvert_exporter": "python",
   "pygments_lexer": "ipython3",
   "version": "3.12.9"
  }
 },
 "nbformat": 4,
 "nbformat_minor": 2
}
