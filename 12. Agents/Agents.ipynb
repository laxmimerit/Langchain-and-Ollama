{
 "cells": [
  {
   "cell_type": "markdown",
   "id": "header",
   "metadata": {},
   "source": [
    "## LangChain v1 Agents: Complete Guide\n",
    "\n",
    "## Prerequisites\n",
    "\n",
    "Make sure you have the required packages installed and Ollama running:\n",
    "\n",
    "```bash\n",
    "pip install -U langchain langchain-community langchain-core langgraph\n",
    "pip install -U ddgs python-dotenv\n",
    "```\n",
    "\n",
    "Local LLM Serving with Ollama:\n",
    "```bash\n",
    "ollama pull qwen3\n",
    "ollama pull gemma3\n",
    "```"
   ]
  },
  {
   "cell_type": "code",
   "execution_count": 1,
   "id": "ff713387",
   "metadata": {},
   "outputs": [],
   "source": [
    "# pip install -U langchain langchain-community langchain-core langgraph\n",
    "# pip install -U ddgs python-dotenv"
   ]
  },
  {
   "cell_type": "markdown",
   "id": "d771037b",
   "metadata": {},
   "source": [
    "---\n",
    "## 1. Agent with Explicit Model Instance\n",
    "\n",
    "Full control over model configuration by creating an explicit ChatOllama instance.\n",
    "\n",
    "## Model Parameters Explained\n",
    "- **temperature**: Controls randomness (0.0 = deterministic, 1.0 = very creative)\n",
    "- **num_predict**: Maximum tokens to generate (similar to max_tokens in OpenAI)\n",
    "- **top_k**: Number of highest probability tokens to consider\n",
    "- **top_p**: Cumulative probability threshold for token selection\n",
    "- **repeat_penalty**: Penalty for repeating tokens\n",
    "- **num_ctx**: Context window size"
   ]
  },
  {
   "cell_type": "code",
   "execution_count": 2,
   "id": "28c1f133",
   "metadata": {},
   "outputs": [],
   "source": [
    "from langchain_ollama import ChatOllama\n",
    "from langchain.agents import create_agent\n",
    "import tools"
   ]
  },
  {
   "cell_type": "code",
   "execution_count": 3,
   "id": "ce5005c6",
   "metadata": {},
   "outputs": [],
   "source": [
    "system_prompt = \"\"\"You are a helpful AI assistant. \n",
    "Use the available tools when needed to answer questions accurately.\n",
    "If you need to search for information, use the web_search tool.\n",
    "Always provide clear and concise answers.\n",
    "\"\"\""
   ]
  },
  {
   "cell_type": "code",
   "execution_count": 4,
   "id": "e64aa562",
   "metadata": {},
   "outputs": [
    {
     "name": "stdout",
     "output_type": "stream",
     "text": [
      "Search Results for 'What is Langchain?':\n",
      "\n",
      "\n",
      "1. **使用 LangChain 和 LangGraph 构建一个简单的多智能体系统 - 石头木 -...**\n",
      "   13 hours ago · 本文介绍了一个简单的多智能体系统的实现，使用 LangChain 结合 LangGraph 来构建这样的系统，LangGraph 作为 LangChain 生态的重要组成部分，专为构建有状态、多智能体的工作流而设计，非常适合实现复杂的智能体协作场景。\n",
      "   https://www.cnblogs.com/little-horse/p/19154508\n"
     ]
    }
   ],
   "source": [
    "print(tools.web_search.invoke({\"query\": \"What is Langchain?\", \"num_results\": 1}))"
   ]
  },
  {
   "cell_type": "markdown",
   "id": "2dd770c8",
   "metadata": {},
   "source": [
    "### Your First Agent"
   ]
  },
  {
   "cell_type": "code",
   "execution_count": 5,
   "id": "f8a52081",
   "metadata": {},
   "outputs": [],
   "source": [
    "model = ChatOllama(model=\"qwen3\", base_url=\"http://localhost:11434\")"
   ]
  },
  {
   "cell_type": "code",
   "execution_count": 6,
   "id": "52cd8f87",
   "metadata": {},
   "outputs": [],
   "source": [
    "agent = create_agent(model=model, tools=[tools.web_search], system_prompt=system_prompt)"
   ]
  },
  {
   "cell_type": "code",
   "execution_count": 7,
   "id": "0ab0851c",
   "metadata": {},
   "outputs": [],
   "source": [
    "result = agent.invoke({\"messages\": \"What is the top 10 global news right now?\"})"
   ]
  },
  {
   "cell_type": "code",
   "execution_count": 8,
   "id": "30373743",
   "metadata": {},
   "outputs": [
    {
     "data": {
      "text/plain": [
       "{'messages': [HumanMessage(content='What is the top 10 global news right now?', additional_kwargs={}, response_metadata={}, id='a66b084a-c5a9-4598-828d-2c65af0f76ec'),\n",
       "  AIMessage(content='', additional_kwargs={}, response_metadata={'model': 'qwen3', 'created_at': '2025-10-21T13:32:00.3965031Z', 'done': True, 'done_reason': 'stop', 'total_duration': 3093137100, 'load_duration': 1493448200, 'prompt_eval_count': 245, 'prompt_eval_duration': 36706500, 'eval_count': 284, 'eval_duration': 1460630300, 'model_name': 'qwen3', 'model_provider': 'ollama'}, id='lc_run--55742059-42cc-4cf9-b3cf-1c05180168b9-0', tool_calls=[{'name': 'web_search', 'args': {'num_results': 10, 'query': 'top 10 global news'}, 'id': '6939b9bb-b63d-492f-bf28-f6e82bb75a03', 'type': 'tool_call'}], usage_metadata={'input_tokens': 245, 'output_tokens': 284, 'total_tokens': 529}),\n",
       "  ToolMessage(content='Search Results for \\'top 10 global news\\':\\n\\n\\n1. **Asia Pacific cities hold steady at the top amid global ...**\\n   13 hours ago · Top five APAC cities including Tokyo, Singapore, Beijing, Hong Kong, and Shanghai remained in the top ten of Global Cities Index, underscoring resilience amid global volatility. Asian hubs such as Seoul and Singapore gained momentum on the Global Cities Outlook, through livability and innovation ...\\n   https://www.malaymail.com/news/money/mediaoutreach/2025/10/21/asia-pacific-cities-hold-steady-at-the-top-amid-global-volatility-kearneys-latest-report-finds/420464\\n\\n2. **Global Dividend Stocks To Consider In October 2025**\\n   4 hours ago · As global markets navigate a period of volatility marked by trade tensions, monetary policy shifts, and economic uncertainties across major regions, investors are increasingly looking toward ...\\n   https://finance.yahoo.com/news/global-dividend-stocks-consider-october-093205721.html?fr=sycsrp_catchall\\n\\n3. **Top 10 Daily Cybercrime Brief by FCRF [21.10.2025]: Click ...**\\n   13 hours ago · The Top Ten cyber crime news summaries on The420 are meticulously curated by Future Crime Researchers from the Future Crime Research Foundation (FCRF) and powered by Algoritha Security Pvt. Ltd. These summaries feature the most critical cyber crime developments from around the world. Keep reading and stay safe.\\n   https://the420.in/top-10-daily-cybercrime-brief-by-fcrf-click-here-to-know-more-349/\\n\\n4. **Global Cybersecurity Forum: How can the world guarantee ...**\\n   13 hours ago · The Global Cybersecurity Forum in Riyadh brought together leaders from more than 80 countries to discuss how to better prepare for rapidly evolving online threats.\\n   https://www.euronews.com/2025/10/21/evolving-threats-and-international-cooperation-in-focus-at-the-2025-global-cybersecurity-f\\n\\n5. **NDTV World News | Breaking and Latest World News, International News Headlines – NDTV.com**\\n   14 hours ago - World News: Get Latest and breaking news from World. Today\\'s Top International News Headlines, news on politics, Business, Crime, Sports and Current Affairs.\\n   https://www.ndtv.com/world-news\\n\\n6. **UPI Chile reaches Top 10 in the global ranking of pension systems - UPI.com**\\n   20 hours ago - \"The combination of financial strength and high integrity has allowed Chile to maintain a strong position in the global ranking, remaining the only Latin American country in the Top 10,\" Ramírez said.\\n   https://www.upi.com/Top_News/World-News/2025/10/20/Chile-reaches-Top-10-in-the-global-ranking-of-pension-systems/2791760981240/\\n\\n7. **USA Today Latest World & National News & Headlines - USATODAY.com**\\n   USA TODAY delivers current national and local news, sports, entertainment, finance, technology, and more through award-winning journalism, photos, and videos.\\n   https://www.usatoday.com/\\n\\n8. **Time Out Canada Ranks in Top 10 of 2025 Global Passport Index as the U.S. drops out**\\n   18 hours ago - By entering your email address ... about news, events, offers and partner promotions. ... Canada’s passport ranking stacks up against the world’s most powerful — with one shocking exception. ... The latest passport ranking has been revealed, and Canada has topped the list – with one surprising country dropping out of the top 10. Compiled using Timatic data from the International Air Transport Association (IATA), the Henley Passport Index ranks global mobility by ...\\n   https://www.timeout.com/montreal/news/canada-ranks-in-top-10-of-2025-global-passport-index-as-the-u-s-drops-out-102025\\n\\n9. **Fox News World News Today Updates & Daily Headlines | Fox News**\\n   18 hours ago - Explore the international news happening around the world today. Discover daily world headlines and the breaking events that are happening in the world each day with Fox News.\\n   https://www.foxnews.com/world\\n\\n10. **NDTV NDTV.com - Top News Headlines | Today\\'s Top News Stories, Latest News Today**\\n   2 days ago - Top News Stories of the day, Latest News Headlines, News Specials, Breaking News and Latest India News, World current affairs & Political News all around the clock at NDTV.com.\\n   https://www.ndtv.com/top-stories', name='web_search', id='58a21f8b-d1be-4a1e-9594-2f7d28b2deca', tool_call_id='6939b9bb-b63d-492f-bf28-f6e82bb75a03'),\n",
       "  AIMessage(content=\"Here’s a summary of the top 10 global news highlights based on recent updates:\\n\\n1. **Asia-Pacific Cities Resilient in Global Cities Index**  \\n   Tokyo, Singapore, Beijing, and others remain in the top 10 despite global economic volatility, showcasing Asia's economic strength.  \\n   [Source](https://www.malaymail.com/news/money/mediaoutreach/2025/10/21/asia-pacific-cities-hold-steady-at-the-top-amid-global-volatility-kearneys-latest-report-finds/420464)\\n\\n2. **Global Dividend Stocks Amid Market Volatility**  \\n   Investors are focusing on stable dividend-paying stocks as markets navigate trade tensions and policy shifts.  \\n   [Source](https://finance.yahoo.com/news/global-dividend-stocks-consider-october-093205721.html)\\n\\n3. **Cybercrime Trends: Top 10 Cybersecurity Threats**  \\n   The Global Cybercrime Brief highlights critical threats, emphasizing the need for enhanced digital security.  \\n   [Source](https://the420.in/top-10-daily-cybercrime-brief-by-fcrf-click-here-to-know-more-349/)\\n\\n4. **Global Cybersecurity Forum in Riyadh**  \\n   Over 80 countries convened to address evolving online threats and strengthen international cooperation.  \\n   [Source](https://www.euronews.com/2025/10/21/evolving-threats-and-international-cooperation-in-focus-at-the-2025-global-cybersecurity-f)\\n\\n5. **Chile Enters Top 10 Global Pension Systems**  \\n   Chile ranks as the only Latin American country in the top 10, praised for its financial strength and integrity.  \\n   [Source](https://www.upi.com/Top_News/World-News/2025/10/20/Chile-reaches-Top-10-in-the-global-ranking-of-pension-systems/2791760981240/)\\n\\n6. **Canada’s Passport Ranking Surpasses the U.S.**  \\n   Canada tops the 2025 Global Passport Index, with the U.S. dropping out of the top 10 for the first time.  \\n   [Source](https://www.timeout.com/montreal/news/canada-ranks-in-top-10-of-2025-global-passport-index-as-the-u-s-drops-out-102025)\\n\\n7. **Global News Outlets: NDTV and USA Today**  \\n   These platforms provide real-time updates on international politics, economics, and current affairs.  \\n   [Sources](https://www.ndtv.com/world-news) | [Source](https://www.usatoday.com/)\\n\\n8. **Fox News World Updates**  \\n   Breaking global headlines and daily international news coverage.  \\n   [Source](https://www.foxnews.com/world)\\n\\n9. **Cybersecurity and Economic Trends Dominating Discourse**  \\n   Cybercrime, pension systems, and market stability are key topics in global policy and investment discussions.  \\n\\n10. **Global Mobility and Passport Rankings**  \\n    The Henley Passport Index highlights travel freedom, with Canada leading and the U.S. slipping in rankings.  \\n\\nFor the latest updates, check the sources above for detailed coverage.\", additional_kwargs={}, response_metadata={'model': 'qwen3', 'created_at': '2025-10-21T13:32:09.7794424Z', 'done': True, 'done_reason': 'stop', 'total_duration': 7411736800, 'load_duration': 69297200, 'prompt_eval_count': 1334, 'prompt_eval_duration': 99144600, 'eval_count': 1312, 'eval_duration': 6961042000, 'model_name': 'qwen3', 'model_provider': 'ollama'}, id='lc_run--240465f4-3e6a-42f1-bbb7-837a1757098a-0', usage_metadata={'input_tokens': 1334, 'output_tokens': 1312, 'total_tokens': 2646})]}"
      ]
     },
     "execution_count": 8,
     "metadata": {},
     "output_type": "execute_result"
    }
   ],
   "source": [
    "result"
   ]
  },
  {
   "cell_type": "code",
   "execution_count": 9,
   "id": "8061713c",
   "metadata": {},
   "outputs": [],
   "source": [
    "# print(result['messages'][-1].content)\n",
    "# result['messages'][-1].pretty_print()"
   ]
  },
  {
   "cell_type": "code",
   "execution_count": 10,
   "id": "4573cf51",
   "metadata": {},
   "outputs": [],
   "source": [
    "result1 = agent.invoke(result)"
   ]
  },
  {
   "cell_type": "code",
   "execution_count": 11,
   "id": "8073ffe4",
   "metadata": {},
   "outputs": [
    {
     "data": {
      "text/plain": [
       "{'messages': [HumanMessage(content='What is the top 10 global news right now?', additional_kwargs={}, response_metadata={}, id='a66b084a-c5a9-4598-828d-2c65af0f76ec'),\n",
       "  AIMessage(content='', additional_kwargs={}, response_metadata={'model': 'qwen3', 'created_at': '2025-10-21T13:32:00.3965031Z', 'done': True, 'done_reason': 'stop', 'total_duration': 3093137100, 'load_duration': 1493448200, 'prompt_eval_count': 245, 'prompt_eval_duration': 36706500, 'eval_count': 284, 'eval_duration': 1460630300, 'model_name': 'qwen3', 'model_provider': 'ollama'}, id='lc_run--55742059-42cc-4cf9-b3cf-1c05180168b9-0', tool_calls=[{'name': 'web_search', 'args': {'num_results': 10, 'query': 'top 10 global news'}, 'id': '6939b9bb-b63d-492f-bf28-f6e82bb75a03', 'type': 'tool_call'}], usage_metadata={'input_tokens': 245, 'output_tokens': 284, 'total_tokens': 529}),\n",
       "  ToolMessage(content='Search Results for \\'top 10 global news\\':\\n\\n\\n1. **Asia Pacific cities hold steady at the top amid global ...**\\n   13 hours ago · Top five APAC cities including Tokyo, Singapore, Beijing, Hong Kong, and Shanghai remained in the top ten of Global Cities Index, underscoring resilience amid global volatility. Asian hubs such as Seoul and Singapore gained momentum on the Global Cities Outlook, through livability and innovation ...\\n   https://www.malaymail.com/news/money/mediaoutreach/2025/10/21/asia-pacific-cities-hold-steady-at-the-top-amid-global-volatility-kearneys-latest-report-finds/420464\\n\\n2. **Global Dividend Stocks To Consider In October 2025**\\n   4 hours ago · As global markets navigate a period of volatility marked by trade tensions, monetary policy shifts, and economic uncertainties across major regions, investors are increasingly looking toward ...\\n   https://finance.yahoo.com/news/global-dividend-stocks-consider-october-093205721.html?fr=sycsrp_catchall\\n\\n3. **Top 10 Daily Cybercrime Brief by FCRF [21.10.2025]: Click ...**\\n   13 hours ago · The Top Ten cyber crime news summaries on The420 are meticulously curated by Future Crime Researchers from the Future Crime Research Foundation (FCRF) and powered by Algoritha Security Pvt. Ltd. These summaries feature the most critical cyber crime developments from around the world. Keep reading and stay safe.\\n   https://the420.in/top-10-daily-cybercrime-brief-by-fcrf-click-here-to-know-more-349/\\n\\n4. **Global Cybersecurity Forum: How can the world guarantee ...**\\n   13 hours ago · The Global Cybersecurity Forum in Riyadh brought together leaders from more than 80 countries to discuss how to better prepare for rapidly evolving online threats.\\n   https://www.euronews.com/2025/10/21/evolving-threats-and-international-cooperation-in-focus-at-the-2025-global-cybersecurity-f\\n\\n5. **NDTV World News | Breaking and Latest World News, International News Headlines – NDTV.com**\\n   14 hours ago - World News: Get Latest and breaking news from World. Today\\'s Top International News Headlines, news on politics, Business, Crime, Sports and Current Affairs.\\n   https://www.ndtv.com/world-news\\n\\n6. **UPI Chile reaches Top 10 in the global ranking of pension systems - UPI.com**\\n   20 hours ago - \"The combination of financial strength and high integrity has allowed Chile to maintain a strong position in the global ranking, remaining the only Latin American country in the Top 10,\" Ramírez said.\\n   https://www.upi.com/Top_News/World-News/2025/10/20/Chile-reaches-Top-10-in-the-global-ranking-of-pension-systems/2791760981240/\\n\\n7. **USA Today Latest World & National News & Headlines - USATODAY.com**\\n   USA TODAY delivers current national and local news, sports, entertainment, finance, technology, and more through award-winning journalism, photos, and videos.\\n   https://www.usatoday.com/\\n\\n8. **Time Out Canada Ranks in Top 10 of 2025 Global Passport Index as the U.S. drops out**\\n   18 hours ago - By entering your email address ... about news, events, offers and partner promotions. ... Canada’s passport ranking stacks up against the world’s most powerful — with one shocking exception. ... The latest passport ranking has been revealed, and Canada has topped the list – with one surprising country dropping out of the top 10. Compiled using Timatic data from the International Air Transport Association (IATA), the Henley Passport Index ranks global mobility by ...\\n   https://www.timeout.com/montreal/news/canada-ranks-in-top-10-of-2025-global-passport-index-as-the-u-s-drops-out-102025\\n\\n9. **Fox News World News Today Updates & Daily Headlines | Fox News**\\n   18 hours ago - Explore the international news happening around the world today. Discover daily world headlines and the breaking events that are happening in the world each day with Fox News.\\n   https://www.foxnews.com/world\\n\\n10. **NDTV NDTV.com - Top News Headlines | Today\\'s Top News Stories, Latest News Today**\\n   2 days ago - Top News Stories of the day, Latest News Headlines, News Specials, Breaking News and Latest India News, World current affairs & Political News all around the clock at NDTV.com.\\n   https://www.ndtv.com/top-stories', name='web_search', id='58a21f8b-d1be-4a1e-9594-2f7d28b2deca', tool_call_id='6939b9bb-b63d-492f-bf28-f6e82bb75a03'),\n",
       "  AIMessage(content=\"Here’s a summary of the top 10 global news highlights based on recent updates:\\n\\n1. **Asia-Pacific Cities Resilient in Global Cities Index**  \\n   Tokyo, Singapore, Beijing, and others remain in the top 10 despite global economic volatility, showcasing Asia's economic strength.  \\n   [Source](https://www.malaymail.com/news/money/mediaoutreach/2025/10/21/asia-pacific-cities-hold-steady-at-the-top-amid-global-volatility-kearneys-latest-report-finds/420464)\\n\\n2. **Global Dividend Stocks Amid Market Volatility**  \\n   Investors are focusing on stable dividend-paying stocks as markets navigate trade tensions and policy shifts.  \\n   [Source](https://finance.yahoo.com/news/global-dividend-stocks-consider-october-093205721.html)\\n\\n3. **Cybercrime Trends: Top 10 Cybersecurity Threats**  \\n   The Global Cybercrime Brief highlights critical threats, emphasizing the need for enhanced digital security.  \\n   [Source](https://the420.in/top-10-daily-cybercrime-brief-by-fcrf-click-here-to-know-more-349/)\\n\\n4. **Global Cybersecurity Forum in Riyadh**  \\n   Over 80 countries convened to address evolving online threats and strengthen international cooperation.  \\n   [Source](https://www.euronews.com/2025/10/21/evolving-threats-and-international-cooperation-in-focus-at-the-2025-global-cybersecurity-f)\\n\\n5. **Chile Enters Top 10 Global Pension Systems**  \\n   Chile ranks as the only Latin American country in the top 10, praised for its financial strength and integrity.  \\n   [Source](https://www.upi.com/Top_News/World-News/2025/10/20/Chile-reaches-Top-10-in-the-global-ranking-of-pension-systems/2791760981240/)\\n\\n6. **Canada’s Passport Ranking Surpasses the U.S.**  \\n   Canada tops the 2025 Global Passport Index, with the U.S. dropping out of the top 10 for the first time.  \\n   [Source](https://www.timeout.com/montreal/news/canada-ranks-in-top-10-of-2025-global-passport-index-as-the-u-s-drops-out-102025)\\n\\n7. **Global News Outlets: NDTV and USA Today**  \\n   These platforms provide real-time updates on international politics, economics, and current affairs.  \\n   [Sources](https://www.ndtv.com/world-news) | [Source](https://www.usatoday.com/)\\n\\n8. **Fox News World Updates**  \\n   Breaking global headlines and daily international news coverage.  \\n   [Source](https://www.foxnews.com/world)\\n\\n9. **Cybersecurity and Economic Trends Dominating Discourse**  \\n   Cybercrime, pension systems, and market stability are key topics in global policy and investment discussions.  \\n\\n10. **Global Mobility and Passport Rankings**  \\n    The Henley Passport Index highlights travel freedom, with Canada leading and the U.S. slipping in rankings.  \\n\\nFor the latest updates, check the sources above for detailed coverage.\", additional_kwargs={}, response_metadata={'model': 'qwen3', 'created_at': '2025-10-21T13:32:09.7794424Z', 'done': True, 'done_reason': 'stop', 'total_duration': 7411736800, 'load_duration': 69297200, 'prompt_eval_count': 1334, 'prompt_eval_duration': 99144600, 'eval_count': 1312, 'eval_duration': 6961042000, 'model_name': 'qwen3', 'model_provider': 'ollama'}, id='lc_run--240465f4-3e6a-42f1-bbb7-837a1757098a-0', usage_metadata={'input_tokens': 1334, 'output_tokens': 1312, 'total_tokens': 2646}),\n",
       "  AIMessage(content='', additional_kwargs={}, response_metadata={'model': 'qwen3', 'created_at': '2025-10-21T13:32:09.9577918Z', 'done': True, 'done_reason': 'stop', 'total_duration': 143218100, 'load_duration': 63821000, 'prompt_eval_count': 2053, 'prompt_eval_duration': 69826300, 'eval_count': 1, 'eval_duration': None, 'model_name': 'qwen3', 'model_provider': 'ollama'}, id='lc_run--373f040f-0e47-4ea9-82ea-92612a3b9960-0', usage_metadata={'input_tokens': 2053, 'output_tokens': 1, 'total_tokens': 2054})]}"
      ]
     },
     "execution_count": 11,
     "metadata": {},
     "output_type": "execute_result"
    }
   ],
   "source": [
    "result1"
   ]
  },
  {
   "cell_type": "markdown",
   "id": "experiments",
   "metadata": {},
   "source": [
    "### Experimenting with Different Settings\n",
    "\n",
    "Let's compare different model configurations to see how they affect the output:"
   ]
  },
  {
   "cell_type": "code",
   "execution_count": 12,
   "id": "config1",
   "metadata": {},
   "outputs": [],
   "source": [
    "question = \"What is the capital of France? Provide a brief explanation.\"\n",
    "\n",
    "model1 = ChatOllama(model=\"qwen3\", base_url=\"http://localhost:11434\",\n",
    "                    temperature=0,\n",
    "                    top_p=1,\n",
    "                    repeart_penalty=1.2,\n",
    "                    num_predict=1000,\n",
    "                    num_ctx=4096,\n",
    "                    reasoning=True)\n",
    "\n",
    "agent1 = create_agent(model=model1, tools=[tools.web_search], system_prompt=system_prompt)\n",
    "result1 = agent1.invoke({\"messages\": question})"
   ]
  },
  {
   "cell_type": "code",
   "execution_count": 13,
   "id": "8f1087fa",
   "metadata": {},
   "outputs": [
    {
     "data": {
      "text/plain": [
       "{'messages': [HumanMessage(content='What is the capital of France? Provide a brief explanation.', additional_kwargs={}, response_metadata={}, id='0ad6bb32-a2c6-4791-a2c8-fb1c68d42519'),\n",
       "  AIMessage(content='The capital of France is **Paris**. Paris is not only the political and cultural center of France but also a major global city known for its landmarks like the Eiffel Tower, Louvre Museum, and historic architecture. It serves as the seat of the French government and is a hub for art, fashion, and commerce. \\n\\n', additional_kwargs={'reasoning_content': 'Okay, the user is asking for the capital of France and a brief explanation. Let me start by recalling what I know. France is a country in Europe, and I believe the capital is Paris. But wait, I should make sure that\\'s correct. Maybe I should check using the web_search tool to confirm. Let me think, the function requires a query and optionally the number of results. The query here would be \"capital of France\". The user wants a brief explanation, so maybe the first result will have the answer. I\\'ll call the web_search function with the query \"capital of France\" and maybe set num_results to 1 to get the most relevant answer. Wait, but the default is 10. If I set it to 1, the first result might be the most accurate. Alternatively, maybe the user expects a straightforward answer without needing to search. Since I already know that Paris is the capital, perhaps I can answer directly. But to ensure accuracy, especially if there\\'s any confusion between Paris and another city, using the web_search tool would be better. Let me proceed with the search.\\n'}, response_metadata={'model': 'qwen3', 'created_at': '2025-10-21T13:32:13.6551303Z', 'done': True, 'done_reason': 'stop', 'total_duration': 3668076800, 'load_duration': 1823231600, 'prompt_eval_count': 245, 'prompt_eval_duration': 36240600, 'eval_count': 331, 'eval_duration': 1710376100, 'model_name': 'qwen3', 'model_provider': 'ollama'}, id='lc_run--c1453d89-783a-4a65-b5bb-5c6b9fd591cd-0', tool_calls=[{'name': 'web_search', 'args': {'num_results': 1, 'query': 'capital of France'}, 'id': 'af2ef814-dfb7-4dd7-871e-17ec1ae0c6f8', 'type': 'tool_call'}], usage_metadata={'input_tokens': 245, 'output_tokens': 331, 'total_tokens': 576}),\n",
       "  ToolMessage(content=\"Search Results for 'capital of France':\\n\\n\\n1. **Capital of France**\\n   This is a chronological list of capitals of France. The capital of France has been Paris since its liberation in 1944.\\n   https://en.wikipedia.org/wiki/Capital_of_France\", name='web_search', id='997dc4fd-7c7d-44c7-b7ad-cc75b02fa04e', tool_call_id='af2ef814-dfb7-4dd7-871e-17ec1ae0c6f8'),\n",
       "  AIMessage(content='The capital of France is **Paris**. It has served as the political and administrative center of France since the 3rd century, though it became the official capital after being liberated in 1944. Paris is renowned for its cultural landmarks, historical significance, and role as a global hub for art, fashion, and commerce.', additional_kwargs={'reasoning_content': 'Okay, the user asked for the capital of France and a brief explanation. I remember that Paris is the capital, but I should verify the information. Let me check the web search results.\\n\\nThe first result from Wikipedia confirms that Paris has been the capital since its liberation in 1944. That aligns with my existing knowledge. I need to present this information clearly. The user might be looking for a straightforward answer with a bit of context. I should mention Paris as the capital, note its role as the political center, and maybe add a sentence about its cultural significance. Since the search result mentions the historical context, I can include that to add depth. Make sure the explanation is concise but informative. Alright, time to put it all together.\\n'}, response_metadata={'model': 'qwen3', 'created_at': '2025-10-21T13:32:15.8909785Z', 'done': True, 'done_reason': 'stop', 'total_duration': 1279730400, 'load_duration': 65750900, 'prompt_eval_count': 383, 'prompt_eval_duration': 21400700, 'eval_count': 225, 'eval_duration': 1150699400, 'model_name': 'qwen3', 'model_provider': 'ollama'}, id='lc_run--19d75ff2-0985-4aa9-bd6b-c648fe460992-0', usage_metadata={'input_tokens': 383, 'output_tokens': 225, 'total_tokens': 608})]}"
      ]
     },
     "execution_count": 13,
     "metadata": {},
     "output_type": "execute_result"
    }
   ],
   "source": [
    "result1"
   ]
  },
  {
   "cell_type": "markdown",
   "id": "section3-header",
   "metadata": {},
   "source": [
    "## 2. Dynamic Model Selection (Qwen3 → Gemma3)\n",
    "\n",
    "Cost-optimization strategy where the agent automatically switches between models based on conversation complexity.\n",
    "\n",
    "## Selection Logic\n",
    "- **< 10 messages**: Use Qwen3 (fast, efficient)\n",
    "- **≥ 10 messages**: Use Gemma3 (better reasoning, longer context)\n",
    "\n",
    "## Real-World Applications\n",
    "- Customer service bots (simple queries → Qwen3, complex issues → Gemma3)\n",
    "- Research assistants (quick facts → Qwen3, analysis → Gemma3)"
   ]
  },
  {
   "cell_type": "code",
   "execution_count": 25,
   "id": "import3",
   "metadata": {},
   "outputs": [],
   "source": [
    "# Import required modules\n",
    "from langchain_ollama import ChatOllama\n",
    "from langchain.agents import create_agent, AgentState\n",
    "from langgraph.runtime import Runtime\n",
    "import tools\n",
    "\n",
    "# Import the middleware decorator\n",
    "from langchain.agents.middleware import wrap_model_call, ModelRequest, ModelResponse\n"
   ]
  },
  {
   "cell_type": "code",
   "execution_count": 42,
   "id": "c72dea64",
   "metadata": {},
   "outputs": [],
   "source": [
    "basic_model = ChatOllama(model=\"qwen3\", base_url=\"http://localhost:11434\", num_predict=1000)\n",
    "\n",
    "advanced_model = ChatOllama(model=\"llama3.2\", base_url=\"http://localhost:11434\", num_predict=1000)\n",
    "\n",
    "@wrap_model_call\n",
    "def dynamic_model_selection(request: ModelRequest, handler) -> ModelResponse:\n",
    "    message_count = len(request.state[\"messages\"])\n",
    "\n",
    "    if message_count<3:\n",
    "        print(f\"Using Qwen3 for {message_count} messages\")\n",
    "        request.model = basic_model\n",
    "\n",
    "    else:\n",
    "        print(f\"Using llama3.2 for {message_count} messages\")\n",
    "        request.model = advanced_model\n",
    "\n",
    "    return handler(request)"
   ]
  },
  {
   "cell_type": "code",
   "execution_count": 43,
   "id": "eabcd18b",
   "metadata": {},
   "outputs": [],
   "source": [
    "agent = create_agent(model=basic_model,\n",
    "                     tools = [tools.web_search],\n",
    "                     system_prompt=system_prompt,\n",
    "                     middleware=[dynamic_model_selection])"
   ]
  },
  {
   "cell_type": "code",
   "execution_count": 44,
   "id": "225ebe06",
   "metadata": {},
   "outputs": [
    {
     "data": {
      "image/png": "[encoded data removed]",
      "text/plain": [
       "<langgraph.graph.state.CompiledStateGraph object at 0x000001E97D0C3B90>"
      ]
     },
     "execution_count": 44,
     "metadata": {},
     "output_type": "execute_result"
    }
   ],
   "source": [
    "agent"
   ]
  },
  {
   "cell_type": "code",
   "execution_count": 45,
   "id": "05a2e6c8",
   "metadata": {},
   "outputs": [],
   "source": [
    "def get_agent_output(messages:list):\n",
    "    messages = {'messages': messages} # dict\n",
    "\n",
    "    result = agent.invoke(messages)\n",
    "\n",
    "    return result"
   ]
  },
  {
   "cell_type": "code",
   "execution_count": 46,
   "id": "1540c8d5",
   "metadata": {},
   "outputs": [
    {
     "name": "stdout",
     "output_type": "stream",
     "text": [
      "Using Qwen3 for 2 messages\n",
      "Using llama3.2 for 4 messages\n"
     ]
    }
   ],
   "source": [
    "messages = [\"How are you?\", \"What's the weather in Mumbai today?\"]\n",
    "result = get_agent_output(messages)"
   ]
  },
  {
   "cell_type": "code",
   "execution_count": 47,
   "id": "12a45933",
   "metadata": {},
   "outputs": [
    {
     "data": {
      "text/plain": [
       "{'messages': [HumanMessage(content='How are you?', additional_kwargs={}, response_metadata={}, id='a1846f3d-3768-49ab-b144-dce233bc8772'),\n",
       "  HumanMessage(content=\"What's the weather in Mumbai today?\", additional_kwargs={}, response_metadata={}, id='11a04da6-1c11-4d34-8863-b13249bcc149'),\n",
       "  AIMessage(content='', additional_kwargs={}, response_metadata={'model': 'qwen3', 'created_at': '2025-10-21T13:36:12.359814Z', 'done': True, 'done_reason': 'stop', 'total_duration': 8791898800, 'load_duration': 3312368400, 'prompt_eval_count': 245, 'prompt_eval_duration': 55305100, 'eval_count': 424, 'eval_duration': 5325115900, 'model_name': 'qwen3', 'model_provider': 'ollama'}, id='lc_run--432237fd-32ed-4776-8d9f-4c5cd11ef16e-0', tool_calls=[{'name': 'web_search', 'args': {'num_results': 1, 'query': 'weather in Mumbai today'}, 'id': '576e4f77-beaa-43fe-86a0-9706577cc1ba', 'type': 'tool_call'}], usage_metadata={'input_tokens': 245, 'output_tokens': 424, 'total_tokens': 669}),\n",
       "  ToolMessage(content=\"Search Results for 'weather in Mumbai today':\\n\\n\\n1. **IMD predicts rains, thunderstorm in Mumbai, Thane**\\n   1 hour ago · The India Meteorological Department (IMD) on Tuesday predicted rain, thunderstorms and gusty winds in Mumbai and Thane district. In a now cast warning, issued by the IMD Mumbai at 5 pm on Tuesday ...\\n   https://www.mid-day.com/mumbai/mumbai-news/article/mumbai-rains-imd-predicts-rains-thunderstorm-in-mumbai-and-thane-issues-yellow-alert-23599646\", name='web_search', id='6aa18b3b-fa9b-484a-bbe2-1e9404d844bd', tool_call_id='576e4f77-beaa-43fe-86a0-9706577cc1ba'),\n",
       "  AIMessage(content=\"The current weather in Mumbai today is expected to be rainy with thunderstorms and gusty winds. The India Meteorological Department (IMD) has issued a nowcast warning, predicting heavy rain and strong winds in the city. It's recommended to check for any updates before planning outdoor activities.\", additional_kwargs={}, response_metadata={'model': 'llama3.2', 'created_at': '2025-10-21T13:36:18.3936112Z', 'done': True, 'done_reason': 'stop', 'total_duration': 2928973100, 'load_duration': 2331438100, 'prompt_eval_count': 261, 'prompt_eval_duration': 60374400, 'eval_count': 59, 'eval_duration': 499340700, 'model_name': 'llama3.2', 'model_provider': 'ollama'}, id='lc_run--793cd125-cea9-4f68-b92f-3542db040fb9-0', usage_metadata={'input_tokens': 261, 'output_tokens': 59, 'total_tokens': 320})]}"
      ]
     },
     "execution_count": 47,
     "metadata": {},
     "output_type": "execute_result"
    }
   ],
   "source": [
    "result\n"
   ]
  },
  {
   "cell_type": "code",
   "execution_count": null,
   "id": "1fa0181c",
   "metadata": {},
   "outputs": [],
   "source": []
  },
  {
   "cell_type": "markdown",
   "id": "b35b7700",
   "metadata": {},
   "source": [
    "### Streaming Agent Responses\n",
    "#### Stream Modes\n",
    "- \"values\": Get complete state at each step\n",
    "- \"updates\": Get only the changes/updates\n",
    "- \"messages\": Get only message updates"
   ]
  },
  {
   "cell_type": "code",
   "execution_count": 54,
   "id": "bde9e47a",
   "metadata": {},
   "outputs": [
    {
     "name": "stdout",
     "output_type": "stream",
     "text": [
      "What's the weather in Mumbai today?\n",
      "\n",
      "------\n",
      "Using Qwen3 for 2 messages\n",
      "I'm just a bunch of code, so I don't have feelings, but I'm here to help! 😊\n",
      "\n",
      "For the weather in Mumbai today, let me check that for you...\n",
      "\n",
      "\n",
      "\n",
      "------\n",
      "Search Results for 'weather in Mumbai today':\n",
      "\n",
      "\n",
      "1. **14-day weather forecast for Mumbai . - BBC Weather**\n",
      "   Mumbai - Weather warnings issued. 14-day forecast.See more weather for. Thursday 18th. Last updated today at 12:29.\n",
      "   https://www.bbc.com/weather/1275339\n",
      "\n",
      "------\n",
      "Using llama3.2 for 4 messages\n",
      "I'm just a language model, I don't have feelings or emotions like humans do, but thank you for asking! As for the weather in Mumbai today, according to the latest forecast, there are no specific weather warnings issued. However, you can check the current weather conditions and 14-day forecast on BBC Weather's website for the most up-to-date information: https://www.bbc.com/weather/1275339\n",
      "\n",
      "------\n"
     ]
    }
   ],
   "source": [
    "for chunk in agent.stream({\"messages\": messages}, stream_mode=\"values\"):\n",
    "    print(chunk['messages'][-1].content, end='', flush=True)\n",
    "\n",
    "    print(\"\\n\\n------\")"
   ]
  },
  {
   "cell_type": "code",
   "execution_count": 53,
   "id": "80abaca9",
   "metadata": {},
   "outputs": [
    {
     "name": "stdout",
     "output_type": "stream",
     "text": [
      "Using Qwen3 for 2 messages\n",
      "==================================\u001b[1m Ai Message \u001b[0m==================================\n",
      "\n",
      "I'm just a virtual assistant, but I'm here and ready to help! 😊\n",
      "\n",
      "For the weather in Mumbai today, let me check that for you:\n",
      "Tool Calls:\n",
      "  web_search (67d171bb-8c26-4a1c-899e-573139dfe937)\n",
      " Call ID: 67d171bb-8c26-4a1c-899e-573139dfe937\n",
      "  Args:\n",
      "    num_results: 10\n",
      "    query: weather in Mumbai today\n",
      "{'model': {'messages': [AIMessage(content=\"I'm just a virtual assistant, but I'm here and ready to help! 😊\\n\\nFor the weather in Mumbai today, let me check that for you:\\n\\n\", additional_kwargs={}, response_metadata={'model': 'qwen3', 'created_at': '2025-10-21T13:48:11.2237099Z', 'done': True, 'done_reason': 'stop', 'total_duration': 4622333400, 'load_duration': 63401800, 'prompt_eval_count': 245, 'prompt_eval_duration': 37308800, 'eval_count': 306, 'eval_duration': 4476609200, 'model_name': 'qwen3', 'model_provider': 'ollama'}, id='lc_run--9b563b2b-cb7c-46de-aa2f-bcc6787046b3-0', tool_calls=[{'name': 'web_search', 'args': {'num_results': 10, 'query': 'weather in Mumbai today'}, 'id': '67d171bb-8c26-4a1c-899e-573139dfe937', 'type': 'tool_call'}], usage_metadata={'input_tokens': 245, 'output_tokens': 306, 'total_tokens': 551})]}}\n",
      "\n",
      "\n",
      "------\n",
      "=================================\u001b[1m Tool Message \u001b[0m=================================\n",
      "Name: web_search\n",
      "\n",
      "Search Results for 'weather in Mumbai today':\n",
      "\n",
      "\n",
      "1. **AQI Mumbai Weather Conditions: Temperature | 30 Days Forecast**\n",
      "   9 hours ago - Current weather condition is Overcast with real-time temperature (33°C), humidity 47%, wind 11.5km/h, pressure (1005mb), UV (0.3), visibility (3km) in Maharashtra.\n",
      "   https://www.aqi.in/weather/india/maharashtra/mumbai\n",
      "\n",
      "2. **PredictWind Mumbai Weather Forecast: Hourly & 7-Day Outlook for Maharashtra • PredictWind**\n",
      "   10 hours ago - Mumbai weather forecast with current conditions: 29.450000762939453°C, Mainly clear . Hourly precipitation chances, wind speeds, and 7-day temperature outlook for Maharashtra, India.\n",
      "   https://www.predictwind.com/weather/india/maharashtra/mumbai\n",
      "\n",
      "3. **Times of India Mumbai weather update: Clear skies and pleasant temperatures today despite poor air quality | Mumbai News - The Times of India**\n",
      "   1 day ago - Mumbai wakes to a pleasant, sunny Monday with temperatures around 32.4°C , ideal for outdoor plans. However, yesterday's 'poor' air quality (AQI 188) might persist in congested areas, advising mask use.\n",
      "   https://timesofindia.indiatimes.com/city/mumbai/mumbais-weather-today-sunny-skies-and-poor-air-quality-alerts/articleshow/124697485.cms\n",
      "\n",
      "4. **Weather Weather in Mumbai, India - 7-Day Forecast & Live Conditions**\n",
      "   17 hours ago - Get the latest weather forecast for Mumbai, India. View live conditions, a 7-day forecast, hourly updates, air quality index, and more.\n",
      "   https://weather.now/in/mumbai\n",
      "\n",
      "5. **AQI Navi Mumbai Weather Conditions: Temperature | 30 Days Forecast**\n",
      "   8 hours ago - Current weather condition is Overcast with real-time temperature (33°C), humidity 47%, wind 6.8km/h, pressure (1006mb), UV (0.3), visibility (3km) in Maharashtra.\n",
      "   https://www.aqi.in/weather/in/india/maharashtra/navi-mumbai\n",
      "\n",
      "6. **AQI Mumbai Air Quality Index (AQI) : Real-Time Air Pollution**\n",
      "   12 hours ago - Current Mumbai Air Quality Index (AQI) is 239 Severe level with real-time air pollution PM2.5 (159µg/m³), PM10 (220µg/m³), Temperature (30°C) in Maharashtra.\n",
      "   https://www.aqi.in/in/dashboard/india/maharashtra/mumbai\n",
      "\n",
      "7. **Mumbai Weather Today 21 October 2025, Tomorrow & Weekly IMD**\n",
      "   Mumbai Weather Today (21 October 2025): Today , in Mumbai , temperatures will be between 27 C and 37 C with gentle breezes at 9 km/h, and the coming ...\n",
      "   https://www.timesnownews.com/weather/mumbai\n",
      "\n",
      "8. **Mumbai Weather Today: Heavy Rain, Thunderstorm and Orange Alert**\n",
      "   Mumbai Weather Today : Excessive rain has continued to lash Mumbai , with the India Meteorological Department issuing an orange alert in the ...\n",
      "   https://www.timesnownews.com/mumbai/mumbai-weather-today-heavy-rain-to-drench-city-mumbai-police-hailed-amid-chaos-article-152354559\n",
      "\n",
      "9. **Mumbai Weather Today: Clear Skies, Refreshing Breezes, And**\n",
      "   Mumbai Weather Today : Clear Skies, Refreshing Breezes, And Moderate AQI On December 1 ... Indian Meteorological Department (IMD), Mumbai is set to ...\n",
      "   https://www.oneindia.com/mumbai/mumbai-weather-today-clear-skies-refreshing-breezes-and-moderate-aqi-on-december-1-4002551.html\n",
      "\n",
      "10. **Mumbai Weather Today: Showers To Continue; Check Weather**\n",
      "   Mumbai Weather Today : Showers To Continue; Check Weather Forecast For June 21 ... A yellow weather warning indicates bad weather spanning several ...\n",
      "   https://www.oneindia.com/mumbai/mumbai-weather-today-showers-to-continue-check-weather-forecast-for-june-21-3857577.html\n",
      "\n",
      "\n",
      "------\n",
      "Using llama3.2 for 4 messages\n",
      "==================================\u001b[1m Ai Message \u001b[0m==================================\n",
      "\n",
      "The current weather in Mumbai is mostly clear with a temperature of 33°C (or 29.4°C). There is moderate air quality index (AQI) of 239, classified as \"severe\". However, please note that the weather forecast can change rapidly and the information provided may not be up-to-date.\n",
      "\n",
      "If you're looking for more detailed and real-time weather updates, I recommend checking websites like AQI.in, PredictWind.com, or Weather.Now. These sources provide current conditions, hourly forecasts, 7-day outlooks, and more.\n",
      "\n",
      "Please keep in mind that the weather can change rapidly, so it's always a good idea to check for updates before making any plans.\n",
      "{'model': {'messages': [AIMessage(content='The current weather in Mumbai is mostly clear with a temperature of 33°C (or 29.4°C). There is moderate air quality index (AQI) of 239, classified as \"severe\". However, please note that the weather forecast can change rapidly and the information provided may not be up-to-date.\\n\\nIf you\\'re looking for more detailed and real-time weather updates, I recommend checking websites like AQI.in, PredictWind.com, or Weather.Now. These sources provide current conditions, hourly forecasts, 7-day outlooks, and more.\\n\\nPlease keep in mind that the weather can change rapidly, so it\\'s always a good idea to check for updates before making any plans.', additional_kwargs={}, response_metadata={'model': 'llama3.2', 'created_at': '2025-10-21T13:48:15.6653619Z', 'done': True, 'done_reason': 'stop', 'total_duration': 1499933000, 'load_duration': 76558800, 'prompt_eval_count': 1031, 'prompt_eval_duration': 115953200, 'eval_count': 141, 'eval_duration': 1212075100, 'model_name': 'llama3.2', 'model_provider': 'ollama'}, id='lc_run--087b467d-649e-4997-8bc6-eec347a550ec-0', usage_metadata={'input_tokens': 1031, 'output_tokens': 141, 'total_tokens': 1172})]}}\n",
      "\n",
      "\n",
      "------\n"
     ]
    }
   ],
   "source": [
    "for chunk in agent.stream({\"messages\": messages}, stream_mode=\"updates\"):\n",
    "    # print(chunk, end='', flush=True)\n",
    "    if 'model' in chunk:\n",
    "        chunk['model']['messages'][-1].pretty_print()\n",
    "    if 'tools' in chunk:\n",
    "        chunk['tools']['messages'][-1].pretty_print()\n",
    "    else:\n",
    "        print(chunk)\n",
    "    print(\"\\n\\n------\")"
   ]
  },
  {
   "cell_type": "code",
   "execution_count": null,
   "id": "49954b2f",
   "metadata": {},
   "outputs": [],
   "source": []
  },
  {
   "cell_type": "code",
   "execution_count": null,
   "id": "55f6f7fc",
   "metadata": {},
   "outputs": [],
   "source": []
  },
  {
   "cell_type": "code",
   "execution_count": null,
   "id": "3b538a4b",
   "metadata": {},
   "outputs": [],
   "source": []
  },
  {
   "cell_type": "code",
   "execution_count": null,
   "id": "380ca15d",
   "metadata": {},
   "outputs": [],
   "source": []
  },
  {
   "cell_type": "code",
   "execution_count": null,
   "id": "c1cd681b",
   "metadata": {},
   "outputs": [],
   "source": []
  },
  {
   "cell_type": "code",
   "execution_count": null,
   "id": "b009c27a",
   "metadata": {},
   "outputs": [],
   "source": []
  },
  {
   "cell_type": "code",
   "execution_count": null,
   "id": "ee4b7071",
   "metadata": {},
   "outputs": [],
   "source": []
  }
 ],
 "metadata": {
  "kernelspec": {
   "display_name": "ml",
   "language": "python",
   "name": "python3"
  },
  "language_info": {
   "codemirror_mode": {
    "name": "ipython",
    "version": 3
   },
   "file_extension": ".py",
   "mimetype": "text/x-python",
   "name": "python",
   "nbconvert_exporter": "python",
   "pygments_lexer": "ipython3",
   "version": "3.11.13"
  }
 },
 "nbformat": 4,
 "nbformat_minor": 5
}
