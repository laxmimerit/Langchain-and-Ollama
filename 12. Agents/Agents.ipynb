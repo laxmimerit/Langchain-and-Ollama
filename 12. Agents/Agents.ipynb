{
 "cells": [
  {
   "cell_type": "markdown",
   "id": "header",
   "metadata": {},
   "source": [
    "## LangChain Agents: Complete Guide\n",
    "\n",
    "This notebook demonstrates three different approaches to creating LangChain agents:\n",
    "1. **Basic Agent with Model String** - Simplest approach for quick prototyping\n",
    "2. **Agent with Explicit Model Instance** - Full control over model configuration\n",
    "3. **Dynamic Model Selection** - Cost optimization with automatic model switching\n",
    "\n",
    "## Prerequisites\n",
    "\n",
    "Make sure you have the required packages installed and Ollama running:\n",
    "\n",
    "```bash\n",
    "pip install -U langchain langchain-community langchain-core langgraph\n",
    "pip install -U ddgs python-dotenv\n",
    "```\n",
    "\n",
    "Local LLM Serving with Ollama:\n",
    "```bash\n",
    "ollama pull qwen3\n",
    "ollama pull gpt-oss\n",
    "ollama serve\n",
    "```"
   ]
  },
  {
   "cell_type": "code",
   "execution_count": 17,
   "id": "ff713387",
   "metadata": {},
   "outputs": [],
   "source": [
    "# pip install -U langchain langchain-community langchain-core langgraph\n",
    "# pip install -U ddgs python-dotenv"
   ]
  },
  {
   "cell_type": "markdown",
   "id": "d771037b",
   "metadata": {},
   "source": [
    "---\n",
    "## 1. Agent with Explicit Model Instance\n",
    "\n",
    "Full control over model configuration by creating an explicit ChatOllama instance.\n",
    "\n",
    "## Model Parameters Explained\n",
    "- **temperature**: Controls randomness (0.0 = deterministic, 1.0 = very creative)\n",
    "- **num_predict**: Maximum tokens to generate (similar to max_tokens in OpenAI)\n",
    "- **top_k**: Number of highest probability tokens to consider\n",
    "- **top_p**: Cumulative probability threshold for token selection\n",
    "- **repeat_penalty**: Penalty for repeating tokens\n",
    "- **num_ctx**: Context window size"
   ]
  },
  {
   "cell_type": "code",
   "execution_count": 18,
   "id": "import1",
   "metadata": {},
   "outputs": [],
   "source": [
    "# Import required modules\n",
    "from langchain.agents import create_agent\n",
    "from langchain_ollama import ChatOllama\n",
    "import tools"
   ]
  },
  {
   "cell_type": "code",
   "execution_count": 19,
   "id": "test-tool1",
   "metadata": {},
   "outputs": [
    {
     "name": "stdout",
     "output_type": "stream",
     "text": [
      "Search Results for 'python programming':\n",
      "\n",
      "\n",
      "1. **Python (programming language)**\n",
      "   Python is a high-level, general-purpose programming language. Its design philosophy emphasizes code readability with the use of significant indentation. Python is dynamically type-checked and garbage-collected. It supports multiple programming paradigms, including structured (particularly procedural), object-oriented and functional programming. Guido van Rossum began working on Python in the late 1980s as a successor to the ABC programming language. Python 3.0, released in 2008, was a major revision and not completely backward-compatible with earlier versions. Recent versions, such as Python 3.13, 3.12 and older (and 3.14), have added capabilities and keywords for typing, helping with (optional) static typing. Currently only versions in the 3.x series are supported. Python consistently ranks as one of the most popular programming languages, and it has gained widespread use in the machine learning community. It is widely taught as an introductory programming language.\n",
      "   https://en.wikipedia.org/wiki/Python_(programming_language)\n",
      "\n",
      "2. **Best Programming Languages for Beginners 2025 — Learn ...**\n",
      "   10 hours ago · Discover the best programming languages for beginners 2025 — from Python and JavaScript to Rust and Go. Learn which language fits your goals, why it’s beginner-friendly, and how to build real projects that boost your skills and career.\n",
      "   https://an4t.com/best-programming-languages-for-beginners-2025/\n",
      "\n",
      "3. **Python Async Programming with asyncio: Concurrent Web ...**\n",
      "   10 hours ago · Python Implementation Examples Below are practical Python code snippets for implementing key aspects of Python Async Programming with asyncio: Concurrent Web Scraping and API Integration Patterns 2025.\n",
      "   https://johal.in/python-async-programming-with-asyncio-concurrent-web-scraping-and-api-integration-patterns-2025/\n",
      "\n",
      "4. **Python Physics Lesson 25: Finding E Due to a Charged ... - MSN**\n",
      "   10 hours ago · Physics and Python stuff. Most of the videos here are either adapted from class lectures or solving physics problems. I really like to use numerical calculations without all the fancy programming ...\n",
      "   https://www.msn.com/en-us/video/animals/python-physics-lesson-25-finding-e-due-to-a-charged-sphere-using-monte-carlo/vi-AA1OQE95\n",
      "\n",
      "5. **Introduction to Object Oriented Programming in Python**\n",
      "   10 hours ago · Introduction to Object Oriented Programming in Python GDG on Campus Jomo Kenyatta University of Agriculture and Technology - Juja, Kenya Join us for an engaging session where we unravel the concepts of Object Oriented Programming (OOP) using Python . This ev...\n",
      "   https://gdg.community.dev/events/details/google-gdg-on-campus-jomo-kenyatta-university-of-agriculture-and-technology-juja-kenya-presents-introduction-to-object-oriented-programming-in-python/\n",
      "\n",
      "6. **SwCarpentry Plotting and Programming in Python: Summary and Setup**\n",
      "   11 hours ago - This lesson is an introduction to programming in Python 3 for people with little or no previous programming experience. It uses plotting as its motivating example and is designed to be used in both Data Carpentry and Software Carpentry workshops.\n",
      "   https://swcarpentry.github.io/python-novice-gapminder/\n",
      "\n",
      "7. **The official home of the Python Programming Language**\n",
      "   The core of extensible programming is defining functions. Python allows mandatory and optional arguments, keyword arguments, and even arbitrary argument lists.\n",
      "   https://www.python.org/\n",
      "\n",
      "8. **Python Playground - Programiz**\n",
      "   Python Playground: An online IDE to practice Python programming . Write, edit & run code online. Suitable for all skill levels.\n",
      "   https://programiz.pro/ide/python\n",
      "\n",
      "9. **Learn Python Programming**\n",
      "   Master Python Programming . Perfect for beginners serious about building a career in Python . Created by the Programiz team with over a decade of experience.\n",
      "   https://www.programiz.com/python-programming\n",
      "\n",
      "10. **Python Programming Tutorials**\n",
      "   Python Programming tutorials from beginner to advanced on a massive variety of topics. All video and text tutorials are free.\n",
      "   https://pythonprogramming.net/\n"
     ]
    }
   ],
   "source": [
    "# Test the web search tool\n",
    "print(tools.web_search.invoke(\"python programming\"))"
   ]
  },
  {
   "cell_type": "code",
   "execution_count": 20,
   "id": "65f2838d",
   "metadata": {},
   "outputs": [],
   "source": [
    "# Define system prompt to use across all agents\n",
    "system_prompt = \"\"\"You are a helpful AI assistant. \n",
    "Use the available tools when needed to answer questions accurately.\n",
    "If you need to search for information, use the web_search tool.\n",
    "Always provide clear and concise answers.\"\"\""
   ]
  },
  {
   "cell_type": "code",
   "execution_count": 21,
   "id": "model2",
   "metadata": {},
   "outputs": [],
   "source": [
    "# Create model instance with custom parameters\n",
    "model = ChatOllama(\n",
    "    model=\"qwen3\",\n",
    "    base_url=\"http://localhost:11434\",\n",
    "    temperature=0\n",
    ")"
   ]
  },
  {
   "cell_type": "code",
   "execution_count": 22,
   "id": "agent2",
   "metadata": {},
   "outputs": [],
   "source": [
    "# Create agent with explicit model instance and system prompt\n",
    "agent = create_agent(\n",
    "    model, \n",
    "    tools=[tools.web_search],\n",
    "    system_prompt=system_prompt\n",
    ")"
   ]
  },
  {
   "cell_type": "code",
   "execution_count": 23,
   "id": "invoke2",
   "metadata": {},
   "outputs": [
    {
     "name": "stdout",
     "output_type": "stream",
     "text": [
      "Response: The top global news headlines can be found on the **CNN website** (https://edition.cnn.com/), which provides updates on international events, politics, weather, and other global topics. However, the search result does not specify a single headline, as CNN's homepage aggregates multiple breaking stories. For the most current and specific updates, visit the site directly.\n"
     ]
    }
   ],
   "source": [
    "# Test the agent with a mathematical calculation\n",
    "result = agent.invoke({\n",
    "    \"messages\": \"What is the top global news headline right now?\"\n",
    "})\n",
    "\n",
    "print(f\"Response: {result['messages'][-1].content}\")"
   ]
  },
  {
   "cell_type": "code",
   "execution_count": 24,
   "id": "result2",
   "metadata": {},
   "outputs": [
    {
     "data": {
      "text/plain": [
       "{'messages': [HumanMessage(content='What is the top global news headline right now?', additional_kwargs={}, response_metadata={}, id='619d1c4a-8480-4d00-a12d-dfe0f4f4518d'),\n",
       "  AIMessage(content='', additional_kwargs={}, response_metadata={'model': 'qwen3', 'created_at': '2025-10-21T10:51:25.7055169Z', 'done': True, 'done_reason': 'stop', 'total_duration': 4493980800, 'load_duration': 1520749700, 'prompt_eval_count': 243, 'prompt_eval_duration': 36223000, 'eval_count': 540, 'eval_duration': 2832787000, 'model_name': 'qwen3', 'model_provider': 'ollama'}, id='lc_run--00468f50-cf58-4be5-8f51-c091cdb65024-0', tool_calls=[{'name': 'web_search', 'args': {'num_results': 1, 'query': 'top global news headline'}, 'id': '67edbb8c-fef8-4f1d-813c-ba95ea1eaf4a', 'type': 'tool_call'}], usage_metadata={'input_tokens': 243, 'output_tokens': 540, 'total_tokens': 783}),\n",
       "  ToolMessage(content=\"Search Results for 'top global news headline':\\n\\n\\n1. **Breaking News , Latest News and Videos | CNN**\\n   View the latest news and breaking news today for U.S., world, weather, entertainment, politics and health at CNN.com.\\n   https://edition.cnn.com/\", name='web_search', id='130d45ea-9497-43de-90e2-496bf44f8d16', tool_call_id='67edbb8c-fef8-4f1d-813c-ba95ea1eaf4a'),\n",
       "  AIMessage(content=\"The top global news headlines can be found on the **CNN website** (https://edition.cnn.com/), which provides updates on international events, politics, weather, and other global topics. However, the search result does not specify a single headline, as CNN's homepage aggregates multiple breaking stories. For the most current and specific updates, visit the site directly.\", additional_kwargs={}, response_metadata={'model': 'qwen3', 'created_at': '2025-10-21T10:51:29.0774266Z', 'done': True, 'done_reason': 'stop', 'total_duration': 2332719900, 'load_duration': 74733900, 'prompt_eval_count': 339, 'prompt_eval_duration': 28665600, 'eval_count': 421, 'eval_duration': 2150491100, 'model_name': 'qwen3', 'model_provider': 'ollama'}, id='lc_run--b242934a-0097-474a-b4e2-66c01d139dee-0', usage_metadata={'input_tokens': 339, 'output_tokens': 421, 'total_tokens': 760})]}"
      ]
     },
     "execution_count": 24,
     "metadata": {},
     "output_type": "execute_result"
    }
   ],
   "source": [
    "# View full result\n",
    "result"
   ]
  },
  {
   "cell_type": "code",
   "execution_count": 25,
   "id": "pretty-print2",
   "metadata": {},
   "outputs": [
    {
     "name": "stdout",
     "output_type": "stream",
     "text": [
      "==================================\u001b[1m Ai Message \u001b[0m==================================\n",
      "\n",
      "The top global news headlines can be found on the **CNN website** (https://edition.cnn.com/), which provides updates on international events, politics, weather, and other global topics. However, the search result does not specify a single headline, as CNN's homepage aggregates multiple breaking stories. For the most current and specific updates, visit the site directly.\n"
     ]
    }
   ],
   "source": [
    "# Pretty print the last message\n",
    "result['messages'][-1].pretty_print()"
   ]
  },
  {
   "cell_type": "markdown",
   "id": "experiments",
   "metadata": {},
   "source": [
    "### Experimenting with Different Settings\n",
    "\n",
    "Let's compare different model configurations to see how they affect the output:"
   ]
  },
  {
   "cell_type": "code",
   "execution_count": 26,
   "id": "config1",
   "metadata": {},
   "outputs": [
    {
     "name": "stdout",
     "output_type": "stream",
     "text": [
      "Conservative output: The Earth is the third planet from the Sun and the only known celestial body to support life. Here's a concise overview:\n",
      "\n",
      "1. **Physical Characteristics**:  \n",
      "   - **Size**: ~12,742 km in diameter, making it the fifth-largest planet in the solar system.  \n",
      "   - **Composition**: Primarily rocky (terrestrial planet) with a metallic core, surrounded by a silicate mantle and oceanic crust.  \n",
      "   - **Atmosphere**: Composed mostly of nitrogen (78%) and oxygen (21%), with trace gases like argon and carbon dioxide. The ozone layer shields life from harmful UV radiation.\n",
      "\n",
      "2. **Unique Features**:  \n",
      "   - **Liquid Water**: Vast oceans (covering ~71% of the surface) and freshwater sources sustain ecosystems.  \n",
      "   - **Life**: Hosts an estimated\n",
      "\n"
     ]
    }
   ],
   "source": [
    "question = \"what are the latest global news right now\"\n",
    "question = \"tell me about the earth\"\n",
    "\n",
    "# Configuration 1: Conservative/Deterministic\n",
    "llm1 = ChatOllama(\n",
    "    model=\"qwen3\",\n",
    "    base_url=\"http://localhost:11434\",\n",
    "    temperature=0,\n",
    "    top_p=1,\n",
    "    repeat_penalty=1.1,\n",
    "    num_predict=500,\n",
    "    num_ctx=4096,\n",
    "    reasoning=True\n",
    ")\n",
    "agent = create_agent(llm1, tools=[tools.web_search], system_prompt=system_prompt)\n",
    "result = agent.invoke({\"messages\": question})\n",
    "print(f\"Conservative output: {result['messages'][-1].content}\")\n",
    "print()"
   ]
  },
  {
   "cell_type": "code",
   "execution_count": 27,
   "id": "config2",
   "metadata": {},
   "outputs": [
    {
     "name": "stdout",
     "output_type": "stream",
     "text": [
      "The Earth is the third planet from the Sun in our solar system and is the only known celestial body that supports life. It is a Terrestrial planet composed mainly of rocky/mineral material. Here are some key facts:\n",
      "\n",
      "1. ** Atmosphere.: Gravitational Gradient\n",
      "   \n",
      "垾\n",
      "\n",
      "The Earth has absorbed long ago big lots ... toward remaining at grave rocks or wild creature., into breathing globe ..\n",
      "ложения. \n",
      "\n",
      "\n",
      "\n"
     ]
    }
   ],
   "source": [
    "# Configuration 2: higher creativity\n",
    "question = \"tell me about the earth\"\n",
    "llm = ChatOllama(\n",
    "    model=\"qwen3\",\n",
    "    base_url=\"http://localhost:11434\",\n",
    "    temperature=3,\n",
    "    top_k=2000,\n",
    "    repeat_penalty=1.15,\n",
    "    repeat_last_n=64,\n",
    "    num_predict=1000,\n",
    "    num_ctx=8192,\n",
    "    keep_alive=\"5m\",\n",
    "    reasoning=False\n",
    ")\n",
    "\n",
    "agent = create_agent(llm, tools=[tools.web_search], system_prompt=system_prompt)\n",
    "result = agent.invoke({\"messages\": question})\n",
    "print(result['messages'][-1].content)\n",
    "print()"
   ]
  },
  {
   "cell_type": "markdown",
   "id": "section3-header",
   "metadata": {},
   "source": [
    "## 2. Dynamic Model Selection (Qwen3 → GPT-OSS)\n",
    "\n",
    "Cost-optimization strategy where the agent automatically switches between models based on conversation complexity.\n",
    "\n",
    "## Selection Logic\n",
    "- **< 10 messages**: Use Qwen3 (fast, efficient)\n",
    "- **≥ 10 messages**: Use GPT-OSS (better reasoning, longer context)\n",
    "\n",
    "## Real-World Applications\n",
    "- Customer service bots (simple queries → Qwen3, complex issues → GPT-OSS)\n",
    "- Research assistants (quick facts → Qwen3, analysis → GPT-OSS)"
   ]
  },
  {
   "cell_type": "code",
   "execution_count": 28,
   "id": "import3",
   "metadata": {},
   "outputs": [
    {
     "data": {
      "text/plain": [
       "AIMessage(content='', additional_kwargs={}, response_metadata={'model': 'qwen3', 'created_at': '2025-10-21T10:51:39.5529791Z', 'done': True, 'done_reason': 'stop', 'total_duration': 2778246300, 'load_duration': 1928008500, 'prompt_eval_count': 201, 'prompt_eval_duration': 35767500, 'eval_count': 147, 'eval_duration': 784473700, 'model_name': 'qwen3', 'model_provider': 'ollama'}, id='lc_run--07d3b061-308c-494f-a8d2-56d469a0541b-0', tool_calls=[{'name': 'web_search', 'args': {'num_results': 10, 'query': 'global news headlines today'}, 'id': 'b93cd41f-5f92-4543-b07a-6c237e8b388c', 'type': 'tool_call'}], usage_metadata={'input_tokens': 201, 'output_tokens': 147, 'total_tokens': 348})"
      ]
     },
     "execution_count": 28,
     "metadata": {},
     "output_type": "execute_result"
    }
   ],
   "source": [
    "# Import required modules\n",
    "from langchain_ollama import ChatOllama\n",
    "from langchain.agents import create_agent, AgentState\n",
    "from langgraph.runtime import Runtime\n",
    "import tools\n",
    "\n",
    "llm = ChatOllama(\n",
    "    model=\"qwen3\",\n",
    "    temperature=0,\n",
    "    base_url=\"http://localhost:11434\"\n",
    ").bind_tools([tools.web_search])\n",
    "\n",
    "llm.invoke('What are the global news headlines today?')"
   ]
  },
  {
   "cell_type": "markdown",
   "id": "select-model",
   "metadata": {},
   "source": [
    "## Model Selection Function\n",
    "\n",
    "This function automatically chooses between Qwen3 and GPT-OSS based on conversation length:"
   ]
  },
  {
   "cell_type": "code",
   "execution_count": null,
   "id": "selection-func",
   "metadata": {},
   "outputs": [],
   "source": [
    "# Import the middleware decorator\n",
    "from langchain.agents.middleware import wrap_model_call, ModelRequest, ModelResponse\n",
    "\n",
    "# Define the basic and advanced models\n",
    "basic_model = ChatOllama(\n",
    "    model=\"qwen3\",\n",
    "    temperature=0.1,\n",
    "    base_url=\"http://localhost:11434\"\n",
    ")\n",
    "\n",
    "advanced_model = ChatOllama(\n",
    "    model=\"gpt-oss\",\n",
    "    temperature=0.0,\n",
    "    num_predict=2000,\n",
    "    base_url=\"http://localhost:11434\"\n",
    ")\n",
    "\n",
    "# Use the @wrap_model_call decorator to create middleware\n",
    "@wrap_model_call\n",
    "def dynamic_model_selection(request: ModelRequest, handler) -> ModelResponse:\n",
    "    \"\"\"Choose between Qwen3 and GPT-OSS based on conversation length.\"\"\"\n",
    "    message_count = len(request.state[\"messages\"])\n",
    "\n",
    "    if message_count < 10:\n",
    "        print(f\"Using Qwen3 for {message_count} messages\")\n",
    "        request.model = basic_model\n",
    "    else:\n",
    "        print(f\"Switching to GPT-OSS for {message_count} messages\")\n",
    "        request.model = advanced_model\n",
    "\n",
    "    return handler(request)"
   ]
  },
  {
   "cell_type": "markdown",
   "id": "create-dynamic",
   "metadata": {},
   "source": [
    "## Creating the Dynamic Agent\n",
    "\n",
    "Create an agent that uses our dynamic model selection function:"
   ]
  },
  {
   "cell_type": "code",
   "execution_count": null,
   "id": "agent3",
   "metadata": {},
   "outputs": [],
   "source": [
    "# Create agent with dynamic model selection middleware and system prompt\n",
    "tool_list = [tools.web_search]\n",
    "agent = create_agent(\n",
    "    model=basic_model,  # Default model\n",
    "    tools=tool_list,\n",
    "    system_prompt=system_prompt,\n",
    "    middleware=[dynamic_model_selection]\n",
    ")"
   ]
  },
  {
   "cell_type": "code",
   "execution_count": 31,
   "id": "11663daa",
   "metadata": {},
   "outputs": [
    {
     "data": {
      "image/png": "[encoded data removed]",
      "text/plain": [
       "<langgraph.graph.state.CompiledStateGraph object at 0x000001AE265F16D0>"
      ]
     },
     "execution_count": 31,
     "metadata": {},
     "output_type": "execute_result"
    }
   ],
   "source": [
    "agent"
   ]
  },
  {
   "cell_type": "code",
   "execution_count": 32,
   "id": "8412f915",
   "metadata": {},
   "outputs": [
    {
     "name": "stdout",
     "output_type": "stream",
     "text": [
      "Using Qwen3 for 1 messages\n",
      "Using Qwen3 for 3 messages\n"
     ]
    },
    {
     "data": {
      "text/plain": [
       "{'messages': [HumanMessage(content='What is the capital of France?', additional_kwargs={}, response_metadata={}, id='6d34dd88-cf19-4c23-8a49-6f43170e0c8c'),\n",
       "  AIMessage(content='', additional_kwargs={}, response_metadata={'model': 'qwen3', 'created_at': '2025-10-21T10:51:41.6678414Z', 'done': True, 'done_reason': 'stop', 'total_duration': 1687895100, 'load_duration': 68155000, 'prompt_eval_count': 240, 'prompt_eval_duration': 25953700, 'eval_count': 299, 'eval_duration': 1527544200, 'model_name': 'qwen3', 'model_provider': 'ollama'}, id='lc_run--566195bc-ff72-411d-9f71-afefe431fd7f-0', tool_calls=[{'name': 'web_search', 'args': {'num_results': 1, 'query': 'capital of France'}, 'id': '26dca319-81ae-48cb-b1e3-4e9c255131d8', 'type': 'tool_call'}], usage_metadata={'input_tokens': 240, 'output_tokens': 299, 'total_tokens': 539}),\n",
       "  ToolMessage(content=\"Search Results for 'capital of France':\\n\\n\\n1. **Capital of France**\\n   This is a chronological list of capitals of France. The capital of France has been Paris since its liberation in 1944.\\n   https://en.wikipedia.org/wiki/Capital_of_France\", name='web_search', id='26825023-7b49-4484-b9d9-4b20673a0ff9', tool_call_id='26dca319-81ae-48cb-b1e3-4e9c255131d8'),\n",
       "  AIMessage(content='The capital of France is **Paris**. This has been the case since its liberation in 1944.', additional_kwargs={}, response_metadata={'model': 'qwen3', 'created_at': '2025-10-21T10:51:43.2645688Z', 'done': True, 'done_reason': 'stop', 'total_duration': 755661700, 'load_duration': 59766300, 'prompt_eval_count': 336, 'prompt_eval_duration': 17931900, 'eval_count': 128, 'eval_duration': 645330400, 'model_name': 'qwen3', 'model_provider': 'ollama'}, id='lc_run--d16ae663-9acf-4ec2-a174-269dbd3f659b-0', usage_metadata={'input_tokens': 336, 'output_tokens': 128, 'total_tokens': 464})]}"
      ]
     },
     "execution_count": 32,
     "metadata": {},
     "output_type": "execute_result"
    }
   ],
   "source": [
    "agent.invoke({\"messages\": \"What is the capital of France?\"})"
   ]
  },
  {
   "cell_type": "code",
   "execution_count": 33,
   "id": "demo",
   "metadata": {},
   "outputs": [
    {
     "name": "stdout",
     "output_type": "stream",
     "text": [
      "Len of messages: 9\n",
      "Using Qwen3 for 9 messages\n"
     ]
    }
   ],
   "source": [
    "def demo_conversation_progression(messages):\n",
    "    \"\"\"Demonstrate how the agent switches models as conversation grows.\"\"\"\n",
    "        \n",
    "    # Create a mock state to test model selection\n",
    "    mock_state = {\"messages\": messages}\n",
    "    \n",
    "    # Agent is already created above with middleware\n",
    "    result = agent.invoke(mock_state)\n",
    "\n",
    "    return result\n",
    "\n",
    "messages = [\n",
    "        \"Hello\", \"How are you?\", \"What's the weather?\", \"My name is Laxmi Kant Tiwari\",\n",
    "        \"Explain machine learning\", \"What about deep learning?\", \"Show me examples\",\n",
    "        \"How does this work?\", \"Give me more details\"]\n",
    "\n",
    "print(f\"Len of messages: {len(messages)}\")\n",
    "\n",
    "result = demo_conversation_progression(messages)"
   ]
  },
  {
   "cell_type": "code",
   "execution_count": 35,
   "id": "736c3c40",
   "metadata": {},
   "outputs": [
    {
     "data": {
      "text/plain": [
       "{'messages': [HumanMessage(content='Hello', additional_kwargs={}, response_metadata={}, id='ab652d93-47a8-4f8c-98a3-34f907054038'),\n",
       "  HumanMessage(content='How are you?', additional_kwargs={}, response_metadata={}, id='4866e546-bee1-47fe-bcdc-7758810a36a8'),\n",
       "  HumanMessage(content=\"What's the weather?\", additional_kwargs={}, response_metadata={}, id='c55ec464-a545-4fd9-9faf-8544b4d46a73'),\n",
       "  HumanMessage(content='My name is Laxmi Kant Tiwari', additional_kwargs={}, response_metadata={}, id='948d1309-b10c-4e16-9766-96c05493b85a'),\n",
       "  HumanMessage(content='Explain machine learning', additional_kwargs={}, response_metadata={}, id='f5573220-f5fc-4526-99f9-e5babfa19419'),\n",
       "  HumanMessage(content='What about deep learning?', additional_kwargs={}, response_metadata={}, id='ec1d97dc-b150-4c03-b8ef-809d2091598c'),\n",
       "  HumanMessage(content='Show me examples', additional_kwargs={}, response_metadata={}, id='e7e68dd6-dd53-4358-a6f5-7076071ddf17'),\n",
       "  HumanMessage(content='How does this work?', additional_kwargs={}, response_metadata={}, id='c8efc868-1cd8-4929-818b-c157b3ee724f'),\n",
       "  HumanMessage(content='Give me more details', additional_kwargs={}, response_metadata={}, id='0787c71b-f236-47a1-8d59-4738a5f0cf08'),\n",
       "  HumanMessage(content='What is my name? and summarize my previous questions', additional_kwargs={}, response_metadata={}, id='82d141c1-e1d2-4bde-9573-7814ff1ec6e2'),\n",
       "  AIMessage(content='', additional_kwargs={}, response_metadata={'model': 'gpt-oss', 'created_at': '2025-10-21T10:51:56.9506816Z', 'done': True, 'done_reason': 'stop', 'total_duration': 10696174400, 'load_duration': 3418357000, 'prompt_eval_count': 267, 'prompt_eval_duration': 6679790800, 'eval_count': 110, 'eval_duration': 473613100, 'model_name': 'gpt-oss', 'model_provider': 'ollama'}, id='lc_run--cb42e63f-234c-40f7-bfa2-c11c773f1d17-0', tool_calls=[{'name': 'web_search', 'args': {'num_results': 5, 'query': 'current weather in my location'}, 'id': 'c8988879-e617-4cc9-a9a8-4212399b3f71', 'type': 'tool_call'}], usage_metadata={'input_tokens': 267, 'output_tokens': 110, 'total_tokens': 377}),\n",
       "  ToolMessage(content=\"Search Results for 'current weather in my location':\\n\\n\\n1. **Internet pricing - AT&T Community Forums**\\n   Apr 15, 2020 · When I visit the Internet page on att.com it shows a current promotion for 1000MBPS of $49.99 with a line crossed through the 'regular price' of $70. I'm paying $100 per …\\n   https://forums.att.com/conversations/att-fiber-account/internet-pricing/5e971f4df6e8ee4322055635\\n\\n2. **No call for install appointment 3 weeks following new service order**\\n   Aug 16, 2022 · Considerly current labor shortages all industries are facing, this would be an unknown factor. In all case, you should consider having (2) ISPs if working from home, as …\\n   https://forums.att.com/conversations/att-internet-installation/no-call-for-install-appointment-3-weeks-following-new-service-order/62fb94bab2b2e606ecc2f12f\\n\\n3. **Early upgrade options - AT&T Community Forums**\\n   Sep 11, 2015 · Pay early termination fee on current phone plan (I'm 12 months into a 2 yr contract on an iPhone 6), keep my number, Get 6S plus from Apple under upgrade program, Bring it to …\\n   https://forums.att.com/conversations/wireless-account/early-upgrade-options/5df00b8abad5f2f606e59340\\n\\n4. **turn denon receiver on and off using uverse s20 remote | AT&T ...**\\n   Dec 23, 2020 · My current uverse s20 receiver will turn on my tv and denon receiver plus control the volume. I was able to program the new s20 remote to turn the TV on and off and control …\\n   https://forums.att.com/conversations/uverse-tv-equipment/turn-denon-receiver-on-and-off-using-uverse-s20-remote/5fe3a63435994b51065d5359\\n\\n5. **Valued customer - AT&T Community Forums**\\n   Sep 12, 2019 · My question is why don't at&t try harder to keep current valud customers with incentives when nearing the end of a promotional process. I have been with your cable …\\n   https://forums.att.com/conversations/watching-uverse-tv/valued-customer/5df02e63bad5f2f6060f8e40\", name='web_search', id='741a6a48-1f77-470f-8281-4c87dc1fcddd', tool_call_id='c8988879-e617-4cc9-a9a8-4212399b3f71'),\n",
       "  AIMessage(content=\"Hello Laxmi Kant Tiwari!  \\nI’m doing well—thanks for asking. How can I help you today?\\n\\n---\\n\\n### 1. Weather  \\nI don’t have your current location, so I can’t give a real‑time forecast.  \\nIf you let me know the city or ZIP code, I’ll fetch the latest weather for you.  \\nAlternatively, you can check a weather app or website (e.g., Weather.com, AccuWeather, or your phone’s built‑in weather widget).\\n\\n---\\n\\n### 2. Machine Learning (ML)  \\n- **Definition**: ML is a subset of artificial intelligence that enables computers to learn patterns from data and make predictions or decisions without being explicitly programmed for each task.  \\n- **Key concepts**:\\n  - **Training data**: Examples the model learns from.  \\n  - **Model**: The algorithm (e.g., linear regression, decision tree, neural network).  \\n  - **Loss function**: Measures how far predictions are from true values.  \\n  - **Optimization**: Adjusts model parameters to minimize loss (e.g., gradient descent).  \\n  - **Evaluation**: Tests model on unseen data to gauge performance.\\n\\n---\\n\\n### 3. Deep Learning (DL)  \\n- **Definition**: A specialized branch of ML that uses artificial neural networks with many layers (“deep” networks).  \\n- **Why deep?**  \\n  - **Hierarchical feature extraction**: Early layers learn simple features (edges, colors), deeper layers learn complex concepts (faces, objects).  \\n  - **Large capacity**: Handles high‑dimensional data like images, audio, text.  \\n- **Common architectures**:  \\n  - **CNNs** (Convolutional Neural Networks) – image recognition.  \\n  - **RNNs / LSTMs / GRUs** – sequential data (speech, text).  \\n  - **Transformers** – state‑of‑the‑art for NLP (e.g., GPT, BERT).  \\n- **Training**: Requires big datasets, GPUs/TPUs, and often millions of parameters.\\n\\n---\\n\\n### 4. Examples  \\n| Task | Typical ML/DL model | Example |\\n|------|---------------------|---------|\\n| Image classification | CNN (ResNet, VGG) | Recognizing cats vs. dogs |\\n| Speech recognition | RNN/Transformer | Converting spoken words to text |\\n| Sentiment analysis | LSTM or BERT | Determining if a review is positive or negative |\\n| Recommendation | Matrix factorization or deep collaborative filtering | Suggesting movies on Netflix |\\n| Autonomous driving | CNN + reinforcement learning | Detecting lanes, pedestrians, and making driving decisions |\\n\\n---\\n\\n### 5. How it works (high‑level pipeline)  \\n1. **Data collection** – Gather labeled examples.  \\n2. **Preprocessing** – Clean, normalize, augment data.  \\n3. **Model selection** – Choose architecture (e.g., linear regression, CNN).  \\n4. **Training** – Feed data, compute loss, update weights via backpropagation.  \\n5. **Validation** – Tune hyperparameters, avoid overfitting.  \\n6. **Testing** – Evaluate on unseen data.  \\n7. **Deployment** – Integrate model into an application or service.  \\n8. **Monitoring & retraining** – Keep performance up‑to‑date with new data.\\n\\n---\\n\\n### 6. More details  \\n- **Supervised vs. unsupervised vs. reinforcement learning**  \\n- **Feature engineering vs. end‑to‑end learning**  \\n- **Explainability & fairness**  \\n- **Hardware acceleration (GPUs, TPUs, FPGAs)**  \\n- **Popular libraries**: TensorFlow, PyTorch, scikit‑learn, Keras, XGBoost\\n\\n---\\n\\n### 7. Your name  \\nYou mentioned: **Laxmi Kant Tiwari**.\\n\\n---\\n\\n### 8. Summary of your previous questions  \\n| # | Question |\\n|---|----------|\\n| 1 | How are you? |\\n| 2 | What's the weather? |\\n| 3 | My name is Laxmi Kant Tiwari |\\n| 4 | Explain machine learning |\\n| 5 | What about deep learning? |\\n| 6 | Show me examples |\\n| 7 | How does this work? |\\n| 8 | Give me more details |\\n| 9 | What is my name? and summarize my previous questions |\\n\\nLet me know if you’d like deeper dives into any of these topics or if you can share your location for the weather!\", additional_kwargs={}, response_metadata={'model': 'gpt-oss', 'created_at': '2025-10-21T10:52:03.1208588Z', 'done': True, 'done_reason': 'stop', 'total_duration': 5064815800, 'load_duration': 141211300, 'prompt_eval_count': 824, 'prompt_eval_duration': 74511700, 'eval_count': 1064, 'eval_duration': 4491827300, 'model_name': 'gpt-oss', 'model_provider': 'ollama'}, id='lc_run--9a88e8a2-8b60-4a5c-91d2-af402b899e91-0', usage_metadata={'input_tokens': 824, 'output_tokens': 1064, 'total_tokens': 1888})]}"
      ]
     },
     "execution_count": 35,
     "metadata": {},
     "output_type": "execute_result"
    }
   ],
   "source": [
    "result"
   ]
  },
  {
   "cell_type": "code",
   "execution_count": 34,
   "id": "11d4f5fb",
   "metadata": {},
   "outputs": [
    {
     "name": "stdout",
     "output_type": "stream",
     "text": [
      "Len of messages: 10\n",
      "Switching to GPT-OSS for 10 messages\n",
      "Switching to GPT-OSS for 12 messages\n"
     ]
    }
   ],
   "source": [
    "messages = [\n",
    "        \"Hello\", \"How are you?\", \"What's the weather?\", \"My name is Laxmi Kant Tiwari\",\n",
    "        \"Explain machine learning\", \"What about deep learning?\", \"Show me examples\",\n",
    "        \"How does this work?\", \"Give me more details\", \"What is my name? and summarize my previous questions\"]\n",
    "\n",
    "print(f\"Len of messages: {len(messages)}\")\n",
    "\n",
    "result = demo_conversation_progression(messages)"
   ]
  },
  {
   "cell_type": "code",
   "execution_count": null,
   "id": "3b538a4b",
   "metadata": {},
   "outputs": [],
   "source": []
  }
 ],
 "metadata": {
  "kernelspec": {
   "display_name": "ml",
   "language": "python",
   "name": "python3"
  },
  "language_info": {
   "codemirror_mode": {
    "name": "ipython",
    "version": 3
   },
   "file_extension": ".py",
   "mimetype": "text/x-python",
   "name": "python",
   "nbconvert_exporter": "python",
   "pygments_lexer": "ipython3",
   "version": "3.11.13"
  }
 },
 "nbformat": 4,
 "nbformat_minor": 5
}
