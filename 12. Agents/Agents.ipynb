{
 "cells": [
  {
   "cell_type": "markdown",
   "id": "header",
   "metadata": {},
   "source": [
    "## LangChain v1 Agents: Complete Guide\n",
    "\n",
    "## Prerequisites\n",
    "\n",
    "Make sure you have the required packages installed and Ollama running:\n",
    "\n",
    "```bash\n",
    "pip install -U langchain langchain-community langchain-core langgraph\n",
    "pip install -U ddgs python-dotenv\n",
    "```\n",
    "\n",
    "Local LLM Serving with Ollama:\n",
    "```bash\n",
    "ollama pull qwen3\n",
    "ollama pull gemma3\n",
    "```"
   ]
  },
  {
   "cell_type": "code",
   "execution_count": 1,
   "id": "ff713387",
   "metadata": {},
   "outputs": [],
   "source": [
    "# pip install -U langchain langchain-community langchain-core langgraph\n",
    "# pip install -U ddgs python-dotenv"
   ]
  },
  {
   "cell_type": "markdown",
   "id": "d771037b",
   "metadata": {},
   "source": [
    "---\n",
    "## 1. Agent with Explicit Model Instance\n",
    "\n",
    "Full control over model configuration by creating an explicit ChatOllama instance.\n",
    "\n",
    "## Model Parameters Explained\n",
    "- **temperature**: Controls randomness (0.0 = deterministic, 1.0 = very creative)\n",
    "- **num_predict**: Maximum tokens to generate (similar to max_tokens in OpenAI)\n",
    "- **top_k**: Number of highest probability tokens to consider\n",
    "- **top_p**: Cumulative probability threshold for token selection\n",
    "- **repeat_penalty**: Penalty for repeating tokens\n",
    "- **num_ctx**: Context window size"
   ]
  },
  {
   "cell_type": "code",
   "execution_count": 2,
   "id": "28c1f133",
   "metadata": {},
   "outputs": [],
   "source": [
    "from langchain_ollama import ChatOllama\n",
    "from langchain.agents import create_agent\n",
    "import tools"
   ]
  },
  {
   "cell_type": "code",
   "execution_count": 3,
   "id": "ce5005c6",
   "metadata": {},
   "outputs": [],
   "source": [
    "system_prompt = \"\"\"You are a helpful AI assistant. \n",
    "Use the available tools when needed to answer questions accurately.\n",
    "If you need to search for information, use the web_search tool.\n",
    "Always provide clear and concise answers.\n",
    "\"\"\""
   ]
  },
  {
   "cell_type": "code",
   "execution_count": 4,
   "id": "e64aa562",
   "metadata": {},
   "outputs": [
    {
     "name": "stdout",
     "output_type": "stream",
     "text": [
      "Search Results for 'What is Langchain?':\n",
      "\n",
      "\n",
      "1. **What is Langchain? - Analytics Vidhya**\n",
      "   This is where LangChain comes into play, a powerful open-source Python framework designed to simplify the development of LLM-powered applications.\n",
      "   https://www.analyticsvidhya.com/blog/2024/06/langchain-guide/\n"
     ]
    }
   ],
   "source": [
    "print(tools.web_search.invoke({\"query\": \"What is Langchain?\", \"num_results\": 1}))"
   ]
  },
  {
   "cell_type": "markdown",
   "id": "2dd770c8",
   "metadata": {},
   "source": [
    "### Your First Agent"
   ]
  },
  {
   "cell_type": "code",
   "execution_count": 5,
   "id": "f8a52081",
   "metadata": {},
   "outputs": [],
   "source": [
    "model = ChatOllama(model=\"qwen3\", base_url=\"http://localhost:11434\")"
   ]
  },
  {
   "cell_type": "code",
   "execution_count": 6,
   "id": "52cd8f87",
   "metadata": {},
   "outputs": [],
   "source": [
    "agent = create_agent(model=model, tools=[tools.web_search], system_prompt=system_prompt)"
   ]
  },
  {
   "cell_type": "code",
   "execution_count": 7,
   "id": "0ab0851c",
   "metadata": {},
   "outputs": [],
   "source": [
    "result = agent.invoke({\"messages\": \"What is the top 10 global news right now?\"})"
   ]
  },
  {
   "cell_type": "code",
   "execution_count": 8,
   "id": "30373743",
   "metadata": {},
   "outputs": [
    {
     "data": {
      "text/plain": [
       "{'messages': [HumanMessage(content='What is the top 10 global news right now?', additional_kwargs={}, response_metadata={}, id='78d2e47c-9c61-442f-a04b-bc2d50d9f025'),\n",
       "  AIMessage(content='', additional_kwargs={}, response_metadata={'model': 'qwen3', 'created_at': '2025-10-22T07:13:33.7883702Z', 'done': True, 'done_reason': 'stop', 'total_duration': 2060956000, 'load_duration': 63019700, 'prompt_eval_count': 245, 'prompt_eval_duration': 209356700, 'eval_count': 321, 'eval_duration': 1716988700, 'model_name': 'qwen3', 'model_provider': 'ollama'}, id='lc_run--c565ff28-bb94-43a8-a6e7-d142ee899539-0', tool_calls=[{'name': 'web_search', 'args': {'num_results': 10, 'query': 'top 10 global news'}, 'id': '6f0a30ef-6f8f-4c95-bc55-3704e5e25b11', 'type': 'tool_call'}], usage_metadata={'input_tokens': 245, 'output_tokens': 321, 'total_tokens': 566}),\n",
       "  ToolMessage(content=\"Search Results for 'top 10 global news':\\n\\n\\n1. **What are the top 10 global news stories that have made**\\n   What are the top 10 global news stories that have made significant impact and received extensive media coverage? ... top global news stories can vary ...\\n   https://newsfinding.com/2023/06/28/what-are-the-top-10-global-news-stories-that-have-made-significant-impact-and-received-extensive-media-coverage/\\n\\n2. **What are the top 10 most significant global news stories this**\\n   It is subjective to determine the top 10 most significant global news stories, as perceptions may vary depending on individual interests and regional ...\\n   https://e-newsprint.com/what-are-the-top-10-most-significant-global-news-stories-this-year/\\n\\n3. **2017: Top 10 Global News — G.L.O.B.A.L. Justice**\\n   2017: Top 10 Global News ... The following is a summary of what I consider to be the “ Top 10 ” most significant news stories of 2017:\\n   https://globaljusticeonline.org/commentary/2019/4/16/2017-top-10-global-news\\n\\n4. **Top 10 Global News of 2016 — G.L.O.B.A.L. Justice**\\n   ... global news , on a variety of topics and from a range of regions and sources. ... But here are my selections for the “ Top 10 Global News of 2016:”\\n   https://globaljusticeonline.org/commentary/2019/4/18/top-10-global-news-of-2016\\n\\n5. **Top 10 world news: Zelensky proposes global peace summit, Iran**\\n   Top 10 world news : Zelensky proposes global peace summit, Iran to launch two satellites, & more ... Top 10 world news\\n   https://www.wionews.com/world/top-10-world-news-zelensky-proposes-global-peace-summit-iran-to-launch-two-satellites-more-544310\\n\\n6. **Top Headlines For Current Global News Online - Gift Ideas**\\n   The ‘ Top 10s ’ ought to go too – and they ... There are some perfectly valid top 10 lists and a few are incredibly useful.\\n   https://babyshowerpin.com/general-articles/top-headlines-for-current-global-news-online.html\\n\\n7. **Top 21 World News on December 2, 2019, Ranked: From 200**\\n   The Top 20+ World News of the Day Ranking is a daily edition of PaxGlocalica.com, with news story links from leading international media selected and ...\\n   https://paxglocalica.com/2019/12/03/top-21-world-news-on-december-2-2019-from-200-countries-global-climate-pledge-to-denmark-germany-border-fence/\\n\\n8. **News Global: Latest News, Live News Hindi, Top 10 News Today**\\n   NEWS GLOBAL : LATEST NEWS , LIVE NEWS HINDI, TOP 10 NEWS TODAY ... News Global : Latest News , Live News Hindi, Top 10 News Today\\n   https://roywtst051783.life3dblog.com/34958350/news-global-latest-news-live-news-hindi-top-10-news-today\\n\\n9. **News Global: Latest News, Live News Hindi, Top 10 News Today**\\n   NEWS GLOBAL : LATEST NEWS , LIVE NEWS HINDI, TOP 10 NEWS TODAY ... News Global : Latest News , Live News Hindi, Top 10 News Today\\n   https://shaunaldgt782257.ttblogs.com/15830821/news-global-latest-news-live-news-hindi-top-10-news-today\\n\\n10. **Top 50 biggest news websites in the world: Global news brand**\\n   Top 50 biggest news websites in the world: Global news brand traffic slump in November post Google updates ... All of the top ten news sites tracked ...\\n   https://www.editorandpublisher.com/stories/top-50-biggest-news-websites-in-the-world-global-news-brand-traffic-slump-in-november-post-google,247358\", name='web_search', id='eacdbe03-e8ed-467f-983a-d2eddcdcec69', tool_call_id='6f0a30ef-6f8f-4c95-bc55-3704e5e25b11'),\n",
       "  AIMessage(content='The current top global news stories can vary depending on recent events, but here are some notable topics as of late 2023:\\n\\n1. **Ukraine Peace Summit Proposals**  \\n   President Zelensky has proposed a global peace summit to address the ongoing conflict in Ukraine, drawing international attention.\\n\\n2. **Iran\\'s Satellite Launches**  \\n   Iran announced plans to launch two satellites, raising concerns about regional tensions and space capabilities.\\n\\n3. **Global Climate Agreements**  \\n   Discussions around international climate accords, such as the Paris Agreement, remain critical for global environmental policy.\\n\\n4. **Geopolitical Tensions in the Middle East**  \\n   Escalating conflicts in regions like Gaza and Lebanon continue to dominate headlines.\\n\\n5. **Global Economic Shifts**  \\n   Issues such as inflation, energy crises, and trade policies between major economies (e.g., U.S.-China) are widely covered.\\n\\n6. **Technological Advancements**  \\n   Breakthroughs in AI, quantum computing, and space exploration (e.g., private space companies) attract global interest.\\n\\n7. **Pandemic Aftermath**  \\n   Long-term impacts of COVID-19, including healthcare systems and vaccine distribution, remain relevant.\\n\\n8. **Human Rights Issues**  \\n   Protests and movements advocating for social justice, LGBTQ+ rights, and racial equality continue to gain traction.\\n\\n9. **Global Health Crises**  \\n   New outbreaks or resurgence of diseases (e.g., measles, influenza) prompt international responses.\\n\\n10. **Disaster Relief Efforts**  \\n    Natural disasters (e.g., earthquakes, floods) and humanitarian crises in regions like Africa or Southeast Asia drive global coverage.\\n\\nFor the most accurate and up-to-date list, check reputable news outlets like BBC, Reuters, or The New York Times. The exact \"top 10\" depends on real-time events and regional priorities.', additional_kwargs={}, response_metadata={'model': 'qwen3', 'created_at': '2025-10-22T07:13:39.1536792Z', 'done': True, 'done_reason': 'stop', 'total_duration': 3462574400, 'load_duration': 65522500, 'prompt_eval_count': 1245, 'prompt_eval_duration': 82400700, 'eval_count': 597, 'eval_duration': 3187241700, 'model_name': 'qwen3', 'model_provider': 'ollama'}, id='lc_run--43974bbf-89d6-4666-a327-0b9bbf59c806-0', usage_metadata={'input_tokens': 1245, 'output_tokens': 597, 'total_tokens': 1842})]}"
      ]
     },
     "execution_count": 8,
     "metadata": {},
     "output_type": "execute_result"
    }
   ],
   "source": [
    "result"
   ]
  },
  {
   "cell_type": "code",
   "execution_count": 9,
   "id": "8061713c",
   "metadata": {},
   "outputs": [],
   "source": [
    "# print(result['messages'][-1].content)\n",
    "# result['messages'][-1].pretty_print()"
   ]
  },
  {
   "cell_type": "code",
   "execution_count": 10,
   "id": "4573cf51",
   "metadata": {},
   "outputs": [],
   "source": [
    "result1 = agent.invoke(result)"
   ]
  },
  {
   "cell_type": "code",
   "execution_count": 11,
   "id": "8073ffe4",
   "metadata": {},
   "outputs": [
    {
     "data": {
      "text/plain": [
       "{'messages': [HumanMessage(content='What is the top 10 global news right now?', additional_kwargs={}, response_metadata={}, id='78d2e47c-9c61-442f-a04b-bc2d50d9f025'),\n",
       "  AIMessage(content='', additional_kwargs={}, response_metadata={'model': 'qwen3', 'created_at': '2025-10-22T07:13:33.7883702Z', 'done': True, 'done_reason': 'stop', 'total_duration': 2060956000, 'load_duration': 63019700, 'prompt_eval_count': 245, 'prompt_eval_duration': 209356700, 'eval_count': 321, 'eval_duration': 1716988700, 'model_name': 'qwen3', 'model_provider': 'ollama'}, id='lc_run--c565ff28-bb94-43a8-a6e7-d142ee899539-0', tool_calls=[{'name': 'web_search', 'args': {'num_results': 10, 'query': 'top 10 global news'}, 'id': '6f0a30ef-6f8f-4c95-bc55-3704e5e25b11', 'type': 'tool_call'}], usage_metadata={'input_tokens': 245, 'output_tokens': 321, 'total_tokens': 566}),\n",
       "  ToolMessage(content=\"Search Results for 'top 10 global news':\\n\\n\\n1. **What are the top 10 global news stories that have made**\\n   What are the top 10 global news stories that have made significant impact and received extensive media coverage? ... top global news stories can vary ...\\n   https://newsfinding.com/2023/06/28/what-are-the-top-10-global-news-stories-that-have-made-significant-impact-and-received-extensive-media-coverage/\\n\\n2. **What are the top 10 most significant global news stories this**\\n   It is subjective to determine the top 10 most significant global news stories, as perceptions may vary depending on individual interests and regional ...\\n   https://e-newsprint.com/what-are-the-top-10-most-significant-global-news-stories-this-year/\\n\\n3. **2017: Top 10 Global News — G.L.O.B.A.L. Justice**\\n   2017: Top 10 Global News ... The following is a summary of what I consider to be the “ Top 10 ” most significant news stories of 2017:\\n   https://globaljusticeonline.org/commentary/2019/4/16/2017-top-10-global-news\\n\\n4. **Top 10 Global News of 2016 — G.L.O.B.A.L. Justice**\\n   ... global news , on a variety of topics and from a range of regions and sources. ... But here are my selections for the “ Top 10 Global News of 2016:”\\n   https://globaljusticeonline.org/commentary/2019/4/18/top-10-global-news-of-2016\\n\\n5. **Top 10 world news: Zelensky proposes global peace summit, Iran**\\n   Top 10 world news : Zelensky proposes global peace summit, Iran to launch two satellites, & more ... Top 10 world news\\n   https://www.wionews.com/world/top-10-world-news-zelensky-proposes-global-peace-summit-iran-to-launch-two-satellites-more-544310\\n\\n6. **Top Headlines For Current Global News Online - Gift Ideas**\\n   The ‘ Top 10s ’ ought to go too – and they ... There are some perfectly valid top 10 lists and a few are incredibly useful.\\n   https://babyshowerpin.com/general-articles/top-headlines-for-current-global-news-online.html\\n\\n7. **Top 21 World News on December 2, 2019, Ranked: From 200**\\n   The Top 20+ World News of the Day Ranking is a daily edition of PaxGlocalica.com, with news story links from leading international media selected and ...\\n   https://paxglocalica.com/2019/12/03/top-21-world-news-on-december-2-2019-from-200-countries-global-climate-pledge-to-denmark-germany-border-fence/\\n\\n8. **News Global: Latest News, Live News Hindi, Top 10 News Today**\\n   NEWS GLOBAL : LATEST NEWS , LIVE NEWS HINDI, TOP 10 NEWS TODAY ... News Global : Latest News , Live News Hindi, Top 10 News Today\\n   https://roywtst051783.life3dblog.com/34958350/news-global-latest-news-live-news-hindi-top-10-news-today\\n\\n9. **News Global: Latest News, Live News Hindi, Top 10 News Today**\\n   NEWS GLOBAL : LATEST NEWS , LIVE NEWS HINDI, TOP 10 NEWS TODAY ... News Global : Latest News , Live News Hindi, Top 10 News Today\\n   https://shaunaldgt782257.ttblogs.com/15830821/news-global-latest-news-live-news-hindi-top-10-news-today\\n\\n10. **Top 50 biggest news websites in the world: Global news brand**\\n   Top 50 biggest news websites in the world: Global news brand traffic slump in November post Google updates ... All of the top ten news sites tracked ...\\n   https://www.editorandpublisher.com/stories/top-50-biggest-news-websites-in-the-world-global-news-brand-traffic-slump-in-november-post-google,247358\", name='web_search', id='eacdbe03-e8ed-467f-983a-d2eddcdcec69', tool_call_id='6f0a30ef-6f8f-4c95-bc55-3704e5e25b11'),\n",
       "  AIMessage(content='The current top global news stories can vary depending on recent events, but here are some notable topics as of late 2023:\\n\\n1. **Ukraine Peace Summit Proposals**  \\n   President Zelensky has proposed a global peace summit to address the ongoing conflict in Ukraine, drawing international attention.\\n\\n2. **Iran\\'s Satellite Launches**  \\n   Iran announced plans to launch two satellites, raising concerns about regional tensions and space capabilities.\\n\\n3. **Global Climate Agreements**  \\n   Discussions around international climate accords, such as the Paris Agreement, remain critical for global environmental policy.\\n\\n4. **Geopolitical Tensions in the Middle East**  \\n   Escalating conflicts in regions like Gaza and Lebanon continue to dominate headlines.\\n\\n5. **Global Economic Shifts**  \\n   Issues such as inflation, energy crises, and trade policies between major economies (e.g., U.S.-China) are widely covered.\\n\\n6. **Technological Advancements**  \\n   Breakthroughs in AI, quantum computing, and space exploration (e.g., private space companies) attract global interest.\\n\\n7. **Pandemic Aftermath**  \\n   Long-term impacts of COVID-19, including healthcare systems and vaccine distribution, remain relevant.\\n\\n8. **Human Rights Issues**  \\n   Protests and movements advocating for social justice, LGBTQ+ rights, and racial equality continue to gain traction.\\n\\n9. **Global Health Crises**  \\n   New outbreaks or resurgence of diseases (e.g., measles, influenza) prompt international responses.\\n\\n10. **Disaster Relief Efforts**  \\n    Natural disasters (e.g., earthquakes, floods) and humanitarian crises in regions like Africa or Southeast Asia drive global coverage.\\n\\nFor the most accurate and up-to-date list, check reputable news outlets like BBC, Reuters, or The New York Times. The exact \"top 10\" depends on real-time events and regional priorities.', additional_kwargs={}, response_metadata={'model': 'qwen3', 'created_at': '2025-10-22T07:13:39.1536792Z', 'done': True, 'done_reason': 'stop', 'total_duration': 3462574400, 'load_duration': 65522500, 'prompt_eval_count': 1245, 'prompt_eval_duration': 82400700, 'eval_count': 597, 'eval_duration': 3187241700, 'model_name': 'qwen3', 'model_provider': 'ollama'}, id='lc_run--43974bbf-89d6-4666-a327-0b9bbf59c806-0', usage_metadata={'input_tokens': 1245, 'output_tokens': 597, 'total_tokens': 1842}),\n",
       "  AIMessage(content='', additional_kwargs={}, response_metadata={'model': 'qwen3', 'created_at': '2025-10-22T07:13:39.3005285Z', 'done': True, 'done_reason': 'stop', 'total_duration': 115755800, 'load_duration': 68015100, 'prompt_eval_count': 1633, 'prompt_eval_duration': 40171600, 'eval_count': 1, 'eval_duration': None, 'model_name': 'qwen3', 'model_provider': 'ollama'}, id='lc_run--ec200d04-dcc8-42bd-82d9-699985d3bdfc-0', usage_metadata={'input_tokens': 1633, 'output_tokens': 1, 'total_tokens': 1634})]}"
      ]
     },
     "execution_count": 11,
     "metadata": {},
     "output_type": "execute_result"
    }
   ],
   "source": [
    "result1"
   ]
  },
  {
   "cell_type": "markdown",
   "id": "experiments",
   "metadata": {},
   "source": [
    "### Experimenting with Different Settings\n",
    "\n",
    "Let's compare different model configurations to see how they affect the output:"
   ]
  },
  {
   "cell_type": "code",
   "execution_count": 12,
   "id": "config1",
   "metadata": {},
   "outputs": [],
   "source": [
    "question = \"What is the capital of France? Provide a brief explanation.\"\n",
    "\n",
    "model1 = ChatOllama(model=\"qwen3\", base_url=\"http://localhost:11434\",\n",
    "                    temperature=0,\n",
    "                    top_p=1,\n",
    "                    repeart_penalty=1.2,\n",
    "                    num_predict=1000,\n",
    "                    num_ctx=4096,\n",
    "                    reasoning=True)\n",
    "\n",
    "agent1 = create_agent(model=model1, tools=[tools.web_search], system_prompt=system_prompt)\n",
    "result1 = agent1.invoke({\"messages\": question})"
   ]
  },
  {
   "cell_type": "code",
   "execution_count": 13,
   "id": "8f1087fa",
   "metadata": {},
   "outputs": [
    {
     "data": {
      "text/plain": [
       "{'messages': [HumanMessage(content='What is the capital of France? Provide a brief explanation.', additional_kwargs={}, response_metadata={}, id='768d3f7a-ccc6-4101-886f-9c4601d14378'),\n",
       "  AIMessage(content='The capital of France is **Paris**. Paris is not only the political and cultural center of France but also a major global city known for its landmarks like the Eiffel Tower, Louvre Museum, and historic architecture. It serves as the seat of the French government and is a hub for art, fashion, and commerce. \\n\\n', additional_kwargs={'reasoning_content': 'Okay, the user is asking for the capital of France and a brief explanation. Let me start by recalling what I know. France is a country in Europe, and I believe the capital is Paris. But wait, I should make sure that\\'s correct. Maybe I should check using the web_search tool to confirm. Let me think, the function requires a query and optionally the number of results. The query here would be \"capital of France\". The user wants a brief explanation, so maybe the first result will have the answer. I\\'ll call the web_search function with the query \"capital of France\" and maybe set num_results to 1 to get the most relevant answer. Wait, but the default is 10. If I set it to 1, the first result might be the most accurate. Alternatively, maybe the user expects a straightforward answer without needing to search. Since I already know that Paris is the capital, perhaps I can answer directly. But to ensure accuracy, especially if there\\'s any confusion between Paris and another city, using the web_search tool would be better. Let me proceed with the search.\\n'}, response_metadata={'model': 'qwen3', 'created_at': '2025-10-22T07:13:43.0355395Z', 'done': True, 'done_reason': 'stop', 'total_duration': 3705697600, 'load_duration': 1834990200, 'prompt_eval_count': 245, 'prompt_eval_duration': 37081400, 'eval_count': 331, 'eval_duration': 1751245800, 'model_name': 'qwen3', 'model_provider': 'ollama'}, id='lc_run--da463c77-5861-4b7e-80fe-3f06400fb00f-0', tool_calls=[{'name': 'web_search', 'args': {'num_results': 1, 'query': 'capital of France'}, 'id': 'b49e2c85-de8d-45e8-a7d9-11ca96115132', 'type': 'tool_call'}], usage_metadata={'input_tokens': 245, 'output_tokens': 331, 'total_tokens': 576}),\n",
       "  ToolMessage(content=\"Search Results for 'capital of France':\\n\\n\\n1. **Capital of France**\\n   This is a chronological list of capitals of France. The capital of France has been Paris since its liberation in 1944.\\n   https://en.wikipedia.org/wiki/Capital_of_France\", name='web_search', id='0c057e9a-4e8f-401e-b32d-0b8fa7463311', tool_call_id='b49e2c85-de8d-45e8-a7d9-11ca96115132'),\n",
       "  AIMessage(content='The capital of France is **Paris**. It has served as the political and administrative center of France since the 3rd century, though it became the official capital after being liberated in 1944. Paris is renowned for its cultural landmarks, historical significance, and role as a global hub for art, fashion, and commerce.', additional_kwargs={'reasoning_content': 'Okay, the user asked for the capital of France and a brief explanation. I remember that Paris is the capital, but I should verify the information. Let me check the web search results.\\n\\nThe first result from Wikipedia confirms that Paris has been the capital since its liberation in 1944. That aligns with my existing knowledge. I need to present this information clearly. The user might be looking for a straightforward answer with a bit of context. I should mention Paris as the capital, note its role as the political center, and maybe add a sentence about its cultural significance. Since the search result mentions the historical context, I can include that to add depth. Make sure the explanation is concise but informative. Alright, time to put it all together.\\n'}, response_metadata={'model': 'qwen3', 'created_at': '2025-10-22T07:13:45.3641319Z', 'done': True, 'done_reason': 'stop', 'total_duration': 1314885300, 'load_duration': 70588500, 'prompt_eval_count': 383, 'prompt_eval_duration': 21516800, 'eval_count': 225, 'eval_duration': 1183894500, 'model_name': 'qwen3', 'model_provider': 'ollama'}, id='lc_run--58b61b75-5f7a-41be-8115-33536b763110-0', usage_metadata={'input_tokens': 383, 'output_tokens': 225, 'total_tokens': 608})]}"
      ]
     },
     "execution_count": 13,
     "metadata": {},
     "output_type": "execute_result"
    }
   ],
   "source": [
    "result1"
   ]
  },
  {
   "cell_type": "markdown",
   "id": "section3-header",
   "metadata": {},
   "source": [
    "## 2. Dynamic Model Selection (Qwen3 → Gemma3)\n",
    "\n",
    "Cost-optimization strategy where the agent automatically switches between models based on conversation complexity.\n",
    "\n",
    "## Selection Logic\n",
    "- **< 10 messages**: Use Qwen3 (fast, efficient)\n",
    "- **≥ 10 messages**: Use Gemma3 (better reasoning, longer context)\n",
    "\n",
    "## Real-World Applications\n",
    "- Customer service bots (simple queries → Qwen3, complex issues → Gemma3)\n",
    "- Research assistants (quick facts → Qwen3, analysis → Gemma3)"
   ]
  },
  {
   "cell_type": "code",
   "execution_count": 14,
   "id": "import3",
   "metadata": {},
   "outputs": [],
   "source": [
    "# Import required modules\n",
    "from langchain_ollama import ChatOllama\n",
    "from langchain.agents import create_agent, AgentState\n",
    "from langgraph.runtime import Runtime\n",
    "import tools\n",
    "\n",
    "# Import the middleware decorator\n",
    "from langchain.agents.middleware import wrap_model_call, ModelRequest, ModelResponse\n"
   ]
  },
  {
   "cell_type": "code",
   "execution_count": 15,
   "id": "c72dea64",
   "metadata": {},
   "outputs": [],
   "source": [
    "basic_model = ChatOllama(model=\"qwen3\", base_url=\"http://localhost:11434\", num_predict=1000)\n",
    "\n",
    "advanced_model = ChatOllama(model=\"llama3.2\", base_url=\"http://localhost:11434\", num_predict=1000)\n",
    "\n",
    "@wrap_model_call\n",
    "def dynamic_model_selection(request: ModelRequest, handler) -> ModelResponse:\n",
    "    message_count = len(request.state[\"messages\"])\n",
    "\n",
    "    if message_count<3:\n",
    "        print(f\"Using Qwen3 for {message_count} messages\")\n",
    "        request.model = basic_model\n",
    "\n",
    "    else:\n",
    "        print(f\"Using llama3.2 for {message_count} messages\")\n",
    "        request.model = advanced_model\n",
    "\n",
    "    return handler(request)"
   ]
  },
  {
   "cell_type": "code",
   "execution_count": 16,
   "id": "eabcd18b",
   "metadata": {},
   "outputs": [],
   "source": [
    "agent = create_agent(model=basic_model,\n",
    "                     tools = [tools.web_search],\n",
    "                     system_prompt=system_prompt,\n",
    "                     middleware=[dynamic_model_selection])"
   ]
  },
  {
   "cell_type": "code",
   "execution_count": 17,
   "id": "225ebe06",
   "metadata": {},
   "outputs": [
    {
     "data": {
      "image/png": "[encoded data removed]",
      "text/plain": [
       "<langgraph.graph.state.CompiledStateGraph object at 0x0000018E9E7D54D0>"
      ]
     },
     "execution_count": 17,
     "metadata": {},
     "output_type": "execute_result"
    }
   ],
   "source": [
    "agent"
   ]
  },
  {
   "cell_type": "code",
   "execution_count": 18,
   "id": "05a2e6c8",
   "metadata": {},
   "outputs": [],
   "source": [
    "def get_agent_output(messages:list):\n",
    "    messages = {'messages': messages} # dict\n",
    "\n",
    "    result = agent.invoke(messages)\n",
    "\n",
    "    return result"
   ]
  },
  {
   "cell_type": "code",
   "execution_count": 19,
   "id": "1540c8d5",
   "metadata": {},
   "outputs": [
    {
     "name": "stdout",
     "output_type": "stream",
     "text": [
      "Using Qwen3 for 2 messages\n",
      "Using llama3.2 for 4 messages\n"
     ]
    }
   ],
   "source": [
    "messages = [\"How are you?\", \"What's the weather in Mumbai today?\"]\n",
    "result = get_agent_output(messages)"
   ]
  },
  {
   "cell_type": "code",
   "execution_count": 20,
   "id": "12a45933",
   "metadata": {},
   "outputs": [
    {
     "data": {
      "text/plain": [
       "{'messages': [HumanMessage(content='How are you?', additional_kwargs={}, response_metadata={}, id='f5955b31-961c-4fa7-970b-6e8598087d1e'),\n",
       "  HumanMessage(content=\"What's the weather in Mumbai today?\", additional_kwargs={}, response_metadata={}, id='2b846d2e-9d8e-4c48-9c19-bd373dfeab64'),\n",
       "  AIMessage(content='', additional_kwargs={}, response_metadata={'model': 'qwen3', 'created_at': '2025-10-22T07:13:51.6046134Z', 'done': True, 'done_reason': 'stop', 'total_duration': 3803874500, 'load_duration': 1929546000, 'prompt_eval_count': 245, 'prompt_eval_duration': 37083400, 'eval_count': 327, 'eval_duration': 1738811000, 'model_name': 'qwen3', 'model_provider': 'ollama'}, id='lc_run--7de1cc24-f3df-41c6-8041-080b3f72d008-0', tool_calls=[{'name': 'web_search', 'args': {'num_results': 10, 'query': 'current weather in Mumbai'}, 'id': '21eab001-58ff-4c6d-ba41-0d2c3bf17bb1', 'type': 'tool_call'}], usage_metadata={'input_tokens': 245, 'output_tokens': 327, 'total_tokens': 572}),\n",
       "  ToolMessage(content=\"Search Results for 'current weather in Mumbai':\\n\\n\\n1. **Mumbai weather: Sunny skies, no rain expected todya; AQI ...**\\n   4 hours ago · Mumbai wakes to a sunny, pleasant day with temperatures reaching 32.9°C, perfect for outdoor activities. Yet, yesterday's 'very poor' AQI of 205 means\\n   https://timesofindia.indiatimes.com/city/mumbai/mumbai-welcomes-sunny-day-despite-poor-air-quality/articleshow/124731488.cms\\n\\n2. **Mumbai weather update: IMD predicts partly cloudy skies ...**\\n   3 hours ago · Mumbai weather update: City and its suburbs are expected to experience partly cloudy skies, according to IMD. Temperatures to be around 25 to 36 deg Celsius\\n   https://www.mid-day.com/mumbai/mumbai-news/article/mumbai-weather-update-city-to-see-partly-cloudy-skies-temperature-around-36-degrees-celsius-says-imd-23599730\\n\\n3. **Mumbai weather: Rain lashes several regions, IMD issues short ...**\\n   16 hours ago · Mumbai weather : Rain lashes several regions, IMD issues short-term forecast | Check here The sudden rainfall during Laxmi Pujan, one of the key rituals of the ongoing Diwali festival ...\\n   https://www.indiatvnews.com/maharashtra/mumbai-weather-update-rain-lashes-several-regions-imd-issues-short-term-forecast-waterlogging-damages-injuries-visuals-latest-updates-2025-10-21-1013774\\n\\n4. **Mumbai weather update: Heavy rain hits Navi Mumbai on Diwali ...**\\n   16 hours ago · Heavy rains lashed Navi Mumbai on Tuesday, with thunderstorms being reported in Thane. Check IMD's forecast for Mumbai and other parts of Maharashtra right here.\\n   https://www.livemint.com/news/india/heavy-rain-hits-navi-mumbai-on-diwali-thunderstorms-in-thane-check-imds-forecast-for-mumbai-other-parts-11761050079053.html\\n\\n5. **Mumbai Weather Update: Sunny Skies Return To City After ...**\\n   3 hours ago · Mumbai Weather Update: Sunny Skies Return To City After Overnight Showers, AQI Remains Poor At 149; BKC, Malad Report Unhealthy Air According to the India Meteorological Department (IMD), the city ...\\n   https://www.freepressjournal.in/mumbai/mumbai-weather-update-sunny-skies-return-to-city-after-overnight-showers-aqi-remains-poor-at-149-bkc-malad-report-unhealthy-air\\n\\n6. **Mumbai Weather Update: City to Experience Intense October ...**\\n   5 hours ago · As per the latest forecast, Konkan is expected to witness heavy rain on October 22. However, Mumbai will experience dry weather today with hot temperatures continuing through the day. Residents of Mumbai are expected to feel the full impact of the October heat once again.\\n   https://www.lokmattimes.com/mumbai/mumbai-weather-update-city-to-experience-intense-october-heat-heavy-rains-expected-in-konkan-region-imd-issues-yellow-alert-for-three-districts-a525/\\n\\n7. **Rain Lashes Parts Of Mumbai, Navi Mumbai; IMD Issues ... - News18**\\n   16 hours ago · The India Meteorological Department (IMD) issued a yellow alert, predicting rain, thunderstorms and gusty winds in Mumbai and Thane over the next three hours.\\n   https://www.news18.com/cities/mumbai-news/rain-lashes-parts-of-mumbai-navi-mumbai-imd-issues-yellow-alert-2-ws-l-9650351.html\\n\\n8. **Mumbai Weather Today 21 October 2025, Tomorrow & Weekly IMD**\\n   Mumbai Weather Today (21 October 2025): Today, in Mumbai , temperatures will be between 27 C and 37 C with gentle breezes at 9 km/h, and the coming ...\\n   https://www.timesnownews.com/weather/mumbai\\n\\n9. **Weather today - Mumbai, India**\\n   Currently, in Mumbai , fine airborne particles are creating a lingering haze effect. ... On Tuesday, in Mumbai , sunrise will be at 5:59 am and sunset ...\\n   https://www.weather-atlas.com/en/india/mumbai\\n\\n10. **Maharashtra Weather: From Sunny To Stormy In Mumbai And Beyond,**\\n   According to the Indian Meteorological Department (IMD), the weather in Mumbai today is expected to have temperatures ranging from 26 to 34 degrees ...\\n   https://www.oneindia.com/mumbai/maharashtra-weather-from-sunny-to-stormy-in-mumbai-and-beyond-see-where-the-imd-issues-a-yellow-3959173.html\", name='web_search', id='3f91a191-b99c-4554-94fa-8d5c2c25d0a8', tool_call_id='21eab001-58ff-4c6d-ba41-0d2c3bf17bb1'),\n",
       "  AIMessage(content='The current weather in Mumbai is expected to be sunny with temperatures ranging from 26 to 34 degrees Celsius. There is a yellow alert issued by the India Meteorological Department (IMD) for rain, thunderstorms, and gusty winds in the next three hours.\\n\\nPlease note that the weather forecast is subject to change and may not be accurate at the time of your inquiry. For the most up-to-date information, I recommend checking the official website of the IMD or other reliable news sources.', additional_kwargs={}, response_metadata={'model': 'llama3.2', 'created_at': '2025-10-22T07:13:57.2209273Z', 'done': True, 'done_reason': 'stop', 'total_duration': 2797423600, 'load_duration': 2380648700, 'prompt_eval_count': 1160, 'prompt_eval_duration': 36043200, 'eval_count': 100, 'eval_duration': 295829800, 'model_name': 'llama3.2', 'model_provider': 'ollama'}, id='lc_run--e18d761f-dd15-4380-9221-5d05dc6c5978-0', usage_metadata={'input_tokens': 1160, 'output_tokens': 100, 'total_tokens': 1260})]}"
      ]
     },
     "execution_count": 20,
     "metadata": {},
     "output_type": "execute_result"
    }
   ],
   "source": [
    "result\n"
   ]
  },
  {
   "cell_type": "code",
   "execution_count": null,
   "id": "1fa0181c",
   "metadata": {},
   "outputs": [],
   "source": []
  },
  {
   "cell_type": "markdown",
   "id": "b35b7700",
   "metadata": {},
   "source": [
    "### Streaming Agent Responses\n",
    "#### Stream Modes\n",
    "- \"values\": Get complete state at each step\n",
    "- \"updates\": Get only the changes/updates\n",
    "- \"messages\": Get only message updates"
   ]
  },
  {
   "cell_type": "code",
   "execution_count": 21,
   "id": "bde9e47a",
   "metadata": {},
   "outputs": [
    {
     "name": "stdout",
     "output_type": "stream",
     "text": [
      "What's the weather in Mumbai today?\n",
      "\n",
      "------\n",
      "Using Qwen3 for 2 messages\n",
      "\n",
      "\n",
      "------\n",
      "Search Results for 'weather in Mumbai today':\n",
      "\n",
      "\n",
      "1. **Weather Radar - Questions/Rejected/NotABug - X-Plane.Org Forum**\n",
      "   Sep 26, 2024 · Hi there, Flying the 777 has been great, and the system depth and features are stunning. However, I have not been able to find much on weather radar usage in the FCOM or …\n",
      "   https://forums.x-plane.org/forums/topic/317751-weather-radar/\n",
      "\n",
      "2. **[XPGFS] NOAA GFS Weather: Real Weather For X-Plane**\n",
      "   Jan 2, 2012 · XPGFS brings alive the x-plane atmosphere combining METAR reports and NOAA Weather data for the whole world. Features: - Own METAR interpretation engine. - 8 Layers of …\n",
      "   https://forums.x-plane.org/files/file/15453-xpgfs-noaa-gfs-weather-real-weather-for-x-plane/\n",
      "\n",
      "3. **Weather radar not working for me. - X-Plane.Org Forum**\n",
      "   Oct 2, 2025 · WX - weather mode WX+T - Weather and turbulence, though I think this is just implemented as WX mode only TURB - not sure this is implemented MAP - Map mode: No …\n",
      "   https://forums.x-plane.org/forums/topic/337131-weather-radar-not-working-for-me/\n",
      "\n",
      "4. **Which weather plugin is the best for XP11? - X-Plane.Org Forum**\n",
      "   Apr 11, 2019 · Hello which weather plugin is the best looking one for Xplane 11? Iam looking for the most realistic weather plugin.\n",
      "   https://forums.x-plane.org/forums/topic/176966-which-weather-plugin-is-the-best-for-xp11/\n",
      "\n",
      "5. **Weather radar on toliss planes? - X-Plane.Org Forum**\n",
      "   Jun 19, 2021 · Has anyone had issues with weather radar? I have not gotten it to work, I've tried the following I have activesky set to a historical weather where there was massive …\n",
      "   https://forums.x-plane.org/forums/topic/247918-weather-radar-on-toliss-planes/\n",
      "\n",
      "6. **VisualXP Weather Enhancement Engine - X-Plane.Org Forum**\n",
      "   Feb 19, 2023 · Let's Thank Laminar Research for the outstanding work they did in X-Plane 12, especially what they have done for the Weather system. Anyway, we have a plugin that …\n",
      "   https://forums.x-plane.org/forums/topic/283971-visualxp-weather-enhancement-engine/\n",
      "\n",
      "7. **Weather Radar - XP12 & ToLiss A321 - X-Plane.Org Forum**\n",
      "   Feb 14, 2023 · Weather radar is working to the extent of the weather API of X-Plane 12 - Keep in mind that XP12 is still in very early stages of development and many fixes and feature …\n",
      "   https://forums.x-plane.org/forums/topic/283677-weather-radar-xp12-toliss-a321/\n",
      "\n",
      "8. **Weather in X-Plane 12 - AviTab Plugin - X-Plane.Org Forum**\n",
      "   Oct 3, 2022 · AMD Ryzen™ 7 9800X3D CPU / NVIDIA GIGABYTE RTX 5090 - 64GB RAM with a Samsung Odyssey G9 Neo 49\" curved monitor running a 5120 x 1440 resolution\n",
      "   https://forums.x-plane.org/forums/topic/274803-weather-in-x-plane-12/\n",
      "\n",
      "9. **Free Snow! Custom Conditions - Utilities - X-Plane.Org Forum**\n",
      "   Dec 11, 2024 · Custom Conditions lets you play weather wizard without messing up your METAR data. Works great for those days when x-plane isn't showing any snow/rain/ice, but you clearly …\n",
      "   https://forums.x-plane.org/files/file/93555-free-snow-custom-conditions/\n",
      "\n",
      "10. **Solution for huge FPS drops and Stutters in X-Plane 12**\n",
      "   Feb 10, 2025 · As mentioned in several threads on this forum (look here and here), the new weather engine in X-Plane 12 can cause extreme stutters every 60 seconds on some systems. …\n",
      "   https://forums.x-plane.org/files/file/94260-solution-for-huge-fps-drops-and-stutters-in-x-plane-12\n",
      "\n",
      "------\n",
      "Using llama3.2 for 4 messages\n",
      "Unfortunately, I couldn't find any reliable sources for the current weather in Mumbai today. However, I can suggest some alternatives to help you find the information you're looking for:\n",
      "\n",
      "1. Check online weather websites: You can check websites like AccuWeather, Weather.com, or the National Weather Service (NWS) for the current weather conditions in Mumbai.\n",
      "2. Use a virtual assistant: You can ask virtual assistants like Siri, Google Assistant, or Alexa to provide you with the current weather conditions in Mumbai.\n",
      "3. Check social media: You can check social media platforms like Twitter or Facebook for updates on the weather in Mumbai.\n",
      "\n",
      "If you're looking for more information on the weather in Mumbai, I can try to help you find some general information on the city's climate and typical weather patterns.\n",
      "\n",
      "------\n"
     ]
    }
   ],
   "source": [
    "for chunk in agent.stream({\"messages\": messages}, stream_mode=\"values\"):\n",
    "    print(chunk['messages'][-1].content, end='', flush=True)\n",
    "\n",
    "    print(\"\\n\\n------\")"
   ]
  },
  {
   "cell_type": "code",
   "execution_count": 22,
   "id": "80abaca9",
   "metadata": {},
   "outputs": [
    {
     "name": "stdout",
     "output_type": "stream",
     "text": [
      "Using Qwen3 for 2 messages\n",
      "==================================\u001b[1m Ai Message \u001b[0m==================================\n",
      "\n",
      "I'm just a helpful AI assistant, but I'm here and ready to help! 😊\n",
      "\n",
      "For the weather in Mumbai today, let me check that for you:\n",
      "Tool Calls:\n",
      "  web_search (5baa36dd-d82e-4dc0-a557-7b2067c6d8c5)\n",
      " Call ID: 5baa36dd-d82e-4dc0-a557-7b2067c6d8c5\n",
      "  Args:\n",
      "    num_results: 5\n",
      "    query: weather in Mumbai today\n",
      "{'model': {'messages': [AIMessage(content=\"I'm just a helpful AI assistant, but I'm here and ready to help! 😊\\n\\nFor the weather in Mumbai today, let me check that for you:\\n\\n\", additional_kwargs={}, response_metadata={'model': 'qwen3', 'created_at': '2025-10-22T07:14:09.7616689Z', 'done': True, 'done_reason': 'stop', 'total_duration': 4825303100, 'load_duration': 2264923200, 'prompt_eval_count': 245, 'prompt_eval_duration': 37077900, 'eval_count': 453, 'eval_duration': 2415884500, 'model_name': 'qwen3', 'model_provider': 'ollama'}, id='lc_run--221d0f00-a4be-49c7-b39a-46657281060a-0', tool_calls=[{'name': 'web_search', 'args': {'num_results': 5, 'query': 'weather in Mumbai today'}, 'id': '5baa36dd-d82e-4dc0-a557-7b2067c6d8c5', 'type': 'tool_call'}], usage_metadata={'input_tokens': 245, 'output_tokens': 453, 'total_tokens': 698})]}}\n",
      "\n",
      "\n",
      "------\n",
      "=================================\u001b[1m Tool Message \u001b[0m=================================\n",
      "Name: web_search\n",
      "\n",
      "Search Results for 'weather in Mumbai today':\n",
      "\n",
      "\n",
      "1. **Mumbai Weather Today 21 October 2025, Tomorrow & Weekly IMD**\n",
      "   Mumbai Weather Today (21 October 2025): Today , in Mumbai , temperatures will be between 27 C and 37 C with gentle breezes at 9 km/h, and the coming ...\n",
      "   https://www.timesnownews.com/weather/mumbai\n",
      "\n",
      "2. **Mumbai Weather Today: Heavy Rain, Thunderstorm and Orange Alert**\n",
      "   Mumbai Weather Today : Excessive rain has continued to lash Mumbai , with the India Meteorological Department issuing an orange alert in the ...\n",
      "   https://www.timesnownews.com/mumbai/mumbai-weather-today-heavy-rain-to-drench-city-mumbai-police-hailed-amid-chaos-article-152354559\n",
      "\n",
      "3. **Mumbai Weather Today: Clear Skies, Refreshing Breezes, And**\n",
      "   Mumbai Weather Today : Clear Skies, Refreshing Breezes, And Moderate AQI On December 1 ... Indian Meteorological Department (IMD), Mumbai is set to ...\n",
      "   https://www.oneindia.com/mumbai/mumbai-weather-today-clear-skies-refreshing-breezes-and-moderate-aqi-on-december-1-4002551.html\n",
      "\n",
      "4. **Mumbai Weather Today: Showers To Continue; Check Weather**\n",
      "   Mumbai Weather Today : Showers To Continue; Check Weather Forecast For June 21 ... A yellow weather warning indicates bad weather spanning several ...\n",
      "   https://www.oneindia.com/mumbai/mumbai-weather-today-showers-to-continue-check-weather-forecast-for-june-21-3857577.html\n",
      "\n",
      "5. **Mumbai Weather Today: Weather in Mumbai, Temperature Forecast**\n",
      "   In Mumbai , the weather on Sunday Sep 28 is expected to show a varied pattern. ... weather Lucknow’s weather Pune’s weather Kolkata’s weather ...\n",
      "   https://news.abplive.com/weather/mumbai\n",
      "\n",
      "\n",
      "------\n",
      "Using llama3.2 for 4 messages\n",
      "==================================\u001b[1m Ai Message \u001b[0m==================================\n",
      "\n",
      "Unfortunately, I don't have real-time access to current weather information. However, based on the search results provided earlier, it appears that the current weather in Mumbai is subject to change and can vary depending on the day.\n",
      "\n",
      "As of the last update available in my search results (October 2025), Mumbai's weather was expected to be between 27 C and 37 C with gentle breezes at 9 km/h. However, please note that this information may not be up-to-date, and I recommend checking a reliable weather source for the most current and accurate information.\n",
      "\n",
      "If you're looking for real-time weather updates, I suggest checking a weather website or app, such as AccuWeather or Weather.com, which can provide you with the most current and accurate weather information.\n",
      "{'model': {'messages': [AIMessage(content=\"Unfortunately, I don't have real-time access to current weather information. However, based on the search results provided earlier, it appears that the current weather in Mumbai is subject to change and can vary depending on the day.\\n\\nAs of the last update available in my search results (October 2025), Mumbai's weather was expected to be between 27 C and 37 C with gentle breezes at 9 km/h. However, please note that this information may not be up-to-date, and I recommend checking a reliable weather source for the most current and accurate information.\\n\\nIf you're looking for real-time weather updates, I suggest checking a weather website or app, such as AccuWeather or Weather.com, which can provide you with the most current and accurate weather information.\", additional_kwargs={}, response_metadata={'model': 'llama3.2', 'created_at': '2025-10-22T07:14:14.156683Z', 'done': True, 'done_reason': 'stop', 'total_duration': 2754349200, 'load_duration': 2216089800, 'prompt_eval_count': 547, 'prompt_eval_duration': 27552100, 'eval_count': 157, 'eval_duration': 419665000, 'model_name': 'llama3.2', 'model_provider': 'ollama'}, id='lc_run--90a09ea7-3ef4-42d4-b836-84ebf9ead53a-0', usage_metadata={'input_tokens': 547, 'output_tokens': 157, 'total_tokens': 704})]}}\n",
      "\n",
      "\n",
      "------\n"
     ]
    }
   ],
   "source": [
    "for chunk in agent.stream({\"messages\": messages}, stream_mode=\"updates\"):\n",
    "    # print(chunk, end='', flush=True)\n",
    "    if 'model' in chunk:\n",
    "        chunk['model']['messages'][-1].pretty_print()\n",
    "    if 'tools' in chunk:\n",
    "        chunk['tools']['messages'][-1].pretty_print()\n",
    "    else:\n",
    "        print(chunk)\n",
    "    print(\"\\n\\n------\")"
   ]
  },
  {
   "cell_type": "code",
   "execution_count": null,
   "id": "49954b2f",
   "metadata": {},
   "outputs": [],
   "source": []
  },
  {
   "cell_type": "code",
   "execution_count": null,
   "id": "55f6f7fc",
   "metadata": {},
   "outputs": [],
   "source": []
  },
  {
   "cell_type": "code",
   "execution_count": null,
   "id": "3b538a4b",
   "metadata": {},
   "outputs": [],
   "source": []
  },
  {
   "cell_type": "code",
   "execution_count": null,
   "id": "380ca15d",
   "metadata": {},
   "outputs": [],
   "source": []
  },
  {
   "cell_type": "code",
   "execution_count": null,
   "id": "c1cd681b",
   "metadata": {},
   "outputs": [],
   "source": []
  },
  {
   "cell_type": "code",
   "execution_count": null,
   "id": "b009c27a",
   "metadata": {},
   "outputs": [],
   "source": []
  },
  {
   "cell_type": "code",
   "execution_count": null,
   "id": "ee4b7071",
   "metadata": {},
   "outputs": [],
   "source": []
  }
 ],
 "metadata": {
  "kernelspec": {
   "display_name": "ml",
   "language": "python",
   "name": "python3"
  },
  "language_info": {
   "codemirror_mode": {
    "name": "ipython",
    "version": 3
   },
   "file_extension": ".py",
   "mimetype": "text/x-python",
   "name": "python",
   "nbconvert_exporter": "python",
   "pygments_lexer": "ipython3",
   "version": "3.11.13"
  }
 },
 "nbformat": 4,
 "nbformat_minor": 5
}
