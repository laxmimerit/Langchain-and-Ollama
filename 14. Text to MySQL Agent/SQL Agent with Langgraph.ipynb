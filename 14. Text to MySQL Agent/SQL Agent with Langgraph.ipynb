{
 "cells": [
  {
   "cell_type": "markdown",
   "id": "76220da2",
   "metadata": {},
   "source": [
    "## SQL Agent with Dedicated Tools using create_agent\n",
    "**Key Features:**\n",
    "- Agent-based SQL query generation with autonomous tool usage\n",
    "- SQLite database integration with employees database\n",
    "- Safety validation system to prevent destructive SQL operations\n",
    "- Automatic error detection and query correction capabilities\n",
    "- Interactive chat interface for natural language database queries"
   ]
  },
  {
   "cell_type": "code",
   "execution_count": null,
   "id": "de255565",
   "metadata": {},
   "outputs": [],
   "source": [
    "# https://github.com/fracpete/employees-db-sqlite"
   ]
  },
  {
   "cell_type": "code",
   "execution_count": null,
   "id": "f59b853b",
   "metadata": {},
   "outputs": [
    {
     "data": {
      "text/plain": [
       "True"
      ]
     },
     "execution_count": 1,
     "metadata": {},
     "output_type": "execute_result"
    }
   ],
   "source": [
    "\"\"\"\n",
    "SQL Agent with Dedicated Tools using create_agent\n",
    "Using employees db database with create_agent approach\n",
    "\"\"\"\n",
    "\n",
    "import re\n",
    "\n",
    "# Core imports\n",
    "from langchain_ollama import ChatOllama\n",
    "from langchain_community.utilities import SQLDatabase\n",
    "from langchain_core.tools import tool\n",
    "from langchain_core.messages import SystemMessage\n",
    "from langchain.agents import create_agent\n",
    "\n",
    "from dotenv import load_dotenv\n",
    "load_dotenv()\n"
   ]
  },
  {
   "cell_type": "code",
   "execution_count": null,
   "id": "e2a69dde",
   "metadata": {},
   "outputs": [
    {
     "name": "stdout",
     "output_type": "stream",
     "text": [
      "Setting up employees database...\n",
      "✓ Database connected successfully\n",
      "✓ Found 6 tables: departments, dept_emp, dept_manager, employees, salaries, titles\n",
      "✓ Connected to employees database\n"
     ]
    }
   ],
   "source": [
    "# ============================================================================\n",
    "# STEP 1: DATABASE SETUP\n",
    "# ============================================================================\n",
    "print(\"Setting up employees database...\")\n",
    "\n",
    "\n",
    "# Connect to employees database\n",
    "db = SQLDatabase.from_uri(\"sqlite:///db/employees_db-full-1.0.6.db\")\n",
    "\n",
    "# Check connection and get basic info\n",
    "try:\n",
    "    # Test connection by getting table names\n",
    "    tables = db.get_usable_table_names()\n",
    "    print(f\"✓ Database connected successfully\")\n",
    "    print(f\"✓ Found {len(tables)} tables: {', '.join(tables)}\")\n",
    "    \n",
    "except Exception as e:\n",
    "    print(f\"✗ Database connection failed: {e}\")\n",
    "\n",
    "# Get schema information\n",
    "SCHEMA = db.get_table_info()\n",
    "# print(\"\\nDatabase Schema:\", SCHEMA)\n",
    "print(\"✓ Connected to employees database\")\n"
   ]
  },
  {
   "cell_type": "code",
   "execution_count": 3,
   "id": "67b47814",
   "metadata": {},
   "outputs": [
    {
     "name": "stdout",
     "output_type": "stream",
     "text": [
      "==================================\u001b[1m Ai Message \u001b[0m==================================\n",
      "\n",
      "Hello! I'm just a chatbot, so I don't have feelings, but I'm here and ready to help! 😊 How can I assist you today? Whether you have questions, need advice, or just want to chat, I'm all ears! What's on your mind?\n",
      "✓ Initialized Ollama chat model\n"
     ]
    }
   ],
   "source": [
    "\n",
    "# ============================================================================\n",
    "# STEP 2: MODELS SETUP\n",
    "# ============================================================================\n",
    "# Using ChatOllama\n",
    "llm = ChatOllama(\n",
    "    model=\"qwen3\", \n",
    "    base_url=\"http://localhost:11434\",\n",
    "    temperature=0\n",
    ")\n",
    "\n",
    "response = llm.invoke(\"Hello, how are you?\")\n",
    "response.pretty_print()\n",
    "print(\"✓ Initialized Ollama chat model\")\n"
   ]
  },
  {
   "cell_type": "code",
   "execution_count": 4,
   "id": "430f29c1",
   "metadata": {},
   "outputs": [],
   "source": [
    "\n",
    "# ============================================================================\n",
    "# STEP 3: SQL TOOLS - One for each step\n",
    "# ============================================================================\n",
    "\n",
    "@tool\n",
    "def get_database_schema(table_name: str = None) -> str:\n",
    "    \"\"\"Get database schema information for SQL query generation.\n",
    "    Use this first to understand table structure before creating queries.\"\"\"\n",
    "    print(f\"🔍 Getting schema for: {table_name if table_name else 'all tables'}\")\n",
    "    \n",
    "    if table_name:\n",
    "        try:\n",
    "            # Get specific table info\n",
    "            tables = db.get_usable_table_names()\n",
    "            if table_name.lower() in [t.lower() for t in tables]:\n",
    "                result = db.get_table_info([table_name])\n",
    "                print(f\"✓ Retrieved schema for table: {table_name}\")\n",
    "                return result\n",
    "            else:\n",
    "                return f\"Error: Table '{table_name}' not found. Available tables: {', '.join(tables)}\"\n",
    "        except Exception as e:\n",
    "            return f\"Error getting table info: {e}\"\n",
    "    else:\n",
    "        # Get all schema info\n",
    "        print(\"✓ Retrieved full database schema\")\n",
    "        return SCHEMA\n"
   ]
  },
  {
   "cell_type": "code",
   "execution_count": 5,
   "id": "bfaf4f88",
   "metadata": {},
   "outputs": [],
   "source": [
    "\n",
    "@tool\n",
    "def generate_sql_query(question: str, schema_info: str = None) -> str:\n",
    "    \"\"\"Generate a SQL SELECT query from a natural language question using database schema.\n",
    "    Always use this after getting schema information.\"\"\"\n",
    "    print(f\"🔧 Generating SQL for: {question[:100]}...\")\n",
    "    \n",
    "    # Use provided schema or get full schema\n",
    "    schema_to_use = schema_info if schema_info else SCHEMA\n",
    "    \n",
    "    prompt = f\"\"\"\n",
    "                Based on this database schema:\n",
    "                {schema_to_use}\n",
    "\n",
    "                Generate a SQL query to answer this question: {question}\n",
    "\n",
    "                Rules:\n",
    "                - Use only SELECT statements\n",
    "                - Include only existing columns and tables\n",
    "                - Add appropriate WHERE, GROUP BY, ORDER BY clauses as needed\n",
    "                - Limit results to 10 rows unless specified otherwise\n",
    "                - Use proper SQL syntax for SQLite\n",
    "\n",
    "                Return only the SQL query, nothing else.\n",
    "                \"\"\"\n",
    "    \n",
    "    try:\n",
    "        response = llm.invoke(prompt)\n",
    "        query = response.content.strip()\n",
    "        print(f\"✓ Generated SQL query\")\n",
    "        return query\n",
    "    except Exception as e:\n",
    "        return f\"Error generating query: {e}\"\n"
   ]
  },
  {
   "cell_type": "code",
   "execution_count": null,
   "id": "22d8ddfb",
   "metadata": {},
   "outputs": [],
   "source": [
    "@tool\n",
    "def validate_sql_query(query: str) -> str:\n",
    "    \"\"\"Validate SQL query for safety and syntax before execution.\n",
    "    Returns 'Valid: <query>' if safe or 'Error: <message>' if unsafe.\"\"\"\n",
    "    print(f\"🔍 Validating SQL: {query[:100]}...\")\n",
    "    \n",
    "    # Clean up the query\n",
    "    clean_query = query.strip()\n",
    "    \n",
    "    # Remove SQL code block markers if present\n",
    "    clean_query = re.sub(r'```sql\\s*', '', clean_query, flags=re.IGNORECASE)\n",
    "    clean_query = re.sub(r'```\\s*', '', clean_query)\n",
    "    clean_query = clean_query.strip().rstrip(\";\")\n",
    "    \n",
    "    # Check 1: Must be a SELECT statement\n",
    "    if not clean_query.lower().startswith(\"select\"):\n",
    "        return \"Error: Only SELECT statements are allowed\"\n",
    "    \n",
    "    # Check 2: Block dangerous SQL keywords\n",
    "    dangerous_keywords = ['INSERT', 'UPDATE', 'DELETE', 'ALTER', 'DROP', 'CREATE', 'TRUNCATE']\n",
    "    query_upper = clean_query.upper()\n",
    "    \n",
    "    for keyword in dangerous_keywords:\n",
    "        if keyword in query_upper:\n",
    "            return f\"Error: {keyword} operations are not allowed\"\n",
    "    \n",
    "    print(\"✓ Query validation passed\")\n",
    "    return f\"Valid: {clean_query}\""
   ]
  },
  {
   "cell_type": "code",
   "execution_count": 7,
   "id": "05493216",
   "metadata": {},
   "outputs": [],
   "source": [
    "\n",
    "@tool\n",
    "def execute_sql_query(query: str) -> str:\n",
    "    \"\"\"Execute a validated SQL query and return results.\n",
    "    Only use this after validating the query for safety.\"\"\"\n",
    "    print(f\"🚀 Executing SQL: {query[:100]}...\")\n",
    "    \n",
    "    try:\n",
    "        # Clean the query\n",
    "        clean_query = query.strip()\n",
    "        if clean_query.startswith(\"Valid: \"):\n",
    "            clean_query = clean_query[7:]  # Remove \"Valid: \" prefix\n",
    "        \n",
    "        clean_query = re.sub(r'```sql\\s*', '', clean_query, flags=re.IGNORECASE)\n",
    "        clean_query = re.sub(r'```\\s*', '', clean_query)\n",
    "        clean_query = clean_query.strip().rstrip(\";\")\n",
    "        \n",
    "        # Execute query\n",
    "        result = db.run(clean_query)\n",
    "        print(\"✓ Query executed successfully\")\n",
    "        \n",
    "        if result:\n",
    "            return f\"Query Results:\\n{result}\"\n",
    "        else:\n",
    "            return \"Query executed successfully but returned no results.\"\n",
    "            \n",
    "    except Exception as e:\n",
    "        error_msg = f\"Execution Error: {str(e)}\"\n",
    "        print(f\"✗ {error_msg}\")\n",
    "        return error_msg\n"
   ]
  },
  {
   "cell_type": "code",
   "execution_count": 8,
   "id": "c189cf2d",
   "metadata": {},
   "outputs": [],
   "source": [
    "@tool\n",
    "def fix_sql_error(original_query: str, error_message: str, question: str) -> str:\n",
    "    \"\"\"Fix a failed SQL query by analyzing the error and generating a corrected version.\n",
    "    Use this when validation or execution fails.\"\"\"\n",
    "    print(f\"🔧 Fixing SQL error: {error_message[:100]}...\")\n",
    "    \n",
    "    fix_prompt = f\"\"\"\n",
    "                    The following SQL query failed:\n",
    "                    Query: {original_query}\n",
    "                    Error: {error_message}\n",
    "                    Original Question: {question}\n",
    "\n",
    "                    Database Schema:\n",
    "                    {SCHEMA}\n",
    "\n",
    "                    Analyze the error and provide a corrected SQL query that:\n",
    "                    1. Fixes the specific error mentioned\n",
    "                    2. Still answers the original question\n",
    "                    3. Uses only valid table and column names from the schema\n",
    "                    4. Follows SQLite syntax rules\n",
    "\n",
    "                    Return only the corrected SQL query, nothing else.\n",
    "                    \"\"\"\n",
    "    \n",
    "    try:\n",
    "        response = llm.invoke(fix_prompt)\n",
    "        fixed_query = response.content.strip()\n",
    "        print(\"✓ Generated fixed SQL query\")\n",
    "        return fixed_query\n",
    "    except Exception as e:\n",
    "        return f\"Error generating fix: {e}\"\n"
   ]
  },
  {
   "cell_type": "code",
   "execution_count": 9,
   "id": "29319eec",
   "metadata": {},
   "outputs": [
    {
     "name": "stdout",
     "output_type": "stream",
     "text": [
      "✓ Created all SQL workflow tools\n"
     ]
    }
   ],
   "source": [
    "print(\"✓ Created all SQL workflow tools\")"
   ]
  },
  {
   "cell_type": "code",
   "execution_count": 10,
   "id": "71d49059",
   "metadata": {},
   "outputs": [],
   "source": [
    "# ============================================================================\n",
    "# STEP 4: SYSTEM PROMPT\n",
    "# ============================================================================\n",
    "\n",
    "SQL_SYSTEM_PROMPT = f\"\"\"You are an expert SQL analyst working with an employees database.\n",
    "\n",
    "Database Schema:\n",
    "{SCHEMA}\n",
    "\n",
    "Your workflow for answering questions:\n",
    "1. Use `get_database_schema` first to understand available tables and columns (if needed)\n",
    "2. Use `generate_sql_query` to create SQL based on the question\n",
    "3. Use `validate_sql_query` to check the query for safety and syntax\n",
    "4. Use `execute_sql_query` to run the validated query\n",
    "5. If there's an error, use `fix_sql_error` to correct it and try again (up to 3 times)\n",
    "6. Provide a clear answer based on the query results\n",
    "\n",
    "Rules:\n",
    "- Always follow the workflow step by step\n",
    "- If a query fails, use the fix tool and try again\n",
    "- Provide clear, informative answers\n",
    "- Be precise with table and column names\n",
    "- Handle errors gracefully and try to fix them\n",
    "- If you fail after 3 attempts, explain what went wrong\n",
    "\n",
    "Available tools for each step:\n",
    "- get_database_schema: Get table structure info\n",
    "- generate_sql_query: Create SQL from question\n",
    "- validate_sql_query: Check query safety/syntax  \n",
    "- execute_sql_query: Run the query\n",
    "- fix_sql_error: Fix failed queries\n",
    "\n",
    "Remember: Always validate queries before executing them for safety.\n",
    "\"\"\""
   ]
  },
  {
   "cell_type": "code",
   "execution_count": 11,
   "id": "0d86d128",
   "metadata": {},
   "outputs": [
    {
     "name": "stdout",
     "output_type": "stream",
     "text": [
      "✓ Created SQL agent with create_agent\n"
     ]
    }
   ],
   "source": [
    "# ============================================================================\n",
    "# STEP 5: CREATE AGENT\n",
    "# ============================================================================\n",
    "\n",
    "# All tools for the agent\n",
    "tools = [\n",
    "    get_database_schema,\n",
    "    generate_sql_query,\n",
    "    validate_sql_query, \n",
    "    execute_sql_query,\n",
    "    fix_sql_error\n",
    "]\n",
    "\n",
    "# Create the SQL agent using create_agent\n",
    "sql_agent = create_agent(\n",
    "    llm, \n",
    "    tools, \n",
    "    system_prompt=SQL_SYSTEM_PROMPT\n",
    ")\n",
    "\n",
    "print(\"✓ Created SQL agent with create_agent\")"
   ]
  },
  {
   "cell_type": "code",
   "execution_count": 12,
   "id": "71e0af51",
   "metadata": {},
   "outputs": [
    {
     "data": {
      "image/png": "[encoded data removed]",
      "text/plain": [
       "<langgraph.graph.state.CompiledStateGraph object at 0x0000019569CDF6D0>"
      ]
     },
     "execution_count": 12,
     "metadata": {},
     "output_type": "execute_result"
    }
   ],
   "source": [
    "sql_agent"
   ]
  },
  {
   "cell_type": "code",
   "execution_count": null,
   "id": "534a709a",
   "metadata": {},
   "outputs": [],
   "source": [
    "\n",
    "# ============================================================================\n",
    "# STEP 6: QUERY FUNCTIONS \n",
    "# ============================================================================\n",
    "\n",
    "def ask_sql(question: str):\n",
    "    \"\"\"Ask the SQL agent a question using the full workflow.\"\"\"\n",
    "    print(f\"\\n{'='*60}\")\n",
    "    print(f\"SQL AGENT - Question: {question}\")\n",
    "    print('='*60)\n",
    "    \n",
    "    for event in sql_agent.stream({\"messages\": question},stream_mode=\"values\"):\n",
    "        msg = event[\"messages\"][-1]\n",
    "        \n",
    "        # Show tool usage\n",
    "        if hasattr(msg, 'tool_calls') and msg.tool_calls:\n",
    "            for tc in msg.tool_calls:\n",
    "                print(f\"\\n🔧 Using Tool: {tc['name']}\")\n",
    "                print(f\"Args: {str(tc['args'])[:200]}...\")\n",
    "        \n",
    "        # Show final answer\n",
    "        elif hasattr(msg, 'content') and msg.content:\n",
    "            print(f\"\\n💬 Answer:\\n{msg.content}\")\n"
   ]
  },
  {
   "cell_type": "code",
   "execution_count": 16,
   "id": "d98dc6c1",
   "metadata": {},
   "outputs": [
    {
     "name": "stdout",
     "output_type": "stream",
     "text": [
      "\n",
      "============================================================\n",
      "SQL AGENT - Question: List the first 5 employees with maximum salary.\n",
      "============================================================\n",
      "\n",
      "💬 Answer:\n",
      "List the first 5 employees with maximum salary.\n",
      "\n",
      "🔧 Using: generate_sql_query\n",
      "Args: {'question': 'List the first 5 employees with maximum salary.', 'schema_info': 'Tables: employees (emp_no, birth_date, first_name, last_name, gender, hire_date), salaries (emp_no, salary, from_date, t...\n",
      "🔧 Generating SQL for: List the first 5 employees with maximum salary....\n",
      "✓ Generated SQL query\n",
      "\n",
      "💬 Answer:\n",
      "SELECT e.first_name, e.last_name, s.salary\n",
      "FROM employees e\n",
      "JOIN salaries s ON e.emp_no = s.emp_no\n",
      "ORDER BY s.salary DESC\n",
      "LIMIT 5;\n",
      "\n",
      "🔧 Using: validate_sql_query\n",
      "Args: {'query': 'SELECT e.first_name, e.last_name, s.salary\\nFROM employees e\\nJOIN salaries s ON e.emp_no = s.emp_no\\nORDER BY s.salary DESC\\nLIMIT 5;'}\n",
      "🔍 Validating SQL: SELECT e.first_name, e.last_name, s.salary\n",
      "FROM employees e\n",
      "JOIN salaries s ON e.emp_no = s.emp_no\n",
      "O...\n",
      "✓ Query validation passed\n",
      "\n",
      "💬 Answer:\n",
      "Valid: SELECT e.first_name, e.last_name, s.salary\n",
      "FROM employees e\n",
      "JOIN salaries s ON e.emp_no = s.emp_no\n",
      "ORDER BY s.salary DESC\n",
      "LIMIT 5\n",
      "\n",
      "🔧 Using: execute_sql_query\n",
      "Args: {'query': 'SELECT e.first_name, e.last_name, s.salary\\nFROM employees e\\nJOIN salaries s ON e.emp_no = s.emp_no\\nORDER BY s.salary DESC\\nLIMIT 5;'}\n",
      "🚀 Executing SQL: SELECT e.first_name, e.last_name, s.salary\n",
      "FROM employees e\n",
      "JOIN salaries s ON e.emp_no = s.emp_no\n",
      "O...\n",
      "✓ Query executed successfully\n",
      "\n",
      "💬 Answer:\n",
      "Query Results:\n",
      "[('Tokuyasu', 'Pesch', 158220), ('Tokuyasu', 'Pesch', 157821), ('Honesty', 'Mukaidono', 156286), ('Xiahua', 'Whitcomb', 155709), ('Sanjai', 'Luders', 155513)]\n",
      "\n",
      "💬 Answer:\n",
      "The query retrieves the top 5 highest salaries, but due to the way salaries are stored (one entry per salary period), it may show duplicate employees if they have multiple salary records. Here's the refined result:\n",
      "\n",
      "**Top 5 Employees by Salary:**\n",
      "1. **Tokuyasu Pesch** - $158,220\n",
      "2. **Tokuyasu Pesch** - $157,821\n",
      "3. **Honesty Mukaidono** - $156,286\n",
      "4. **Xiahua Whitcomb** - $155,709\n",
      "5. **Sanjai Luders** - $155,513\n",
      "\n",
      "**Note:** Some employees may appear multiple times if they have multiple salary records (e.g., salary changes over time). For distinct employees, use `SELECT DISTINCT` or filter by the latest salary period.\n"
     ]
    }
   ],
   "source": [
    "ask_sql(\"List the first 5 employees with maximum salary.\")"
   ]
  },
  {
   "cell_type": "code",
   "execution_count": null,
   "id": "847310f3",
   "metadata": {},
   "outputs": [],
   "source": []
  }
 ],
 "metadata": {
  "kernelspec": {
   "display_name": "ml",
   "language": "python",
   "name": "python3"
  },
  "language_info": {
   "codemirror_mode": {
    "name": "ipython",
    "version": 3
   },
   "file_extension": ".py",
   "mimetype": "text/x-python",
   "name": "python",
   "nbconvert_exporter": "python",
   "pygments_lexer": "ipython3",
   "version": "3.11.13"
  }
 },
 "nbformat": 4,
 "nbformat_minor": 5
}
