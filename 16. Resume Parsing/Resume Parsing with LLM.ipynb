{
 "cells": [
  {
   "cell_type": "markdown",
   "metadata": {},
   "source": [
    "# Announcement-on-ML\n",
    "<a href='http://www.kgptalkie.com' target=\"_blank\"> <img src='https://github.com/laxmimerit/Important-Announcement-on-ML/raw/master/kgptalkie_strips.png'/></a>\n",
    "\n",
    "# ML Resources\n",
    "|  ML Course | Description |\n",
    "|:---|:---|\n",
    "| [**Deploy LLM App with Ollama and Langchain in Production**](https://www.udemy.com/course/ollama-and-langchain/?referralCode=7F4C0C7B8CF223BA9327) | Master Langchain v0.3, Private Chatbot, Deploy LLM App.  Ollama, LLAMA, LLAMA 3.2, FAISS, RAG, Deploy RAG, Gen AI, LLM|\n",
    "| [**Fine Tuning LLM with HuggingFace Transformers for NLP**](https://www.udemy.com/course/fine-tuning-llm-with-hugging-face-transformers/?referralCode=6DEB3BE17C2644422D8E) | Learn how to fine tune LLM with custom dataset. You will learn basics of transformers then fine tune LLM|\n",
    "| [**Data Visualization in Python Masterclass™: Beginners to Pro**](https://bit.ly/udemy95off_kgptalkie) |  Learn to build Machine Learning and Deep Learning models using Python and its libraries like Scikit-Learn, Keras, and TensorFlow. |\n",
    "| [**Python for Machine Learning: A Step-by-Step Guide**](https://bit.ly/ml-ds-project) | Learn to build Machine Learning and Deep Learning models using Python and its libraries like Scikit-Learn, Keras, and TensorFlow. |\n",
    "| [**Deep Learning for Beginners with Python**](https://bit.ly/dl-with-python) | Neural Networks, TensorFlow, ANN, CNN, RNN, LSTM, Transfer Learning and Much More. |\n",
    "| [**Python for Linear Regression in Machine Learning**](https://bit.ly/regression-python) | Learn to build Linear Regression models using Python and its libraries like Scikit-Learn. |\n",
    "| [**Introduction to Spacy 3 for Natural Language Processing**](https://bit.ly/spacy-intro) | Learn to build Natural Language Processing models using Python and its libraries like Spacy. |\n",
    "| [**Advanced Machine Learning and Deep Learning Projects**](https://bit.ly/kgptalkie_ml_projects) | Learn to build Advanced Machine Learning and Deep Learning models using Python and transformer models like BERT, GPT-2, and XLNet. |\n",
    "| [**Natural Language Processing in Python for Beginners**](https://bit.ly/intro_nlp) | Learn to build Natural Language Processing Projects using Spacy, NLTK, and Gensim, and transformer models like BERT, GPT-2, and XLNet. |\n",
    "| [**Deployment of Machine Learning Models in Production in Python**](https://bit.ly/bert_nlp) |  Learn to deploy Machine Learning and Deep Learning models using Python and its libraries like Flask, Streamlit, and NGINX. |\n",
    "| [**R 4.0 Programming for Data Science - Beginners to Pro**](https://bit.ly/r4-ml) | Learn to build Machine Learning and Deep Learning models using R and its libraries like caret, tidyverse, and keras. |\n"
   ]
  },
  {
   "cell_type": "markdown",
   "metadata": {},
   "source": [
    "## Resume Parsing with LLM\n"
   ]
  },
  {
   "cell_type": "code",
   "execution_count": 1,
   "metadata": {},
   "outputs": [
    {
     "data": {
      "text/plain": [
       "True"
      ]
     },
     "execution_count": 1,
     "metadata": {},
     "output_type": "execute_result"
    }
   ],
   "source": [
    "from dotenv import load_dotenv\n",
    "\n",
    "load_dotenv('./../.env')"
   ]
  },
  {
   "cell_type": "code",
   "execution_count": 2,
   "metadata": {},
   "outputs": [],
   "source": [
    "from langchain_community.document_loaders import  PyMuPDFLoader"
   ]
  },
  {
   "cell_type": "code",
   "execution_count": 3,
   "metadata": {},
   "outputs": [],
   "source": [
    "# filename = 'resume-2.pdf'\n",
    "filename = 'resume-1.pdf'\n",
    "\n",
    "loader = PyMuPDFLoader('resume/{}'.format(filename))\n",
    "docs = loader.load()"
   ]
  },
  {
   "cell_type": "code",
   "execution_count": 4,
   "metadata": {},
   "outputs": [],
   "source": [
    "# print(docs[0].page_content)"
   ]
  },
  {
   "cell_type": "code",
   "execution_count": 5,
   "metadata": {},
   "outputs": [],
   "source": [
    "context = docs[0].page_content\n",
    "\n",
    "question = \"\"\"You are tasked with parsing a job resume. Your goal is to extract relevant information in a valid structured 'JSON' format. \n",
    "                Do not write preambles or explanations.\"\"\""
   ]
  },
  {
   "cell_type": "code",
   "execution_count": 6,
   "metadata": {},
   "outputs": [],
   "source": [
    "from scripts.llm import ask_llm, validate_json"
   ]
  },
  {
   "cell_type": "code",
   "execution_count": 7,
   "metadata": {},
   "outputs": [],
   "source": [
    "response = ask_llm(context=context, question=question)"
   ]
  },
  {
   "cell_type": "code",
   "execution_count": 8,
   "metadata": {},
   "outputs": [],
   "source": [
    "response = validate_json(response)"
   ]
  },
  {
   "cell_type": "code",
   "execution_count": 9,
   "metadata": {},
   "outputs": [
    {
     "name": "stdout",
     "output_type": "stream",
     "text": [
      "{'Contact Information': {'Name': 'Kumar Pallav', 'Email': 'me@kumarpallav.com', 'Phone Number': '+1-206-910-0006', 'Website/Portfolio': 'http://kumarpallav.com'}, 'Education': {'Institution Name': 'Indian Institute of Technology, Bombay', 'Degree': 'Bachelor of Computer Science and Engineering (with Hons.)', 'Field of Study': 'Computer Science and Engineering', 'Graduation Dates': 'Jun 2010 - May 2014'}, 'Experience': [{'Job Title': 'Software Engineer · OneNote', 'Company Name': 'Microsoft', 'Location': 'Redmond, WA', 'Dates of Employment': 'Jun 2016 - Present', 'Responsibilities/Projects': ['Magic Ink and Ink Lookup: Recognizing ink strokes into words, custom entity recognition, inserting interactive widgets on Whiteboard canvas', 'Whiteboard App: Shared session via OneDrive for Business, XAML components for dialogs', 'Content Addins: Embedded web apps for OneNote desktop, persistence model, rendering']}, {'Job Title': 'Software Engineer · OneNote', 'Company Name': 'Microsoft', 'Location': 'Vancouver, Canada', 'Dates of Employment': 'Nov 2014 - May 2016', 'Responsibilities/Projects': ['Embedded Videos and Web Content: Backwards compatibility, editing web content in OneNote web app', 'Merged Cells for Tables: Spanned cells in tables, OneNote web app support', 'Realtime Ink: Prototyped ink collaboration using SignalR web-sockets']}, {'Job Title': 'Software Engineering Intern · Apps for Enterprises', 'Company Name': 'Oracle', 'Location': 'Bangalore, India', 'Dates of Employment': 'Nov 2014 - May 2016', 'Responsibilities/Projects': ['Containerization of iOS Apps: Sandboxing, swizzling, dynamic library injection', 'Sandboxed Browser App: Custom script for URL-restricted iOS browser']}], 'Projects': [{'Project Title': 'Course Allotment Simulation using SAT Solver', 'Description/Technologies Used': 'Solved course allocation as SAT problem, studied MiniSAT and Glucose solvers', 'Outcomes/Results': 'Analyzed policy effects on course allotment'}, {'Project Title': 'IIT Bombay Hospital Digitization', 'Description/Technologies Used': 'Java web app with MySQL for hospital operations', 'Outcomes/Results': 'Managed relational database processes'}, {'Project Title': 'Simple 2D Physics Engine', 'Description/Technologies Used': 'Physics engine for round bodies with collision, gravity, and real-time coordinates', 'Outcomes/Results': 'Generated real-time physics simulations'}, {'Project Title': 'Social Sea', 'Description/Technologies Used': 'Lightweight social search engine with peer-group page-ranking', 'Outcomes/Results': 'Ranked results based on search history and ratings'}], 'Skills': {'Programming Languages': ['C++', 'CSharp', 'JavaScript', 'Java', 'C'], 'Technologies/Tools': ['NodeJs', 'UWP', 'Win32']}}\n"
     ]
    }
   ],
   "source": [
    "print(response)"
   ]
  },
  {
   "cell_type": "code",
   "execution_count": 10,
   "metadata": {},
   "outputs": [],
   "source": [
    "import json\n",
    "\n",
    "output_file = filename.replace('.pdf', '.json')\n",
    "output_file = 'parsed_resume/{}'.format(output_file)\n",
    "\n",
    "json.dump(response, open(output_file, 'w'), indent=4)"
   ]
  },
  {
   "cell_type": "code",
   "execution_count": null,
   "metadata": {},
   "outputs": [],
   "source": []
  }
 ],
 "metadata": {
  "kernelspec": {
   "display_name": "ml",
   "language": "python",
   "name": "python3"
  },
  "language_info": {
   "codemirror_mode": {
    "name": "ipython",
    "version": 3
   },
   "file_extension": ".py",
   "mimetype": "text/x-python",
   "name": "python",
   "nbconvert_exporter": "python",
   "pygments_lexer": "ipython3",
   "version": "3.11.13"
  }
 },
 "nbformat": 4,
 "nbformat_minor": 2
}
