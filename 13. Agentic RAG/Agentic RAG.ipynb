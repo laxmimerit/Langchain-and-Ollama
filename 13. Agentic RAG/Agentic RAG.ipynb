{
 "cells": [
  {
   "cell_type": "markdown",
   "id": "3c364c80",
   "metadata": {},
   "source": [
    "## Agentic RAG with Langchain v1, Ollama, and FAISS\n",
    "**Key Features:**\n",
    "- Agent-based architecture with autonomous tool usage for document retrieval\n",
    "- FAISS vector store for efficient semantic search across document embeddings\n",
    "- Ollama integration with Qwen3 LLM and nomic-embed-text embeddings for local deployment\n",
    "- Custom retrieval tool that finds and formats relevant document chunks with metadata\n",
    "- Interactive chat interface with streaming responses and tool call visibility"
   ]
  },
  {
   "cell_type": "code",
   "execution_count": 1,
   "id": "c61a582d",
   "metadata": {},
   "outputs": [],
   "source": [
    "# ollama pull nomic-embed-text\n",
    "# ollama pull qwen3"
   ]
  },
  {
   "cell_type": "code",
   "execution_count": 2,
   "id": "750be741",
   "metadata": {},
   "outputs": [],
   "source": [
    "# use the langchain pre-release for latest features\n",
    "# pip install -U langchain langchain-ollama, langchain-community langchain-core faiss-cpu\n",
    "import os\n",
    "import warnings\n",
    "os.environ['KMP_DUPLICATE_LIB_OK'] = 'True'\n",
    "warnings.filterwarnings(\"ignore\")\n",
    "\n",
    "from langchain_core.tools import tool\n",
    "from langchain.agents import create_agent\n",
    "from langchain_ollama import ChatOllama, OllamaEmbeddings\n",
    "from langchain_community.vectorstores import FAISS\n",
    "from dotenv import load_dotenv\n",
    "\n",
    "\n",
    "load_dotenv()\n",
    "\n",
    "# ============================================================================\n",
    "# LLM & VECTOR STORE SETUP\n",
    "# ============================================================================\n",
    "# Ollama LLM with Qwen3\n",
    "llm = ChatOllama(\n",
    "    model=\"qwen3\", \n",
    "    base_url=\"http://localhost:11434\"\n",
    ")\n",
    "\n",
    "# Ollama Embeddings\n",
    "embeddings = OllamaEmbeddings(\n",
    "    model=\"nomic-embed-text\",\n",
    "    base_url=\"http://localhost:11434\"\n",
    ")\n",
    "\n",
    "# FAISS Vector Store (assumes data already exists from previous code)\n",
    "db_name = \"./../09. Vector Stores and Retrievals/health_supplements\"\n",
    "vector_store = FAISS.load_local(\n",
    "    db_name,\n",
    "    embeddings,\n",
    "    allow_dangerous_deserialization=True\n",
    ")"
   ]
  },
  {
   "cell_type": "code",
   "execution_count": 3,
   "id": "c1ce7c29",
   "metadata": {},
   "outputs": [
    {
     "data": {
      "text/plain": [
       "AIMessage(content='Hello! How can I assist you today? 😊', additional_kwargs={}, response_metadata={'model': 'qwen3', 'created_at': '2025-10-21T14:59:59.673727Z', 'done': True, 'done_reason': 'stop', 'total_duration': 751651300, 'load_duration': 66993700, 'prompt_eval_count': 11, 'prompt_eval_duration': 20360300, 'eval_count': 117, 'eval_duration': 638897500, 'model_name': 'qwen3', 'model_provider': 'ollama'}, id='lc_run--d0632dfa-be91-49bd-a6c0-a181b5be089e-0', usage_metadata={'input_tokens': 11, 'output_tokens': 117, 'total_tokens': 128})"
      ]
     },
     "execution_count": 3,
     "metadata": {},
     "output_type": "execute_result"
    }
   ],
   "source": [
    "llm.invoke(\"Hello\")"
   ]
  },
  {
   "cell_type": "code",
   "execution_count": 4,
   "id": "53deb9de",
   "metadata": {},
   "outputs": [
    {
     "name": "stdout",
     "output_type": "stream",
     "text": [
      "\n",
      "🔍 Testing Vector Store Connection...\n",
      "✓ Vector store found with 311 documents\n",
      "\n",
      "✓ Sample search for 'creatine':\n",
      "  1. Page 0: acids than traditional protein sources. Its numerous benefits have made it a popular choice\n",
      "for snac...\n",
      "  2. Page 1: Foods 2024, 13, 1424\n",
      "2 of 21\n",
      "and sports industry, evidence suggests that creatine can benefit not on...\n",
      "  3. Page 10: supplements such as creatine or beta-alanine were used only once a week, which cannot be eﬀective [9...\n"
     ]
    }
   ],
   "source": [
    "# ============================================================================\n",
    "# VECTOR STORE VERIFICATION\n",
    "# ============================================================================\n",
    "print(\"\\n🔍 Testing Vector Store Connection...\")\n",
    "\n",
    "# Test 1: Check collection info\n",
    "doc_count = vector_store.index.ntotal\n",
    "print(f\"✓ Vector store found with {doc_count} documents\")\n",
    "\n",
    "\n",
    "# Test 2: Sample similarity search\n",
    "test_query = \"creatine\"\n",
    "results = vector_store.similarity_search(test_query, k=3)\n",
    "print(f\"\\n✓ Sample search for '{test_query}':\")\n",
    "for i, doc in enumerate(results, 1):\n",
    "    print(f\"  {i}. Page {doc.metadata.get('page', '?')}: {doc.page_content[:100]}...\")\n",
    "\n"
   ]
  },
  {
   "cell_type": "code",
   "execution_count": 5,
   "id": "f2c7c069",
   "metadata": {},
   "outputs": [
    {
     "data": {
      "text/plain": [
       "[Document(id='fd6ca7af-09ea-44bf-b197-655128273c30', metadata={'producer': 'iLovePDF', 'creator': '', 'creationdate': '', 'source': 'rag-dataset\\\\gym supplements\\\\1. Analysis of Actual Fitness Supplement.pdf', 'file_path': 'rag-dataset\\\\gym supplements\\\\1. Analysis of Actual Fitness Supplement.pdf', 'total_pages': 15, 'format': 'PDF 1.7', 'title': '', 'author': '', 'subject': '', 'keywords': '', 'moddate': '2024-10-21T11:38:50+00:00', 'trapped': '', 'modDate': 'D:20241021113850Z', 'creationDate': '', 'page': 0}, page_content='acids than traditional protein sources. Its numerous benefits have made it a popular choice\\nfor snacks and drinks among consumers [3]. Another widely embraced supplement is\\ncaffeine, which is found in many sports and food supplements. Caffeine reduces perceived\\neffort, minimizes fatigue and pain, and proves to be effective for endurance and high-\\nintensity activities, which is the choice of consumers [4].\\nCreatine monohydrate is another well-known supplement used to gain muscle mass\\nand support performance and recovery. It is known not to increase fat mass and remains\\neffective even when taken in recommended doses [5]. Despite its popularity in the fitness\\nFoods 2024, 13, 1424. https://doi.org/10.3390/foods13091424\\nhttps://www.mdpi.com/journal/foods'),\n",
       " Document(id='04dc7e5b-a64c-465b-9b07-464f38ae4974', metadata={'producer': 'iLovePDF', 'creator': '', 'creationdate': '', 'source': 'rag-dataset\\\\gym supplements\\\\1. Analysis of Actual Fitness Supplement.pdf', 'file_path': 'rag-dataset\\\\gym supplements\\\\1. Analysis of Actual Fitness Supplement.pdf', 'total_pages': 15, 'format': 'PDF 1.7', 'title': '', 'author': '', 'subject': '', 'keywords': '', 'moddate': '2024-10-21T11:38:50+00:00', 'trapped': '', 'modDate': 'D:20241021113850Z', 'creationDate': '', 'page': 1}, page_content='Foods 2024, 13, 1424\\n2 of 21\\nand sports industry, evidence suggests that creatine can benefit not only athletes but also\\nthe elderly and the general population [6]. Branched-chain amino acids (BCAA) also offer\\na plethora of benefits for consumers. As explained by Sanz et al. [7], BCAAs are stored\\ndirectly in muscles and serve as the raw materials needed to build new muscle. This\\ncontributes to the overall process of strengthening muscles and alleviating post-workout\\nsoreness. Consumers often integrate these supplements into their routines with the aim of\\noptimizing the outcomes they wish to achieve and support overall well-being [1].\\nThe sports supplement industry makes for an impressive market share of nearly\\n$12 billion in the health/wellness portfolio and is projected to be worth $24.4 billion\\nby 2025. In a study by Burke [4], which investigated 20 published studies about the\\nprevalence, methods, and reasons for supplement consumption, it is evident from the'),\n",
       " Document(id='a453a854-9a89-4295-9ac0-c32e191fffb3', metadata={'producer': 'iLovePDF', 'creator': '', 'creationdate': '', 'source': 'rag-dataset\\\\gym supplements\\\\2. High Prevalence of Supplement Intake.pdf', 'file_path': 'rag-dataset\\\\gym supplements\\\\2. High Prevalence of Supplement Intake.pdf', 'total_pages': 11, 'format': 'PDF 1.5', 'title': '', 'author': '', 'subject': '', 'keywords': '', 'moddate': '2024-10-21T11:39:04+00:00', 'trapped': '', 'modDate': 'D:20241021113904Z', 'creationDate': '', 'page': 10}, page_content='supplements such as creatine or beta-alanine were used only once a week, which cannot be eﬀective [9],\\nindicating random supplement use. This may be a further consequence of insuﬃcient knowledge\\namong the study population. Moreover, excessive use of supplements such as 100 supplement servings\\nper week is rather unlikely to reﬂect a targeted supplement use.\\n4.3. Limitations\\nCertainly, this study has some limitations. Firstly, we could only screen a limited number of\\nﬁtness centers. Secondly, the overall response rate of 59% did not exclude a certain selection bias.\\nNevertheless, we managed to include more subjects than many other studies [4] and the available\\nindicator (average age) does not speak against the hypothesis that the study population might more\\nor less represent the population of the screened ﬁtness centers. Furthermore, the questionnaire was\\nintentionally reduced to one two-sided A4 paper in order to keep it simple and short and with the')]"
      ]
     },
     "execution_count": 5,
     "metadata": {},
     "output_type": "execute_result"
    }
   ],
   "source": [
    "results"
   ]
  },
  {
   "cell_type": "code",
   "execution_count": 6,
   "id": "fc82f15d",
   "metadata": {},
   "outputs": [],
   "source": [
    "# ============================================================================\n",
    "# RETRIEVAL TOOL\n",
    "# ============================================================================\n",
    "@tool()\n",
    "def retrieve_context(query: str):\n",
    "    \"\"\"Retrieve relevant information for health related queries from the document to answer the query.\n",
    "    \n",
    "    \"\"\"\n",
    "    print(f\"🔍 Searching: '{query}'\")\n",
    "    \n",
    "    # Perform similarity search\n",
    "    docs = vector_store.similarity_search(query, k=4)\n",
    "    \n",
    "    # Format for LLM\n",
    "    content = \"\\n\\n\".join(\n",
    "        f\"Page {doc.metadata.get('page', '?')}: {doc.page_content}\" \n",
    "        for doc in docs\n",
    "    )\n",
    "    \n",
    "    print(f\"✓ Found {len(docs)} relevant chunks\")\n",
    "    return content, docs\n",
    "\n",
    "# ============================================================================\n",
    "# AGENT CREATION\n",
    "# ============================================================================\n",
    "tools = [retrieve_context]\n",
    "\n",
    "# Agent prompt - simplified for single tool\n",
    "system_prompt = \"\"\"You are a research assistant with a document retrieval tool.\n",
    "\n",
    "                    Tool:\n",
    "                    - retrieve_context: Search the document for relevant information\n",
    "\n",
    "                    Always use the tool to find relevant information before answering.\n",
    "                    Cite page numbers and be thorough.\"\"\"\n",
    "\n"
   ]
  },
  {
   "cell_type": "code",
   "execution_count": 7,
   "id": "717c7717",
   "metadata": {},
   "outputs": [
    {
     "data": {
      "image/png": "[encoded data removed]",
      "text/plain": [
       "<langgraph.graph.state.CompiledStateGraph object at 0x000001857F915D50>"
      ]
     },
     "execution_count": 7,
     "metadata": {},
     "output_type": "execute_result"
    }
   ],
   "source": [
    "# Create the agentic RAG\n",
    "rag_agent = create_agent(llm, tools, system_prompt=system_prompt)\n",
    "\n",
    "rag_agent\n"
   ]
  },
  {
   "cell_type": "code",
   "execution_count": 8,
   "id": "f4810cf8",
   "metadata": {},
   "outputs": [
    {
     "name": "stdout",
     "output_type": "stream",
     "text": [
      "🔍 Searching: 'What is the use of BCAA?'\n",
      "✓ Found 4 relevant chunks\n"
     ]
    },
    {
     "data": {
      "text/plain": [
       "{'messages': [HumanMessage(content='What is the use of BCAA?', additional_kwargs={}, response_metadata={}, id='303d0e18-ccf5-4f1e-9f46-0bcec61fb5b5'),\n",
       "  AIMessage(content='', additional_kwargs={}, response_metadata={'model': 'qwen3', 'created_at': '2025-10-21T15:00:01.9215556Z', 'done': True, 'done_reason': 'stop', 'total_duration': 1484000300, 'load_duration': 66816200, 'prompt_eval_count': 199, 'prompt_eval_duration': 26715900, 'eval_count': 258, 'eval_duration': 1342656200, 'model_name': 'qwen3', 'model_provider': 'ollama'}, id='lc_run--3ed7f0e8-f935-4392-964f-56f0dc07bc52-0', tool_calls=[{'name': 'retrieve_context', 'args': {'query': 'What is the use of BCAA?'}, 'id': 'fef18491-88ac-4963-be01-debfc57f8e32', 'type': 'tool_call'}], usage_metadata={'input_tokens': 199, 'output_tokens': 258, 'total_tokens': 457}),\n",
       "  ToolMessage(content=\"('Page 1: Foods 2024, 13, 1424\\\\n2 of 21\\\\nand sports industry, evidence suggests that creatine can benefit not only athletes but also\\\\nthe elderly and the general population [6]. Branched-chain amino acids (BCAA) also offer\\\\na plethora of benefits for consumers. As explained by Sanz et al. [7], BCAAs are stored\\\\ndirectly in muscles and serve as the raw materials needed to build new muscle. This\\\\ncontributes to the overall process of strengthening muscles and alleviating post-workout\\\\nsoreness. Consumers often integrate these supplements into their routines with the aim of\\\\noptimizing the outcomes they wish to achieve and support overall well-being [1].\\\\nThe sports supplement industry makes for an impressive market share of nearly\\\\n$12 billion in the health/wellness portfolio and is projected to be worth $24.4 billion\\\\nby 2025. In a study by Burke [4], which investigated 20 published studies about the\\\\nprevalence, methods, and reasons for supplement consumption, it is evident from the\\\\n\\\\nPage 2: DSHEA, 1994)\\\\nA diet supplement that delivers a\\\\nconcentrated form of a biologically\\\\nactive component of food in a nonfood\\\\nmatrix to enhance health.\\\\nZeisel SH. Regulation of “Nutraceuticals”.\\\\nScience. 1999: 285; 1853–5. Food and\\\\nDrug Administration, FDA, Dietary\\\\nSupplement Health and Education\\\\nAct of 1994 (DSHEA), United States. [75]\\\\nNutraceuticals (Brower, 1998)\\\\nAny substance that is a food or a part\\\\nof a food and is able to induce medical\\\\nand health beneﬁts, including the\\\\nprevention and treatment of disease.\\\\nBrower V. Nat Biotechnol 1998; 16: 728. [76]\\\\nNutraceuticals (Merriam Webster\\\\nDictionary, 2015)\\\\nA foodstuff (as a fortiﬁed food or\\\\ndietary supplement) that provides\\\\nhealth beneﬁts in addition to\\\\nits basic nutritional.\\\\nMerriam-Webster Online Dictionary. 2015.\\\\nMerriam-Webster Inc., P.O. Box 281,\\\\nSpringﬁeld, MA 01102, United States. [77]\\\\nNutraceuticals (ENA, 2016)\\\\nNutritional products that provide\\\\nhealth and medical beneﬁts,\\\\nincluding the prevention\\\\nand treatment of disease.\\\\n\\\\nPage 7: appetite, body weight, and BMI after intake for 8 weeks (74). Accidental intake of \\\\nsupplements with DMAA, mainly in children, have caused relatively mild adverse effects \\\\nsuch as tachycardia, nausea, and vomiting (75). However, serious cardiovascular events after \\\\nDMAA intake have also been reported. Recreational use of DMAA in New Zealand has \\\\nbeen associated with cases of cerebral hemorrhage (76,77). Furthermore, there are three \\\\ncases of cardiac arrest occurring during physical exercise in the military and in a gym \\\\nfollowing intake of DMAA-containing supplements (71,78). Two of the events eventually \\\\nled to the deaths of US soldiers. While it cannot be proven that DMAA is the causative agent \\\\nfor all the adverse events, it is clear that DMAA does indeed have cardiovascular effects \\\\nsuch as vasoconstriction and elevation of blood pressure (79,80). Following receipt of 42 \\\\nadverse events reports on products with DMAA, the FDA in April 2012 sent warning letters\\\\n\\\\nPage 7: component of Geranium plants, e.g. as geranium extract (71). However, the presence of \\\\nDMAA in plants has not been verified, leading to the conclusion that DMAA in supplements \\\\nis generated by chemical synthesis (72). DMAA has further been banned as a performance \\\\nenhancing drug by the World Anti-Doping Agency (73). One version of the weight-loss \\\\nsupplement OxyELITE Pro from USPlabs, LLC contained the compound 1,3-\\\\ndimethylamylamine (DMAA) in addition to ingredients such as caffeine, Bauhinia purpurea, \\\\nBacopa monniera, Cirsium oligophyllum, and rauwolscine (Yohimbe) extract. Studies that \\\\nwere supported financially by USPlabs, LLC with a small number of healthy volunteers \\\\nsuggested that this supplement formulation could increase lipolysis, metabolic rate, heart \\\\nrate and systolic blood pressure in the short term (2 h) as well as lead to small decreases in \\\\nappetite, body weight, and BMI after intake for 8 weeks (74). Accidental intake of', [Document(id='04dc7e5b-a64c-465b-9b07-464f38ae4974', metadata={'producer': 'iLovePDF', 'creator': '', 'creationdate': '', 'source': 'rag-dataset\\\\\\\\gym supplements\\\\\\\\1. Analysis of Actual Fitness Supplement.pdf', 'file_path': 'rag-dataset\\\\\\\\gym supplements\\\\\\\\1. Analysis of Actual Fitness Supplement.pdf', 'total_pages': 15, 'format': 'PDF 1.7', 'title': '', 'author': '', 'subject': '', 'keywords': '', 'moddate': '2024-10-21T11:38:50+00:00', 'trapped': '', 'modDate': 'D:20241021113850Z', 'creationDate': '', 'page': 1}, page_content='Foods 2024, 13, 1424\\\\n2 of 21\\\\nand sports industry, evidence suggests that creatine can benefit not only athletes but also\\\\nthe elderly and the general population [6]. Branched-chain amino acids (BCAA) also offer\\\\na plethora of benefits for consumers. As explained by Sanz et al. [7], BCAAs are stored\\\\ndirectly in muscles and serve as the raw materials needed to build new muscle. This\\\\ncontributes to the overall process of strengthening muscles and alleviating post-workout\\\\nsoreness. Consumers often integrate these supplements into their routines with the aim of\\\\noptimizing the outcomes they wish to achieve and support overall well-being [1].\\\\nThe sports supplement industry makes for an impressive market share of nearly\\\\n$12 billion in the health/wellness portfolio and is projected to be worth $24.4 billion\\\\nby 2025. In a study by Burke [4], which investigated 20 published studies about the\\\\nprevalence, methods, and reasons for supplement consumption, it is evident from the'), Document(id='22e16d26-23aa-412d-81f9-014f268a8a2f', metadata={'producer': 'iLovePDF', 'creator': '', 'creationdate': '', 'source': 'rag-dataset\\\\\\\\health supplements\\\\\\\\2. Nutraceuticals research.pdf', 'file_path': 'rag-dataset\\\\\\\\health supplements\\\\\\\\2. Nutraceuticals research.pdf', 'total_pages': 10, 'format': 'PDF 1.4', 'title': '', 'author': '', 'subject': '', 'keywords': '', 'moddate': '2024-10-21T11:38:30+00:00', 'trapped': '', 'modDate': 'D:20241021113830Z', 'creationDate': '', 'page': 2}, page_content='DSHEA, 1994)\\\\nA diet supplement that delivers a\\\\nconcentrated form of a biologically\\\\nactive component of food in a nonfood\\\\nmatrix to enhance health.\\\\nZeisel SH. Regulation of “Nutraceuticals”.\\\\nScience. 1999: 285; 1853–5. Food and\\\\nDrug Administration, FDA, Dietary\\\\nSupplement Health and Education\\\\nAct of 1994 (DSHEA), United States. [75]\\\\nNutraceuticals (Brower, 1998)\\\\nAny substance that is a food or a part\\\\nof a food and is able to induce medical\\\\nand health beneﬁts, including the\\\\nprevention and treatment of disease.\\\\nBrower V. Nat Biotechnol 1998; 16: 728. [76]\\\\nNutraceuticals (Merriam Webster\\\\nDictionary, 2015)\\\\nA foodstuff (as a fortiﬁed food or\\\\ndietary supplement) that provides\\\\nhealth beneﬁts in addition to\\\\nits basic nutritional.\\\\nMerriam-Webster Online Dictionary. 2015.\\\\nMerriam-Webster Inc., P.O. Box 281,\\\\nSpringﬁeld, MA 01102, United States. [77]\\\\nNutraceuticals (ENA, 2016)\\\\nNutritional products that provide\\\\nhealth and medical beneﬁts,\\\\nincluding the prevention\\\\nand treatment of disease.'), Document(id='9f3061fe-dbec-4ce9-b833-1cc0978ffa64', metadata={'producer': 'iLovePDF', 'creator': '', 'creationdate': '', 'source': 'rag-dataset\\\\\\\\health supplements\\\\\\\\3.health_supplements_side_effects.pdf', 'file_path': 'rag-dataset\\\\\\\\health supplements\\\\\\\\3.health_supplements_side_effects.pdf', 'total_pages': 11, 'format': 'PDF 1.5', 'title': '', 'author': '', 'subject': '', 'keywords': '', 'moddate': '2024-10-21T14:37:42+00:00', 'trapped': '', 'modDate': 'D:20241021143742Z', 'creationDate': '', 'page': 7}, page_content='appetite, body weight, and BMI after intake for 8 weeks (74). Accidental intake of \\\\nsupplements with DMAA, mainly in children, have caused relatively mild adverse effects \\\\nsuch as tachycardia, nausea, and vomiting (75). However, serious cardiovascular events after \\\\nDMAA intake have also been reported. Recreational use of DMAA in New Zealand has \\\\nbeen associated with cases of cerebral hemorrhage (76,77). Furthermore, there are three \\\\ncases of cardiac arrest occurring during physical exercise in the military and in a gym \\\\nfollowing intake of DMAA-containing supplements (71,78). Two of the events eventually \\\\nled to the deaths of US soldiers. While it cannot be proven that DMAA is the causative agent \\\\nfor all the adverse events, it is clear that DMAA does indeed have cardiovascular effects \\\\nsuch as vasoconstriction and elevation of blood pressure (79,80). Following receipt of 42 \\\\nadverse events reports on products with DMAA, the FDA in April 2012 sent warning letters'), Document(id='3510e7cb-4236-478d-bc3a-adec2e1987bd', metadata={'producer': 'iLovePDF', 'creator': '', 'creationdate': '', 'source': 'rag-dataset\\\\\\\\health supplements\\\\\\\\3.health_supplements_side_effects.pdf', 'file_path': 'rag-dataset\\\\\\\\health supplements\\\\\\\\3.health_supplements_side_effects.pdf', 'total_pages': 11, 'format': 'PDF 1.5', 'title': '', 'author': '', 'subject': '', 'keywords': '', 'moddate': '2024-10-21T14:37:42+00:00', 'trapped': '', 'modDate': 'D:20241021143742Z', 'creationDate': '', 'page': 7}, page_content='component of Geranium plants, e.g. as geranium extract (71). However, the presence of \\\\nDMAA in plants has not been verified, leading to the conclusion that DMAA in supplements \\\\nis generated by chemical synthesis (72). DMAA has further been banned as a performance \\\\nenhancing drug by the World Anti-Doping Agency (73). One version of the weight-loss \\\\nsupplement OxyELITE Pro from USPlabs, LLC contained the compound 1,3-\\\\ndimethylamylamine (DMAA) in addition to ingredients such as caffeine, Bauhinia purpurea, \\\\nBacopa monniera, Cirsium oligophyllum, and rauwolscine (Yohimbe) extract. Studies that \\\\nwere supported financially by USPlabs, LLC with a small number of healthy volunteers \\\\nsuggested that this supplement formulation could increase lipolysis, metabolic rate, heart \\\\nrate and systolic blood pressure in the short term (2 h) as well as lead to small decreases in \\\\nappetite, body weight, and BMI after intake for 8 weeks (74). Accidental intake of')])\", name='retrieve_context', id='65245d5f-7e5c-4228-9089-1d53ed2c7dba', tool_call_id='fef18491-88ac-4963-be01-debfc57f8e32'),\n",
       "  AIMessage(content='Branched-chain amino acids (BCAA) are primarily used for their role in muscle growth and recovery. As stated in the document, BCAAs are stored directly in muscles and serve as raw materials to build new muscle, contributing to muscle strengthening and alleviating post-workout soreness [1]. Consumers often incorporate BCAA supplements into their routines to optimize athletic performance and support overall well-being [1]. \\n\\n**Citation:** Page 1 of *Foods 2024, 13, 1424* (Document ID: 04dc7e5b-a64c-465b-9b07-464f38ae4974).', additional_kwargs={}, response_metadata={'model': 'qwen3', 'created_at': '2025-10-21T15:00:03.7877782Z', 'done': True, 'done_reason': 'stop', 'total_duration': 1832735600, 'load_duration': 67557600, 'prompt_eval_count': 3184, 'prompt_eval_duration': 259247100, 'eval_count': 260, 'eval_duration': 1445725600, 'model_name': 'qwen3', 'model_provider': 'ollama'}, id='lc_run--b4522bfa-567e-4c3c-be6e-08e2414cf82a-0', usage_metadata={'input_tokens': 3184, 'output_tokens': 260, 'total_tokens': 3444})]}"
      ]
     },
     "execution_count": 8,
     "metadata": {},
     "output_type": "execute_result"
    }
   ],
   "source": [
    "rag_agent\n",
    "\n",
    "response = rag_agent.invoke({'messages': \"What is the use of BCAA?\"})\n",
    "response"
   ]
  },
  {
   "cell_type": "code",
   "execution_count": 9,
   "id": "e7f3bcf0",
   "metadata": {},
   "outputs": [],
   "source": [
    "# ============================================================================\n",
    "# QUERY FUNCTION\n",
    "# ============================================================================\n",
    "def ask(question: str):\n",
    "    \"\"\"Ask the agentic RAG a question.\"\"\"\n",
    "    print(f\"\\n{'='*60}\")\n",
    "    print(f\"Question: {question}\")\n",
    "    print('='*60)\n",
    "    \n",
    "    for event in rag_agent.stream(\n",
    "        {\"messages\": [{\"role\": \"user\", \"content\": question}]},\n",
    "        stream_mode=\"values\"\n",
    "    ):\n",
    "        msg = event[\"messages\"][-1]\n",
    "        \n",
    "        # Show tool usage\n",
    "        if hasattr(msg, 'tool_calls') and msg.tool_calls:\n",
    "            for tc in msg.tool_calls:\n",
    "                print(f\"\\n🔧 Using: {tc['name']} with {tc['args']}\")\n",
    "        \n",
    "        # Show final answer\n",
    "        elif hasattr(msg, 'content') and msg.content:\n",
    "            print(f\"\\n💬 Answer:\\n{msg.content}\")"
   ]
  },
  {
   "cell_type": "code",
   "execution_count": 10,
   "id": "ed913f8e",
   "metadata": {},
   "outputs": [
    {
     "name": "stdout",
     "output_type": "stream",
     "text": [
      "\n",
      "============================================================\n",
      "Question: how to gain muscle mass?\n",
      "============================================================\n",
      "\n",
      "💬 Answer:\n",
      "how to gain muscle mass?\n",
      "\n",
      "🔧 Using: retrieve_context with {'query': 'how to gain muscle mass'}\n",
      "🔍 Searching: 'how to gain muscle mass'\n",
      "✓ Found 4 relevant chunks\n",
      "\n",
      "💬 Answer:\n",
      "('Page 8: and strength gain among men. We detected more prevalent protein and creatine supplementation\\namong younger compared to older ﬁtness center users, whereas the opposite was found for vitamin\\nsupplementation. Other authors made similar observations [23] and it might reﬂect the diﬀerent\\ntraining goals among age groups, i.e., more focus on strength and muscles among the younger and\\nmore focus on health among the older age groups.\\nComparable to other studies [4], we detected a positive correlation between training frequency\\nand supplement usage. Nevertheless, the correlation is weak and is deﬁnitely not a predictor at the\\nindividual level. The subject with the highest supplement intake of 100 weekly servings was training\\nonly once a week.\\n\\nPage 5: for two training goals. Improving health was named by 59%, 60%, 75%, and 89% as a training goal\\namong the four age groups beginning from the youngest to the oldest group. On the other hand, body\\nshaping was named by 69%, 55%, 41%, and 17% among the four age groups.\\n\\nPage 0: acids than traditional protein sources. Its numerous benefits have made it a popular choice\\nfor snacks and drinks among consumers [3]. Another widely embraced supplement is\\ncaffeine, which is found in many sports and food supplements. Caffeine reduces perceived\\neffort, minimizes fatigue and pain, and proves to be effective for endurance and high-\\nintensity activities, which is the choice of consumers [4].\\nCreatine monohydrate is another well-known supplement used to gain muscle mass\\nand support performance and recovery. It is known not to increase fat mass and remains\\neffective even when taken in recommended doses [5]. Despite its popularity in the fitness\\nFoods 2024, 13, 1424. https://doi.org/10.3390/foods13091424\\nhttps://www.mdpi.com/journal/foods\\n\\nPage 2: bodybuilding, improve strength, improve endurance, improve sport speciﬁc performance, other\\nreasons). In the second section, the supplement use was screened by listing 25 predeﬁned substances\\nand product classes (Table 2). Spare lines were available to list “further” products not included in the\\nquestionnaire. For each product, intake frequency had to be indicated. The available categories were\\n“daily”, “several times per week”, “once a week”, “less than once a week”, “never”, and “don’t know”.\\nIn the last section, subjects were asked about their motivation to take the supplements, where they\\ninformed themselves about the supplements used, whether they were informed about potential side\\neﬀects or risks by their information source (yes or no) and what they considered to be important criteria\\nwhen selecting the particular information source(s). For these questions, a limited set of predeﬁned', [Document(id='a5dc96b8-bedf-44b8-be99-95f00e748491', metadata={'producer': 'iLovePDF', 'creator': '', 'creationdate': '', 'source': 'rag-dataset\\\\gym supplements\\\\2. High Prevalence of Supplement Intake.pdf', 'file_path': 'rag-dataset\\\\gym supplements\\\\2. High Prevalence of Supplement Intake.pdf', 'total_pages': 11, 'format': 'PDF 1.5', 'title': '', 'author': '', 'subject': '', 'keywords': '', 'moddate': '2024-10-21T11:39:04+00:00', 'trapped': '', 'modDate': 'D:20241021113904Z', 'creationDate': '', 'page': 8}, page_content='and strength gain among men. We detected more prevalent protein and creatine supplementation\\namong younger compared to older ﬁtness center users, whereas the opposite was found for vitamin\\nsupplementation. Other authors made similar observations [23] and it might reﬂect the diﬀerent\\ntraining goals among age groups, i.e., more focus on strength and muscles among the younger and\\nmore focus on health among the older age groups.\\nComparable to other studies [4], we detected a positive correlation between training frequency\\nand supplement usage. Nevertheless, the correlation is weak and is deﬁnitely not a predictor at the\\nindividual level. The subject with the highest supplement intake of 100 weekly servings was training\\nonly once a week.'), Document(id='2afe7669-9d13-45ad-bddb-d79bf12b3e58', metadata={'producer': 'iLovePDF', 'creator': '', 'creationdate': '', 'source': 'rag-dataset\\\\gym supplements\\\\2. High Prevalence of Supplement Intake.pdf', 'file_path': 'rag-dataset\\\\gym supplements\\\\2. High Prevalence of Supplement Intake.pdf', 'total_pages': 11, 'format': 'PDF 1.5', 'title': '', 'author': '', 'subject': '', 'keywords': '', 'moddate': '2024-10-21T11:39:04+00:00', 'trapped': '', 'modDate': 'D:20241021113904Z', 'creationDate': '', 'page': 5}, page_content='for two training goals. Improving health was named by 59%, 60%, 75%, and 89% as a training goal\\namong the four age groups beginning from the youngest to the oldest group. On the other hand, body\\nshaping was named by 69%, 55%, 41%, and 17% among the four age groups.'), Document(id='fd6ca7af-09ea-44bf-b197-655128273c30', metadata={'producer': 'iLovePDF', 'creator': '', 'creationdate': '', 'source': 'rag-dataset\\\\gym supplements\\\\1. Analysis of Actual Fitness Supplement.pdf', 'file_path': 'rag-dataset\\\\gym supplements\\\\1. Analysis of Actual Fitness Supplement.pdf', 'total_pages': 15, 'format': 'PDF 1.7', 'title': '', 'author': '', 'subject': '', 'keywords': '', 'moddate': '2024-10-21T11:38:50+00:00', 'trapped': '', 'modDate': 'D:20241021113850Z', 'creationDate': '', 'page': 0}, page_content='acids than traditional protein sources. Its numerous benefits have made it a popular choice\\nfor snacks and drinks among consumers [3]. Another widely embraced supplement is\\ncaffeine, which is found in many sports and food supplements. Caffeine reduces perceived\\neffort, minimizes fatigue and pain, and proves to be effective for endurance and high-\\nintensity activities, which is the choice of consumers [4].\\nCreatine monohydrate is another well-known supplement used to gain muscle mass\\nand support performance and recovery. It is known not to increase fat mass and remains\\neffective even when taken in recommended doses [5]. Despite its popularity in the fitness\\nFoods 2024, 13, 1424. https://doi.org/10.3390/foods13091424\\nhttps://www.mdpi.com/journal/foods'), Document(id='f6f505bb-07cb-4f06-854b-d75b69ad3108', metadata={'producer': 'iLovePDF', 'creator': '', 'creationdate': '', 'source': 'rag-dataset\\\\gym supplements\\\\2. High Prevalence of Supplement Intake.pdf', 'file_path': 'rag-dataset\\\\gym supplements\\\\2. High Prevalence of Supplement Intake.pdf', 'total_pages': 11, 'format': 'PDF 1.5', 'title': '', 'author': '', 'subject': '', 'keywords': '', 'moddate': '2024-10-21T11:39:04+00:00', 'trapped': '', 'modDate': 'D:20241021113904Z', 'creationDate': '', 'page': 2}, page_content='bodybuilding, improve strength, improve endurance, improve sport speciﬁc performance, other\\nreasons). In the second section, the supplement use was screened by listing 25 predeﬁned substances\\nand product classes (Table 2). Spare lines were available to list “further” products not included in the\\nquestionnaire. For each product, intake frequency had to be indicated. The available categories were\\n“daily”, “several times per week”, “once a week”, “less than once a week”, “never”, and “don’t know”.\\nIn the last section, subjects were asked about their motivation to take the supplements, where they\\ninformed themselves about the supplements used, whether they were informed about potential side\\neﬀects or risks by their information source (yes or no) and what they considered to be important criteria\\nwhen selecting the particular information source(s). For these questions, a limited set of predeﬁned')])\n",
      "\n",
      "💬 Answer:\n",
      "To gain muscle mass, the retrieved documents highlight the following strategies and supplements:\n",
      "\n",
      "1. **Creatine Monohydrate**:  \n",
      "   - A well-known supplement explicitly mentioned for **gaining muscle mass** and supporting performance/recovery. It does **not increase fat mass** and remains effective even at recommended doses [Page 0, Document 3].\n",
      "\n",
      "2. **Protein Supplementation**:  \n",
      "   - Protein and creatine supplementation are **more prevalent among younger fitness enthusiasts** focused on strength and muscle growth, as opposed to older groups prioritizing health [Page 8, Document 1]. This aligns with training goals of increasing muscle mass.\n",
      "\n",
      "3. **Training Frequency and Supplement Use**:  \n",
      "   - A weak positive correlation exists between **training frequency** and supplement usage, though individual results vary. For example, someone with high supplement intake (100 weekly servings) trained only once a week [Page 8, Document 1].\n",
      "\n",
      "4. **Training Goals**:  \n",
      "   - Body shaping and strength improvement are common training goals, particularly among younger age groups, which indirectly supports muscle gain [Page 5, Document 1].\n",
      "\n",
      "**Note**: The documents emphasize supplements like creatine and protein but do not detail specific exercises or dietary caloric surpluses (critical for muscle growth). For a comprehensive plan, combine these supplements with resistance training and adequate nutrition.\n"
     ]
    }
   ],
   "source": [
    "# ============================================================================\n",
    "# TESTING\n",
    "# ============================================================================\n",
    "# Test basic retrieval\n",
    "ask(\"how to gain muscle mass?\")\n"
   ]
  },
  {
   "cell_type": "code",
   "execution_count": 11,
   "id": "4a082a77",
   "metadata": {},
   "outputs": [
    {
     "name": "stdout",
     "output_type": "stream",
     "text": [
      "\n",
      "🤖 Agentic RAG Chat - Type 'quit' to exit\n"
     ]
    }
   ],
   "source": [
    "# ============================================================================\n",
    "# INTERACTIVE CHAT\n",
    "# ============================================================================\n",
    "def chat():\n",
    "    \"\"\"Start interactive chat with the agentic RAG.\"\"\"\n",
    "    print(\"\\n🤖 Agentic RAG Chat - Type 'quit, q or exit' to exit\")\n",
    "    \n",
    "    while True:\n",
    "        question = input(\"\\nYour question: \").strip()\n",
    "        if question.lower() in ['quit', 'exit', 'q']:\n",
    "            break\n",
    "        if question:\n",
    "            ask(question)\n",
    "\n",
    "chat()"
   ]
  }
 ],
 "metadata": {
  "kernelspec": {
   "display_name": "ml",
   "language": "python",
   "name": "python3"
  },
  "language_info": {
   "codemirror_mode": {
    "name": "ipython",
    "version": 3
   },
   "file_extension": ".py",
   "mimetype": "text/x-python",
   "name": "python",
   "nbconvert_exporter": "python",
   "pygments_lexer": "ipython3",
   "version": "3.11.13"
  }
 },
 "nbformat": 4,
 "nbformat_minor": 5
}
