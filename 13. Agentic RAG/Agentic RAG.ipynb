{
 "cells": [
  {
   "cell_type": "markdown",
   "id": "3c364c80",
   "metadata": {},
   "source": [
    "### Agents in Langchain Version 1"
   ]
  },
  {
   "cell_type": "code",
   "execution_count": null,
   "id": "c61a582d",
   "metadata": {},
   "outputs": [],
   "source": [
    "# ollama pull nomic-embed-text\n",
    "# ollama pull qwen3"
   ]
  },
  {
   "cell_type": "code",
   "execution_count": null,
   "id": "750be741",
   "metadata": {},
   "outputs": [
    {
     "name": "stdout",
     "output_type": "stream",
     "text": [
      "✓ Using Ollama qwen3 + nomic-embed-text\n",
      "✓ Connected to existing FAISS vector store\n"
     ]
    }
   ],
   "source": [
    "# use the langchain pre-release for latest features\n",
    "# pip install -U langchain langchain-ollama, langchain-community langchain-core faiss-cpu\n",
    "import os\n",
    "import warnings\n",
    "os.environ['KMP_DUPLICATE_LIB_OK'] = 'True'\n",
    "warnings.filterwarnings(\"ignore\")\n",
    "\n",
    "from langchain_core.tools import tool\n",
    "from langchain.agents import create_agent\n",
    "from langchain_ollama import ChatOllama, OllamaEmbeddings\n",
    "from langchain_community.vectorstores import FAISS\n",
    "from dotenv import load_dotenv\n",
    "\n",
    "\n",
    "load_dotenv()\n",
    "\n",
    "# ============================================================================\n",
    "# LLM & VECTOR STORE SETUP\n",
    "# ============================================================================\n",
    "# Ollama LLM with Qwen3\n",
    "llm = ChatOllama(\n",
    "    model=\"qwen3\", \n",
    "    base_url=\"http://localhost:11434\"\n",
    ")\n",
    "\n",
    "# Ollama Embeddings\n",
    "embeddings = OllamaEmbeddings(\n",
    "    model=\"nomic-embed-text\",\n",
    "    base_url=\"http://localhost:11434\"\n",
    ")\n",
    "\n",
    "# FAISS Vector Store (assumes data already exists from previous code)\n",
    "db_name = \"./../09. Vector Stores and Retrievals/health_supplements\"\n",
    "vector_store = FAISS.load_local(\n",
    "    db_name,\n",
    "    embeddings,\n",
    "    allow_dangerous_deserialization=True\n",
    ")"
   ]
  },
  {
   "cell_type": "code",
   "execution_count": 2,
   "id": "c1ce7c29",
   "metadata": {},
   "outputs": [
    {
     "data": {
      "text/plain": [
       "AIMessage(content='Hello! How can I assist you today? 😊', additional_kwargs={}, response_metadata={'model': 'qwen3', 'created_at': '2025-10-21T14:50:36.7777079Z', 'done': True, 'done_reason': 'stop', 'total_duration': 2364992500, 'load_duration': 1667361300, 'prompt_eval_count': 11, 'prompt_eval_duration': 30277600, 'eval_count': 118, 'eval_duration': 623432900, 'model_name': 'qwen3', 'model_provider': 'ollama'}, id='lc_run--fbb9b02b-c3b0-4bfb-9704-cf2f4435f63e-0', usage_metadata={'input_tokens': 11, 'output_tokens': 118, 'total_tokens': 129})"
      ]
     },
     "execution_count": 2,
     "metadata": {},
     "output_type": "execute_result"
    }
   ],
   "source": [
    "llm.invoke(\"Hello\")"
   ]
  },
  {
   "cell_type": "code",
   "execution_count": null,
   "id": "53deb9de",
   "metadata": {},
   "outputs": [
    {
     "name": "stdout",
     "output_type": "stream",
     "text": [
      "\n",
      "🔍 Testing Vector Store Connection...\n",
      "✓ Vector store found with 311 documents\n",
      "\n",
      "✓ Sample search for 'methodology':\n",
      "  1. Page 6: automatic precursors, and controlled precursors. The final section of the questionnaire\n",
      "gauged the b...\n",
      "  2. Page 5: tical should be making a proper therapeutic hypothesis, such\n",
      "as hypothesis that is coherent and supp...\n",
      "  3. Page 6: therapeutic effect. The speciﬁc target must then be deﬁned\n",
      "with all the available scientiﬁc data.\n",
      "Ea...\n"
     ]
    }
   ],
   "source": [
    "# ============================================================================\n",
    "# VECTOR STORE VERIFICATION\n",
    "# ============================================================================\n",
    "print(\"\\n🔍 Testing Vector Store Connection...\")\n",
    "\n",
    "# Test 1: Check collection info\n",
    "doc_count = vector_store.index.ntotal\n",
    "print(f\"✓ Vector store found with {doc_count} documents\")\n",
    "\n",
    "\n",
    "# Test 2: Sample similarity search\n",
    "test_query = \"creatine\"\n",
    "results = vector_store.similarity_search(test_query, k=3)\n",
    "print(f\"\\n✓ Sample search for '{test_query}':\")\n",
    "for i, doc in enumerate(results, 1):\n",
    "    print(f\"  {i}. Page {doc.metadata.get('page', '?')}: {doc.page_content[:100]}...\")\n",
    "\n"
   ]
  },
  {
   "cell_type": "code",
   "execution_count": 4,
   "id": "f2c7c069",
   "metadata": {},
   "outputs": [
    {
     "data": {
      "text/plain": [
       "[Document(id='69549d72-f62c-4641-ae63-50ed1d531e17', metadata={'producer': 'iLovePDF', 'creator': '', 'creationdate': '', 'source': 'rag-dataset\\\\gym supplements\\\\1. Analysis of Actual Fitness Supplement.pdf', 'file_path': 'rag-dataset\\\\gym supplements\\\\1. Analysis of Actual Fitness Supplement.pdf', 'total_pages': 15, 'format': 'PDF 1.7', 'title': '', 'author': '', 'subject': '', 'keywords': '', 'moddate': '2024-10-21T11:38:50+00:00', 'trapped': '', 'modDate': 'D:20241021113850Z', 'creationDate': '', 'page': 6}, page_content='automatic precursors, and controlled precursors. The final section of the questionnaire\\ngauged the behavioral intention and actual consumption patterns of the respondents. In\\ntotality, the questionnaire comprises 12 latent variables, utilizing a 5-point Likert scale\\nranging from 1 as “Strongly Disagree” to 5 as “Strongly Agree”.\\nTo measure factors affecting actual consumption, the Structural Equation Modeling\\n(SEM) was applied in this study using SMART PLS v3.0. According to Ampofo and\\nAidoo [62], SEM is a prominently used multivariate tool for assessing the direct and\\nindirect relationships between latent variables. The theory simplifies the relationships'),\n",
       " Document(id='90f7aab6-1a82-4db9-919d-f86ebeacc426', metadata={'producer': 'iLovePDF', 'creator': '', 'creationdate': '', 'source': 'rag-dataset\\\\health supplements\\\\2. Nutraceuticals research.pdf', 'file_path': 'rag-dataset\\\\health supplements\\\\2. Nutraceuticals research.pdf', 'total_pages': 10, 'format': 'PDF 1.4', 'title': '', 'author': '', 'subject': '', 'keywords': '', 'moddate': '2024-10-21T11:38:30+00:00', 'trapped': '', 'modDate': 'D:20241021113830Z', 'creationDate': '', 'page': 5}, page_content='tical should be making a proper therapeutic hypothesis, such\\nas hypothesis that is coherent and supportable in the modu-\\nlation of a target capable of producing a beneﬁcial health\\nA. Santini et al.\\n664\\nBr J Clin Pharmacol (2018) 84 659–672'),\n",
       " Document(id='fc8a95a9-d034-4e54-adc7-6d5f97204cb8', metadata={'producer': 'iLovePDF', 'creator': '', 'creationdate': '', 'source': 'rag-dataset\\\\health supplements\\\\2. Nutraceuticals research.pdf', 'file_path': 'rag-dataset\\\\health supplements\\\\2. Nutraceuticals research.pdf', 'total_pages': 10, 'format': 'PDF 1.4', 'title': '', 'author': '', 'subject': '', 'keywords': '', 'moddate': '2024-10-21T11:38:30+00:00', 'trapped': '', 'modDate': 'D:20241021113830Z', 'creationDate': '', 'page': 6}, page_content='therapeutic effect. The speciﬁc target must then be deﬁned\\nwith all the available scientiﬁc data.\\nEach step must be identiﬁed and properly considered, and\\nknow-how, experience and expertise are considered essential\\nto reach the target.\\nThe ﬁrst step to assess therapeutic efﬁcacy should be\\nbased on positive evidence from clinical data. This step\\nshould include the contribution of different professionals\\nand different expertise, ranging from food chemistry and\\nfood safety to structure–activity studies, with the aim of\\nassessing the mechanism of action, nutritional aspects,\\npharmacology, pharmacokinetics and pharmacodynamics\\nof each nutraceutical.\\nThe utmost importance of the clinical aspects of any study\\nconcerning nutraceuticals as pharma-foods (e.g. in vivo\\nclinical trials) or any possible interactions between food\\nand/or drugs assumed together with nutraceuticals is not to\\nbe underestimated [9, 37]. Medical doctor involvement in')]"
      ]
     },
     "execution_count": 4,
     "metadata": {},
     "output_type": "execute_result"
    }
   ],
   "source": [
    "results"
   ]
  },
  {
   "cell_type": "code",
   "execution_count": null,
   "id": "fc82f15d",
   "metadata": {},
   "outputs": [],
   "source": [
    "# ============================================================================\n",
    "# RETRIEVAL TOOL\n",
    "# ============================================================================\n",
    "@tool()\n",
    "def retrieve_context(query: str):\n",
    "    \"\"\"Retrieve relevant information for health related queries from the document to answer the query.\n",
    "    \n",
    "    \"\"\"\n",
    "    print(f\"🔍 Searching: '{query}'\")\n",
    "    \n",
    "    # Perform similarity search\n",
    "    docs = vector_store.similarity_search(query, k=4)\n",
    "    \n",
    "    # Format for LLM\n",
    "    content = \"\\n\\n\".join(\n",
    "        f\"Page {doc.metadata.get('page', '?')}: {doc.page_content}\" \n",
    "        for doc in docs\n",
    "    )\n",
    "    \n",
    "    print(f\"✓ Found {len(docs)} relevant chunks\")\n",
    "    return content, docs\n",
    "\n",
    "# ============================================================================\n",
    "# AGENT CREATION\n",
    "# ============================================================================\n",
    "tools = [retrieve_context]\n",
    "\n",
    "# Agent prompt - simplified for single tool\n",
    "system_prompt = \"\"\"You are a research assistant with a document retrieval tool.\n",
    "\n",
    "                    Tool:\n",
    "                    - retrieve_context: Search the document for relevant information\n",
    "\n",
    "                    Always use the tool to find relevant information before answering.\n",
    "                    Cite page numbers and be thorough.\"\"\"\n",
    "\n"
   ]
  },
  {
   "cell_type": "code",
   "execution_count": null,
   "id": "717c7717",
   "metadata": {},
   "outputs": [
    {
     "data": {
      "image/png": "[encoded data removed]",
      "text/plain": [
       "<langgraph.graph.state.CompiledStateGraph object at 0x0000021D002BAC50>"
      ]
     },
     "execution_count": 7,
     "metadata": {},
     "output_type": "execute_result"
    }
   ],
   "source": [
    "# Create the agentic RAG\n",
    "rag_agent = create_agent(llm, tools, system_prompt=system_prompt)\n",
    "\n",
    "rag_agent\n"
   ]
  },
  {
   "cell_type": "code",
   "execution_count": 13,
   "id": "f4810cf8",
   "metadata": {},
   "outputs": [
    {
     "name": "stdout",
     "output_type": "stream",
     "text": [
      "🔍 Searching: 'use of BCAA'\n",
      "✓ Found 4 relevant chunks\n"
     ]
    },
    {
     "data": {
      "text/plain": [
       "{'messages': [HumanMessage(content='What is the use of BCAA?', additional_kwargs={}, response_metadata={}, id='f0af9b60-1448-4acf-9b1f-8efed2b2bbe7'),\n",
       "  AIMessage(content='', additional_kwargs={}, response_metadata={'model': 'qwen3', 'created_at': '2025-10-21T14:55:53.3440977Z', 'done': True, 'done_reason': 'stop', 'total_duration': 1289533000, 'load_duration': 66522200, 'prompt_eval_count': 191, 'prompt_eval_duration': 6247700, 'eval_count': 226, 'eval_duration': 1175472400, 'model_name': 'qwen3', 'model_provider': 'ollama'}, id='lc_run--13dbe4d3-1aeb-40a7-b354-cd637b9a2660-0', tool_calls=[{'name': 'retrieve_context', 'args': {'query': 'use of BCAA'}, 'id': '6b6eec3e-3e63-42be-9abb-388c7aa81ad1', 'type': 'tool_call'}], usage_metadata={'input_tokens': 191, 'output_tokens': 226, 'total_tokens': 417}),\n",
       "  ToolMessage(content='Page 1: Foods 2024, 13, 1424\\n2 of 21\\nand sports industry, evidence suggests that creatine can benefit not only athletes but also\\nthe elderly and the general population [6]. Branched-chain amino acids (BCAA) also offer\\na plethora of benefits for consumers. As explained by Sanz et al. [7], BCAAs are stored\\ndirectly in muscles and serve as the raw materials needed to build new muscle. This\\ncontributes to the overall process of strengthening muscles and alleviating post-workout\\nsoreness. Consumers often integrate these supplements into their routines with the aim of\\noptimizing the outcomes they wish to achieve and support overall well-being [1].\\nThe sports supplement industry makes for an impressive market share of nearly\\n$12 billion in the health/wellness portfolio and is projected to be worth $24.4 billion\\nby 2025. In a study by Burke [4], which investigated 20 published studies about the\\nprevalence, methods, and reasons for supplement consumption, it is evident from the\\n\\nPage 7: appetite, body weight, and BMI after intake for 8 weeks (74). Accidental intake of \\nsupplements with DMAA, mainly in children, have caused relatively mild adverse effects \\nsuch as tachycardia, nausea, and vomiting (75). However, serious cardiovascular events after \\nDMAA intake have also been reported. Recreational use of DMAA in New Zealand has \\nbeen associated with cases of cerebral hemorrhage (76,77). Furthermore, there are three \\ncases of cardiac arrest occurring during physical exercise in the military and in a gym \\nfollowing intake of DMAA-containing supplements (71,78). Two of the events eventually \\nled to the deaths of US soldiers. While it cannot be proven that DMAA is the causative agent \\nfor all the adverse events, it is clear that DMAA does indeed have cardiovascular effects \\nsuch as vasoconstriction and elevation of blood pressure (79,80). Following receipt of 42 \\nadverse events reports on products with DMAA, the FDA in April 2012 sent warning letters\\n\\nPage 7: component of Geranium plants, e.g. as geranium extract (71). However, the presence of \\nDMAA in plants has not been verified, leading to the conclusion that DMAA in supplements \\nis generated by chemical synthesis (72). DMAA has further been banned as a performance \\nenhancing drug by the World Anti-Doping Agency (73). One version of the weight-loss \\nsupplement OxyELITE Pro from USPlabs, LLC contained the compound 1,3-\\ndimethylamylamine (DMAA) in addition to ingredients such as caffeine, Bauhinia purpurea, \\nBacopa monniera, Cirsium oligophyllum, and rauwolscine (Yohimbe) extract. Studies that \\nwere supported financially by USPlabs, LLC with a small number of healthy volunteers \\nsuggested that this supplement formulation could increase lipolysis, metabolic rate, heart \\nrate and systolic blood pressure in the short term (2 h) as well as lead to small decreases in \\nappetite, body weight, and BMI after intake for 8 weeks (74). Accidental intake of\\n\\nPage 9: (BfArM) [65]. This report conﬁrms the opinion of the Autorité\\nfrançaise\\nde\\nSécurité\\nsanitaire\\nde\\nl’Alimentation,\\nde\\nl’Environnement et du Travail, which seems to suggest that\\nhigh values of monacolin K in RYR products should be\\nconsidered with caution due to possible monacolin K content\\nvariability\\n[69].\\nThe\\npossible\\ncontamination\\nfrom\\nco-\\noccurrence of the toxic metabolite citrinin generates an addi-\\ntional disputable scenario in which dose inconsistency and\\nsafety issues suggest caution against the use and need for\\nshared regulation assessment to guarantee safety, content\\nand dose-related efﬁcacy. The establishment of a regulatory\\nframework would help avoid this scenario. Innovative,\\ncross-sectorial strategies may contribute directly or indirectly\\nto improving the quality of life making our health and social\\ncare systems more efﬁcient and sustainable. Adherence to\\nadequate lifestyles and behaviour is important to improve\\nquality of life and prevent adverse health outcomes [70].', name='retrieve_context', id='26e60558-dd87-4d65-a670-2532553b0474', tool_call_id='6b6eec3e-3e63-42be-9abb-388c7aa81ad1', artifact=[Document(id='04dc7e5b-a64c-465b-9b07-464f38ae4974', metadata={'producer': 'iLovePDF', 'creator': '', 'creationdate': '', 'source': 'rag-dataset\\\\gym supplements\\\\1. Analysis of Actual Fitness Supplement.pdf', 'file_path': 'rag-dataset\\\\gym supplements\\\\1. Analysis of Actual Fitness Supplement.pdf', 'total_pages': 15, 'format': 'PDF 1.7', 'title': '', 'author': '', 'subject': '', 'keywords': '', 'moddate': '2024-10-21T11:38:50+00:00', 'trapped': '', 'modDate': 'D:20241021113850Z', 'creationDate': '', 'page': 1}, page_content='Foods 2024, 13, 1424\\n2 of 21\\nand sports industry, evidence suggests that creatine can benefit not only athletes but also\\nthe elderly and the general population [6]. Branched-chain amino acids (BCAA) also offer\\na plethora of benefits for consumers. As explained by Sanz et al. [7], BCAAs are stored\\ndirectly in muscles and serve as the raw materials needed to build new muscle. This\\ncontributes to the overall process of strengthening muscles and alleviating post-workout\\nsoreness. Consumers often integrate these supplements into their routines with the aim of\\noptimizing the outcomes they wish to achieve and support overall well-being [1].\\nThe sports supplement industry makes for an impressive market share of nearly\\n$12 billion in the health/wellness portfolio and is projected to be worth $24.4 billion\\nby 2025. In a study by Burke [4], which investigated 20 published studies about the\\nprevalence, methods, and reasons for supplement consumption, it is evident from the'), Document(id='9f3061fe-dbec-4ce9-b833-1cc0978ffa64', metadata={'producer': 'iLovePDF', 'creator': '', 'creationdate': '', 'source': 'rag-dataset\\\\health supplements\\\\3.health_supplements_side_effects.pdf', 'file_path': 'rag-dataset\\\\health supplements\\\\3.health_supplements_side_effects.pdf', 'total_pages': 11, 'format': 'PDF 1.5', 'title': '', 'author': '', 'subject': '', 'keywords': '', 'moddate': '2024-10-21T14:37:42+00:00', 'trapped': '', 'modDate': 'D:20241021143742Z', 'creationDate': '', 'page': 7}, page_content='appetite, body weight, and BMI after intake for 8 weeks (74). Accidental intake of \\nsupplements with DMAA, mainly in children, have caused relatively mild adverse effects \\nsuch as tachycardia, nausea, and vomiting (75). However, serious cardiovascular events after \\nDMAA intake have also been reported. Recreational use of DMAA in New Zealand has \\nbeen associated with cases of cerebral hemorrhage (76,77). Furthermore, there are three \\ncases of cardiac arrest occurring during physical exercise in the military and in a gym \\nfollowing intake of DMAA-containing supplements (71,78). Two of the events eventually \\nled to the deaths of US soldiers. While it cannot be proven that DMAA is the causative agent \\nfor all the adverse events, it is clear that DMAA does indeed have cardiovascular effects \\nsuch as vasoconstriction and elevation of blood pressure (79,80). Following receipt of 42 \\nadverse events reports on products with DMAA, the FDA in April 2012 sent warning letters'), Document(id='3510e7cb-4236-478d-bc3a-adec2e1987bd', metadata={'producer': 'iLovePDF', 'creator': '', 'creationdate': '', 'source': 'rag-dataset\\\\health supplements\\\\3.health_supplements_side_effects.pdf', 'file_path': 'rag-dataset\\\\health supplements\\\\3.health_supplements_side_effects.pdf', 'total_pages': 11, 'format': 'PDF 1.5', 'title': '', 'author': '', 'subject': '', 'keywords': '', 'moddate': '2024-10-21T14:37:42+00:00', 'trapped': '', 'modDate': 'D:20241021143742Z', 'creationDate': '', 'page': 7}, page_content='component of Geranium plants, e.g. as geranium extract (71). However, the presence of \\nDMAA in plants has not been verified, leading to the conclusion that DMAA in supplements \\nis generated by chemical synthesis (72). DMAA has further been banned as a performance \\nenhancing drug by the World Anti-Doping Agency (73). One version of the weight-loss \\nsupplement OxyELITE Pro from USPlabs, LLC contained the compound 1,3-\\ndimethylamylamine (DMAA) in addition to ingredients such as caffeine, Bauhinia purpurea, \\nBacopa monniera, Cirsium oligophyllum, and rauwolscine (Yohimbe) extract. Studies that \\nwere supported financially by USPlabs, LLC with a small number of healthy volunteers \\nsuggested that this supplement formulation could increase lipolysis, metabolic rate, heart \\nrate and systolic blood pressure in the short term (2 h) as well as lead to small decreases in \\nappetite, body weight, and BMI after intake for 8 weeks (74). Accidental intake of'), Document(id='a6ed5ea7-0fe9-445b-affe-b33bcf1a42ba', metadata={'producer': 'iLovePDF', 'creator': '', 'creationdate': '', 'source': 'rag-dataset\\\\health supplements\\\\2. Nutraceuticals research.pdf', 'file_path': 'rag-dataset\\\\health supplements\\\\2. Nutraceuticals research.pdf', 'total_pages': 10, 'format': 'PDF 1.4', 'title': '', 'author': '', 'subject': '', 'keywords': '', 'moddate': '2024-10-21T11:38:30+00:00', 'trapped': '', 'modDate': 'D:20241021113830Z', 'creationDate': '', 'page': 9}, page_content='(BfArM) [65]. This report conﬁrms the opinion of the Autorité\\nfrançaise\\nde\\nSécurité\\nsanitaire\\nde\\nl’Alimentation,\\nde\\nl’Environnement et du Travail, which seems to suggest that\\nhigh values of monacolin K in RYR products should be\\nconsidered with caution due to possible monacolin K content\\nvariability\\n[69].\\nThe\\npossible\\ncontamination\\nfrom\\nco-\\noccurrence of the toxic metabolite citrinin generates an addi-\\ntional disputable scenario in which dose inconsistency and\\nsafety issues suggest caution against the use and need for\\nshared regulation assessment to guarantee safety, content\\nand dose-related efﬁcacy. The establishment of a regulatory\\nframework would help avoid this scenario. Innovative,\\ncross-sectorial strategies may contribute directly or indirectly\\nto improving the quality of life making our health and social\\ncare systems more efﬁcient and sustainable. Adherence to\\nadequate lifestyles and behaviour is important to improve\\nquality of life and prevent adverse health outcomes [70].')]),\n",
       "  AIMessage(content='Branched-chain amino acids (BCAA) are primarily used for their role in muscle growth, recovery, and overall well-being. According to the document, BCAAs are stored directly in muscles and serve as raw materials for building new muscle tissue, contributing to muscle strengthening and alleviating post-workout soreness (Page 1, Foods 2024, 13, 1424). Consumers integrate BCAA supplements into their routines to optimize fitness outcomes and support general health (Page 1). \\n\\nAdditionally, the document highlights the broader context of the sports supplement industry, where BCAAs are part of a $12 billion market projected to grow to $24.4 billion by 2025, underscoring their popularity among athletes and fitness enthusiasts (Page 1). Research by Sanz et al. [7] further supports their efficacy in muscle-related benefits. \\n\\nNo other pages in the retrieved context mention BCAA usage, focusing instead on unrelated supplements like DMAA or regulatory discussions about monacolin K.', additional_kwargs={}, response_metadata={'model': 'qwen3', 'created_at': '2025-10-21T14:55:56.0379667Z', 'done': True, 'done_reason': 'stop', 'total_duration': 2645966300, 'load_duration': 63137800, 'prompt_eval_count': 1178, 'prompt_eval_duration': 84313800, 'eval_count': 449, 'eval_duration': 2403182600, 'model_name': 'qwen3', 'model_provider': 'ollama'}, id='lc_run--4dd79508-5d60-4312-8359-7ddc282feaf0-0', usage_metadata={'input_tokens': 1178, 'output_tokens': 449, 'total_tokens': 1627})]}"
      ]
     },
     "execution_count": 13,
     "metadata": {},
     "output_type": "execute_result"
    }
   ],
   "source": [
    "rag_agent\n",
    "\n",
    "response = rag_agent.invoke({'messages': \"What is the use of BCAA?\"})\n",
    "response"
   ]
  },
  {
   "cell_type": "code",
   "execution_count": 10,
   "id": "e7f3bcf0",
   "metadata": {},
   "outputs": [],
   "source": [
    "# ============================================================================\n",
    "# QUERY FUNCTION\n",
    "# ============================================================================\n",
    "def ask(question: str):\n",
    "    \"\"\"Ask the agentic RAG a question.\"\"\"\n",
    "    print(f\"\\n{'='*60}\")\n",
    "    print(f\"Question: {question}\")\n",
    "    print('='*60)\n",
    "    \n",
    "    for event in rag_agent.stream(\n",
    "        {\"messages\": [{\"role\": \"user\", \"content\": question}]},\n",
    "        stream_mode=\"values\"\n",
    "    ):\n",
    "        msg = event[\"messages\"][-1]\n",
    "        \n",
    "        # Show tool usage\n",
    "        if hasattr(msg, 'tool_calls') and msg.tool_calls:\n",
    "            for tc in msg.tool_calls:\n",
    "                print(f\"\\n🔧 Using: {tc['name']} with {tc['args']}\")\n",
    "        \n",
    "        # Show final answer\n",
    "        elif hasattr(msg, 'content') and msg.content:\n",
    "            print(f\"\\n💬 Answer:\\n{msg.content}\")"
   ]
  },
  {
   "cell_type": "code",
   "execution_count": null,
   "id": "ed913f8e",
   "metadata": {},
   "outputs": [
    {
     "name": "stdout",
     "output_type": "stream",
     "text": [
      "\n",
      "============================================================\n",
      "Question: how to gain muscle mass?\n",
      "============================================================\n",
      "\n",
      "💬 Answer:\n",
      "how to gain muscle mass?\n",
      "\n",
      "🔧 Using: retrieve_context with {'query': 'strategies for gaining muscle mass, including diet, exercise, and recovery'}\n",
      "🔍 Searching: 'strategies for gaining muscle mass, including diet, exercise, and recovery'\n",
      "✓ Found 4 relevant chunks\n",
      "\n",
      "💬 Answer:\n",
      "Page 8: and strength gain among men. We detected more prevalent protein and creatine supplementation\n",
      "among younger compared to older ﬁtness center users, whereas the opposite was found for vitamin\n",
      "supplementation. Other authors made similar observations [23] and it might reﬂect the diﬀerent\n",
      "training goals among age groups, i.e., more focus on strength and muscles among the younger and\n",
      "more focus on health among the older age groups.\n",
      "Comparable to other studies [4], we detected a positive correlation between training frequency\n",
      "and supplement usage. Nevertheless, the correlation is weak and is deﬁnitely not a predictor at the\n",
      "individual level. The subject with the highest supplement intake of 100 weekly servings was training\n",
      "only once a week.\n",
      "\n",
      "Page 0: acids than traditional protein sources. Its numerous benefits have made it a popular choice\n",
      "for snacks and drinks among consumers [3]. Another widely embraced supplement is\n",
      "caffeine, which is found in many sports and food supplements. Caffeine reduces perceived\n",
      "effort, minimizes fatigue and pain, and proves to be effective for endurance and high-\n",
      "intensity activities, which is the choice of consumers [4].\n",
      "Creatine monohydrate is another well-known supplement used to gain muscle mass\n",
      "and support performance and recovery. It is known not to increase fat mass and remains\n",
      "effective even when taken in recommended doses [5]. Despite its popularity in the fitness\n",
      "Foods 2024, 13, 1424. https://doi.org/10.3390/foods13091424\n",
      "https://www.mdpi.com/journal/foods\n",
      "\n",
      "Page 0: sionals, and policymakers seeking to promote informed and responsible supplement use among\n",
      "health and fitness enthusiasts.\n",
      "Keywords: fitness supplements; health belief model; theory of effort of minimization; theory of\n",
      "planned behavior; structural equation modelling\n",
      "1. Introduction\n",
      "Supplementary drinks or fitness supplements are commonly used to enhance an\n",
      "individual’s performance in various sports and health settings, catering to both competitive\n",
      "and non-competitive athletes [1]. One widely known supplement for athletes and fitness\n",
      "enthusiasts is protein supplements like protein shakes. Others may be whey protein,\n",
      "caffeine, and creatine, to name a few. These supplements play a crucial role in helping\n",
      "individuals increase muscle mass, recover faster, and enhance their overall performance [2].\n",
      "Whey protein stands out as a top-quality protein source, containing more essential amino\n",
      "acids than traditional protein sources. Its numerous benefits have made it a popular choice\n",
      "\n",
      "Page 5: for two training goals. Improving health was named by 59%, 60%, 75%, and 89% as a training goal\n",
      "among the four age groups beginning from the youngest to the oldest group. On the other hand, body\n",
      "shaping was named by 69%, 55%, 41%, and 17% among the four age groups.\n",
      "\n",
      "💬 Answer:\n",
      "To gain muscle mass, the document highlights the following strategies based on dietary supplementation, exercise, and recovery:\n",
      "\n",
      "### 1. **Dietary Supplementation**  \n",
      "   - **Protein Supplements**: Whey protein is emphasized as a high-quality source of essential amino acids, critical for muscle repair and growth [Page 0]. Protein shakes and other protein supplements are widely used to support muscle gain.  \n",
      "   - **Creatine Monohydrate**: This supplement is explicitly mentioned as effective for increasing muscle mass without contributing to fat gain. It also aids in performance and recovery [Page 0].  \n",
      "   - **Other Supplements**: Caffeine is noted for reducing fatigue and enhancing endurance, which can indirectly support training intensity and muscle growth [Page 0].  \n",
      "\n",
      "### 2. **Exercise (Training Frequency and Focus)**  \n",
      "   - **Strength Training**: The document notes that younger fitness users prioritize strength and muscle-building goals, suggesting a focus on resistance exercises [Page 8].  \n",
      "   - **Training Frequency**: While there is a weak correlation between training frequency and supplement use, consistent training remains essential. For example, one individual trained once weekly but consumed high supplement intake, highlighting that training volume is critical for muscle growth [Page 8].  \n",
      "\n",
      "### 3. **Recovery**  \n",
      "   - **Rest and Recovery**: The role of recovery in muscle growth is implied through the discussion of creatine’s support for recovery and the emphasis on balancing training with rest periods [Page 0].  \n",
      "\n",
      "### Key Takeaways:  \n",
      "- Combine **protein supplements** (e.g., whey) and **creatine** for optimal muscle growth.  \n",
      "- Prioritize **strength training** and ensure adequate **training frequency**.  \n",
      "- Balance supplementation with proper **rest and recovery** to maximize results.  \n",
      "\n",
      "For further details, refer to the cited studies [2, 4, 5] in the document.\n"
     ]
    }
   ],
   "source": [
    "# ============================================================================\n",
    "# TESTING\n",
    "# ============================================================================\n",
    "# Test basic retrieval\n",
    "ask(\"how to gain muscle mass?\")\n"
   ]
  },
  {
   "cell_type": "code",
   "execution_count": null,
   "id": "4a082a77",
   "metadata": {},
   "outputs": [
    {
     "name": "stdout",
     "output_type": "stream",
     "text": [
      "\n",
      "🤖 Agentic RAG Chat - Type 'quit' to exit\n",
      "\n",
      "============================================================\n",
      "Question: what are methods of RAG?\n",
      "============================================================\n",
      "\n",
      "💬 Answer:\n",
      "what are methods of RAG?\n",
      "\n",
      "🔧 Using: retrieve_context with {'query': 'methods of RAG'}\n",
      "🔍 Searching: 'methods of RAG'\n",
      "✓ Found 4 relevant chunks\n",
      "\n",
      "💬 Answer:\n",
      "Page 122: Benchmarks such as SQuAD [33], Natural Questions [71], and specialized datasets for re-\n",
      "trieval tasks are widely used for assessment.\n",
      "Despite its promise, RAG faces several challenges:\n",
      "1. Retrieval Latency: Efficiently querying large databases in real time remains a technical\n",
      "hurdle.\n",
      "2. Data Quality: The reliability of generated outputs depends heavily on the quality of\n",
      "retrieved data.\n",
      "3. Scalability: Handling large-scale retrieval tasks while maintaining high generation quality\n",
      "is complex.\n",
      "Future research avenues include:\n",
      "• Expanding RAG frameworks to support multi-modal inputs, such as text, images, and\n",
      "audio.\n",
      "• Enhancing retrieval efficiency through novel indexing and search techniques.\n",
      "• Improving integration mechanisms for tighter coupling between retrieval and generation\n",
      "modules.\n",
      "RAG represents a transformative step in LLM development, bridging the gap between static\n",
      "pre-trained knowledge and dynamic, context-aware generation. By combining retrieval and\n",
      "\n",
      "Page 122: Self-RAG [262] enable LLMs to determine optimal retrieval moments and content, im-\n",
      "proving the adaptive capabilities of RAG frameworks. GraphToolformer [291] divides\n",
      "retrieval into distinct stages, where LLMs actively utilize tools such as retrievers and\n",
      "apply techniques like Self-Ask or few-shot prompts to guide the process. WebGPT [124]\n",
      "integrates reinforcement learning to train LLMs for autonomous search engine usage. By\n",
      "leveraging special tokens for actions such as querying, browsing, and citing sources, it\n",
      "mimics an agent actively gathering and validating information during generation.\n",
      "Some of the most widely used metrics for evaluating RAG systems include:\n",
      "• Retrieval Precision: Measures the relevance of retrieved data.\n",
      "• Generation Accuracy: Assesses the factual correctness of outputs.\n",
      "• End-to-End Performance: Evaluates the overall coherence, fluency, and informativeness\n",
      "of the system.\n",
      "Benchmarks such as SQuAD [33], Natural Questions [71], and specialized datasets for re-\n",
      "\n",
      "Page 116: 1. Enhanced Knowledge Integration : By querying external databases, RAG systems\n",
      "continuously update their knowledge base, addressing the limitations of static pre-trained\n",
      "models.\n",
      "2. Improved Accuracy: Retrieved data serves as contextual grounding, reducing halluci-\n",
      "nations and increasing the factual reliability of generated outputs.\n",
      "117\n",
      "\n",
      "Page 117: hance the relevance of retrieved data. For indexing, it uses more sophisticated techniques\n",
      "like sliding window approach, fine-grained segmentation and metadata. It incorporates\n",
      "additional optimization techniques to streamline the retrieval process [280].\n",
      "3. Modular RAG: this architecture advances beyond previous RAG paradigms (Naive and\n",
      "Advanced RAG) by offering greater adaptability, flexibility, and functionality. It intro-\n",
      "duces new components and interaction patterns to address the challenges of static and\n",
      "rigid retrieval-generation frameworks, making it suitable for diverse tasks and dynamic\n",
      "scenarios. Modular RAG incorporates specialized modules to enhance retrieval and gen-\n",
      "eration:\n",
      "• Search Module: Supports direct searches across diverse data sources such as databases,\n",
      "search engines, and knowledge graphs using LLM-generated queries [303].\n",
      "• RAGFusion: Implements multi-query strategies for diverse perspectives, utilizing\n",
      "parallel searches and re-ranking for knowledge discovery [320].\n",
      "118\n",
      "\n",
      "💬 Answer:\n",
      "<think>\n",
      "Okay, the user asked about the methods of RAG. Let me go through the retrieved document to find relevant information.\n",
      "\n",
      "First, on page 116, it mentions Enhanced Knowledge Integration and Improved Accuracy. These are benefits, not methods, but they might relate to techniques used. Then, page 117 talks about indexing techniques like sliding window and fine-grained segmentation. That's a method for retrieval. \n",
      "\n",
      "Looking at page 122, there's mention of Self-RAG, GraphToolformer, and WebGPT. These seem like specific methods or frameworks. Also, the document discusses retrieval precision and generation accuracy as metrics, which might tie into evaluation methods. \n",
      "\n",
      "Modular RAG is mentioned on page 118, with components like Search Module and RAGFusion. These are architectural methods. The text also refers to techniques like Self-Ask and few-shot prompts, which are part of the retrieval process. \n",
      "\n",
      "I need to organize these points into clear methods. The answer should include retrieval techniques (dense vs. sparse), generation integration, modular architectures, and evaluation metrics. Make sure to cite the page numbers for each point.\n",
      "</think>\n",
      "\n",
      "The methods of Retrieval-Augmented Generation (RAG) involve integrating retrieval systems with language models to enhance generation quality. Key methods include:\n",
      "\n",
      "1. **Retrieval Techniques**  \n",
      "   - **Dense Retrieval**: Uses transformer-based models (e.g., BERT) to retrieve relevant documents based on semantic similarity [Page 117].  \n",
      "   - **Sparse Retrieval**: Relies on inverted indexes and keyword matching for faster queries [Page 117].  \n",
      "   - **Hybrid Approaches**: Combines dense and sparse methods for efficiency and accuracy [Page 117].  \n",
      "\n",
      "2. **Modular RAG Architecture**  \n",
      "   - **Search Module**: Enables direct searches across databases, search engines, and knowledge graphs using LLM-generated queries [Page 118].  \n",
      "   - **RAGFusion**: Implements multi-query strategies with parallel searches and re-ranking to gather diverse perspectives [Page 118].  \n",
      "\n",
      "3. **Interactive Retrieval-Generation Frameworks**  \n",
      "   - **Self-RAG**: Allows LLMs to dynamically decide when and what to retrieve, improving adaptability [Page 122].  \n",
      "   - **GraphToolformer**: Structures retrieval into stages, using tools like retrievers and techniques such as Self-Ask or few-shot prompts [Page 122].  \n",
      "   - **WebGPT**: Integrates reinforcement learning for autonomous search, using special tokens to simulate agent-like information gathering [Page 122].  \n",
      "\n",
      "4. **Evaluation Metrics**  \n",
      "   - **Retrieval Precision**: Measures the relevance of retrieved data [Page 122].  \n",
      "   - **Generation Accuracy**: Assesses factual correctness of outputs [Page 122].  \n",
      "   - **End-to-End Performance**: Evaluates coherence, fluency, and informativeness of the system [Page 122].  \n",
      "\n",
      "These methods address challenges like retrieval latency, data quality, and scalability while enhancing knowledge integration and reducing hallucinations [Page 116].\n"
     ]
    }
   ],
   "source": [
    "# ============================================================================\n",
    "# INTERACTIVE CHAT\n",
    "# ============================================================================\n",
    "def chat():\n",
    "    \"\"\"Start interactive chat with the agentic RAG.\"\"\"\n",
    "    print(\"\\n🤖 Agentic RAG Chat - Type 'quit' to exit\")\n",
    "    \n",
    "    while True:\n",
    "        question = input(\"\\nYour question: \").strip()\n",
    "        if question.lower() in ['quit', 'exit', 'q']:\n",
    "            break\n",
    "        if question:\n",
    "            ask(question)\n",
    "\n",
    "chat()"
   ]
  }
 ],
 "metadata": {
  "kernelspec": {
   "display_name": "ml",
   "language": "python",
   "name": "python3"
  },
  "language_info": {
   "codemirror_mode": {
    "name": "ipython",
    "version": 3
   },
   "file_extension": ".py",
   "mimetype": "text/x-python",
   "name": "python",
   "nbconvert_exporter": "python",
   "pygments_lexer": "ipython3",
   "version": "3.11.13"
  }
 },
 "nbformat": 4,
 "nbformat_minor": 5
}
