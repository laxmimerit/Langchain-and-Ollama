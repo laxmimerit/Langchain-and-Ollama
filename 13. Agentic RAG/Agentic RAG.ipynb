{
 "cells": [
  {
   "cell_type": "markdown",
   "id": "3c364c80",
   "metadata": {},
   "source": [
    "## Agentic RAG with Langchain v1, Ollama, and FAISS\n",
    "**Key Features:**\n",
    "- Agent-based architecture with autonomous tool usage for document retrieval\n",
    "- FAISS vector store for efficient semantic search across document embeddings\n",
    "- Ollama integration with Qwen3 LLM and nomic-embed-text embeddings for local deployment\n",
    "- Custom retrieval tool that finds and formats relevant document chunks with metadata\n",
    "- Interactive chat interface with streaming responses and tool call visibility"
   ]
  },
  {
   "cell_type": "code",
   "execution_count": null,
   "id": "c61a582d",
   "metadata": {},
   "outputs": [],
   "source": [
    "# pip install -U langchain langchain-ollama, langchain-community langchain-core faiss-cpu\n",
    "# ollama pull nomic-embed-text\n",
    "# ollama pull qwen3"
   ]
  },
  {
   "cell_type": "code",
   "execution_count": 1,
   "id": "4a1c2aea",
   "metadata": {},
   "outputs": [
    {
     "data": {
      "text/plain": [
       "True"
      ]
     },
     "execution_count": 1,
     "metadata": {},
     "output_type": "execute_result"
    }
   ],
   "source": [
    "import os\n",
    "import warnings\n",
    "os.environ['KMP_DUPLICATE_LIB_OK'] = 'True'\n",
    "warnings.filterwarnings(\"ignore\")\n",
    "\n",
    "from langchain_core.tools import tool\n",
    "from langchain.agents import create_agent\n",
    "from langchain_ollama import ChatOllama, OllamaEmbeddings\n",
    "from langchain_community.vectorstores import FAISS\n",
    "from dotenv import load_dotenv\n",
    "\n",
    "\n",
    "load_dotenv()"
   ]
  },
  {
   "cell_type": "code",
   "execution_count": 2,
   "id": "750be741",
   "metadata": {},
   "outputs": [],
   "source": [
    "# ============================================================================\n",
    "# LLM & VECTOR STORE SETUP\n",
    "# ============================================================================\n",
    "# Ollama LLM with Qwen3\n",
    "llm = ChatOllama(\n",
    "    model=\"qwen3\", \n",
    "    base_url=\"http://localhost:11434\"\n",
    ")\n",
    "\n",
    "# Ollama Embeddings\n",
    "embeddings = OllamaEmbeddings(\n",
    "    model=\"nomic-embed-text\",\n",
    "    base_url=\"http://localhost:11434\"\n",
    ")\n",
    "\n",
    "# FAISS Vector Store (assumes data already exists from previous code)\n",
    "db_name = \"./../09. Vector Stores and Retrievals/health_supplements\"\n",
    "vector_store = FAISS.load_local(\n",
    "    db_name,\n",
    "    embeddings,\n",
    "    allow_dangerous_deserialization=True\n",
    ")"
   ]
  },
  {
   "cell_type": "code",
   "execution_count": 3,
   "id": "c1ce7c29",
   "metadata": {},
   "outputs": [
    {
     "data": {
      "text/plain": [
       "AIMessage(content='Hello! How can I assist you today? 😊', additional_kwargs={}, response_metadata={'model': 'qwen3', 'created_at': '2025-10-21T18:37:09.0211063Z', 'done': True, 'done_reason': 'stop', 'total_duration': 5016900000, 'load_duration': 3140365300, 'prompt_eval_count': 11, 'prompt_eval_duration': 63223700, 'eval_count': 113, 'eval_duration': 1786919500, 'model_name': 'qwen3', 'model_provider': 'ollama'}, id='lc_run--95cbceff-abfe-4c72-a428-0c360d7eebb9-0', usage_metadata={'input_tokens': 11, 'output_tokens': 113, 'total_tokens': 124})"
      ]
     },
     "execution_count": 3,
     "metadata": {},
     "output_type": "execute_result"
    }
   ],
   "source": [
    "llm.invoke(\"Hello\")"
   ]
  },
  {
   "cell_type": "code",
   "execution_count": 8,
   "id": "53deb9de",
   "metadata": {},
   "outputs": [
    {
     "name": "stdout",
     "output_type": "stream",
     "text": [
      "\n",
      "🔍 Testing Vector Store Connection...\n",
      "✓ Vector store found with 311 documents\n",
      "\n",
      "✓ Sample search for 'creatine':\n",
      "  1. Source: rag-dataset\\gym supplements\\1. Analysis of Actual Fitness Supplement.pdf (Page 0): acids than traditional protein sources. Its numerous benefits have made it a popular choice\n",
      "for snac...\n",
      "  2. Source: rag-dataset\\gym supplements\\1. Analysis of Actual Fitness Supplement.pdf (Page 1): Foods 2024, 13, 1424\n",
      "2 of 21\n",
      "and sports industry, evidence suggests that creatine can benefit not on...\n",
      "  3. Source: rag-dataset\\gym supplements\\2. High Prevalence of Supplement Intake.pdf (Page 10): supplements such as creatine or beta-alanine were used only once a week, which cannot be eﬀective [9...\n"
     ]
    }
   ],
   "source": [
    "# ============================================================================\n",
    "# VECTOR STORE VERIFICATION\n",
    "# ============================================================================\n",
    "print(\"\\n🔍 Testing Vector Store Connection...\")\n",
    "\n",
    "# Test 1: Check collection info\n",
    "doc_count = vector_store.index.ntotal\n",
    "print(f\"✓ Vector store found with {doc_count} documents\")\n",
    "\n",
    "\n",
    "# Test 2: Sample similarity search\n",
    "test_query = \"creatine\"\n",
    "results = vector_store.similarity_search(test_query, k=3)\n",
    "print(f\"\\n✓ Sample search for '{test_query}':\")\n",
    "for i, doc in enumerate(results, 1):\n",
    "    print(f\"  {i}. Source: {doc.metadata.get('source', '?')} (Page {doc.metadata.get('page', '?')}): {doc.page_content[:100]}...\")\n",
    "\n"
   ]
  },
  {
   "cell_type": "code",
   "execution_count": 6,
   "id": "359ae03d",
   "metadata": {},
   "outputs": [
    {
     "data": {
      "text/plain": [
       "[Document(id='fd6ca7af-09ea-44bf-b197-655128273c30', metadata={'producer': 'iLovePDF', 'creator': '', 'creationdate': '', 'source': 'rag-dataset\\\\gym supplements\\\\1. Analysis of Actual Fitness Supplement.pdf', 'file_path': 'rag-dataset\\\\gym supplements\\\\1. Analysis of Actual Fitness Supplement.pdf', 'total_pages': 15, 'format': 'PDF 1.7', 'title': '', 'author': '', 'subject': '', 'keywords': '', 'moddate': '2024-10-21T11:38:50+00:00', 'trapped': '', 'modDate': 'D:20241021113850Z', 'creationDate': '', 'page': 0}, page_content='acids than traditional protein sources. Its numerous benefits have made it a popular choice\\nfor snacks and drinks among consumers [3]. Another widely embraced supplement is\\ncaffeine, which is found in many sports and food supplements. Caffeine reduces perceived\\neffort, minimizes fatigue and pain, and proves to be effective for endurance and high-\\nintensity activities, which is the choice of consumers [4].\\nCreatine monohydrate is another well-known supplement used to gain muscle mass\\nand support performance and recovery. It is known not to increase fat mass and remains\\neffective even when taken in recommended doses [5]. Despite its popularity in the fitness\\nFoods 2024, 13, 1424. https://doi.org/10.3390/foods13091424\\nhttps://www.mdpi.com/journal/foods'),\n",
       " Document(id='04dc7e5b-a64c-465b-9b07-464f38ae4974', metadata={'producer': 'iLovePDF', 'creator': '', 'creationdate': '', 'source': 'rag-dataset\\\\gym supplements\\\\1. Analysis of Actual Fitness Supplement.pdf', 'file_path': 'rag-dataset\\\\gym supplements\\\\1. Analysis of Actual Fitness Supplement.pdf', 'total_pages': 15, 'format': 'PDF 1.7', 'title': '', 'author': '', 'subject': '', 'keywords': '', 'moddate': '2024-10-21T11:38:50+00:00', 'trapped': '', 'modDate': 'D:20241021113850Z', 'creationDate': '', 'page': 1}, page_content='Foods 2024, 13, 1424\\n2 of 21\\nand sports industry, evidence suggests that creatine can benefit not only athletes but also\\nthe elderly and the general population [6]. Branched-chain amino acids (BCAA) also offer\\na plethora of benefits for consumers. As explained by Sanz et al. [7], BCAAs are stored\\ndirectly in muscles and serve as the raw materials needed to build new muscle. This\\ncontributes to the overall process of strengthening muscles and alleviating post-workout\\nsoreness. Consumers often integrate these supplements into their routines with the aim of\\noptimizing the outcomes they wish to achieve and support overall well-being [1].\\nThe sports supplement industry makes for an impressive market share of nearly\\n$12 billion in the health/wellness portfolio and is projected to be worth $24.4 billion\\nby 2025. In a study by Burke [4], which investigated 20 published studies about the\\nprevalence, methods, and reasons for supplement consumption, it is evident from the'),\n",
       " Document(id='a453a854-9a89-4295-9ac0-c32e191fffb3', metadata={'producer': 'iLovePDF', 'creator': '', 'creationdate': '', 'source': 'rag-dataset\\\\gym supplements\\\\2. High Prevalence of Supplement Intake.pdf', 'file_path': 'rag-dataset\\\\gym supplements\\\\2. High Prevalence of Supplement Intake.pdf', 'total_pages': 11, 'format': 'PDF 1.5', 'title': '', 'author': '', 'subject': '', 'keywords': '', 'moddate': '2024-10-21T11:39:04+00:00', 'trapped': '', 'modDate': 'D:20241021113904Z', 'creationDate': '', 'page': 10}, page_content='supplements such as creatine or beta-alanine were used only once a week, which cannot be eﬀective [9],\\nindicating random supplement use. This may be a further consequence of insuﬃcient knowledge\\namong the study population. Moreover, excessive use of supplements such as 100 supplement servings\\nper week is rather unlikely to reﬂect a targeted supplement use.\\n4.3. Limitations\\nCertainly, this study has some limitations. Firstly, we could only screen a limited number of\\nﬁtness centers. Secondly, the overall response rate of 59% did not exclude a certain selection bias.\\nNevertheless, we managed to include more subjects than many other studies [4] and the available\\nindicator (average age) does not speak against the hypothesis that the study population might more\\nor less represent the population of the screened ﬁtness centers. Furthermore, the questionnaire was\\nintentionally reduced to one two-sided A4 paper in order to keep it simple and short and with the')]"
      ]
     },
     "execution_count": 6,
     "metadata": {},
     "output_type": "execute_result"
    }
   ],
   "source": [
    "results"
   ]
  },
  {
   "cell_type": "code",
   "execution_count": null,
   "id": "fc82f15d",
   "metadata": {},
   "outputs": [],
   "source": [
    "# ============================================================================\n",
    "# RETRIEVAL TOOL\n",
    "# ============================================================================\n",
    "@tool()\n",
    "def retrieve_context(query: str):\n",
    "    \"\"\"Retrieve relevant information for health related queries from the document to answer the query.\n",
    "    \n",
    "    \"\"\"\n",
    "    print(f\"🔍 Searching: '{query}'\")\n",
    "    \n",
    "    # Perform similarity search\n",
    "    docs = vector_store.similarity_search(query, k=4)\n",
    "    \n",
    "    # Format for LLM\n",
    "    content = \"\\n\\n\".join(\n",
    "        f\"Source: {doc.metadata.get('source', '?')} (Page {doc.metadata.get('page', '?')}): {doc.page_content}\"\n",
    "        for doc in docs\n",
    "    )\n",
    "    \n",
    "    print(f\"✓ Found {len(docs)} relevant chunks\")\n",
    "    return content\n"
   ]
  },
  {
   "cell_type": "code",
   "execution_count": 16,
   "id": "5a931514",
   "metadata": {},
   "outputs": [
    {
     "name": "stdout",
     "output_type": "stream",
     "text": [
      "🔍 Searching: 'What is the use of BCAA?'\n",
      "✓ Found 4 relevant chunks\n"
     ]
    }
   ],
   "source": [
    "result = retrieve_context.invoke(\"What is the use of BCAA?\")\n",
    "# print(result)"
   ]
  },
  {
   "cell_type": "markdown",
   "id": "bda1390e",
   "metadata": {},
   "source": [
    "#### Create Tools and Agent"
   ]
  },
  {
   "cell_type": "code",
   "execution_count": 17,
   "id": "de652b2d",
   "metadata": {},
   "outputs": [],
   "source": [
    "tools = [retrieve_context]\n",
    "\n",
    "system_prompt = \"\"\"You are a research assistant with a document retrieval tool.\n",
    "\n",
    "                    Tool:\n",
    "                    - retrieve_context: Search the document for the health related question\n",
    "\n",
    "                    Cite page numbers and reference document while writing the answer and be thorough.\"\"\""
   ]
  },
  {
   "cell_type": "code",
   "execution_count": null,
   "id": "717c7717",
   "metadata": {},
   "outputs": [],
   "source": [
    "# Create the agentic RAG\n",
    "rag_agent = create_agent(llm, tools, system_prompt=system_prompt)"
   ]
  },
  {
   "cell_type": "code",
   "execution_count": 19,
   "id": "f4810cf8",
   "metadata": {},
   "outputs": [
    {
     "data": {
      "image/png": "[encoded data removed]",
      "text/plain": [
       "<langgraph.graph.state.CompiledStateGraph object at 0x0000020D5CD74350>"
      ]
     },
     "execution_count": 19,
     "metadata": {},
     "output_type": "execute_result"
    }
   ],
   "source": [
    "rag_agent"
   ]
  },
  {
   "cell_type": "code",
   "execution_count": 20,
   "id": "91e24447",
   "metadata": {},
   "outputs": [
    {
     "name": "stdout",
     "output_type": "stream",
     "text": [
      "🔍 Searching: 'use of BCAA'\n",
      "✓ Found 4 relevant chunks\n"
     ]
    }
   ],
   "source": [
    "result = rag_agent.invoke({'messages': \"What is the use of BCAA?\"})"
   ]
  },
  {
   "cell_type": "code",
   "execution_count": 21,
   "id": "95a2fd32",
   "metadata": {},
   "outputs": [
    {
     "data": {
      "text/plain": [
       "{'messages': [HumanMessage(content='What is the use of BCAA?', additional_kwargs={}, response_metadata={}, id='7962cc8d-9750-441c-88e0-a3b65ffc490e'),\n",
       "  AIMessage(content='', additional_kwargs={}, response_metadata={'model': 'qwen3', 'created_at': '2025-10-21T19:10:29.5876542Z', 'done': True, 'done_reason': 'stop', 'total_duration': 7098807100, 'load_duration': 3511072700, 'prompt_eval_count': 196, 'prompt_eval_duration': 62607400, 'eval_count': 270, 'eval_duration': 3425281100, 'model_name': 'qwen3', 'model_provider': 'ollama'}, id='lc_run--c667fbf2-6fbc-4494-81eb-b398180aa024-0', tool_calls=[{'name': 'retrieve_context', 'args': {'query': 'use of BCAA'}, 'id': '094215df-2046-4d85-89e6-5ed529949e06', 'type': 'tool_call'}], usage_metadata={'input_tokens': 196, 'output_tokens': 270, 'total_tokens': 466}),\n",
       "  ToolMessage(content='Source: rag-dataset\\\\gym supplements\\\\1. Analysis of Actual Fitness Supplement.pdf (Page 1): Foods 2024, 13, 1424\\n2 of 21\\nand sports industry, evidence suggests that creatine can benefit not only athletes but also\\nthe elderly and the general population [6]. Branched-chain amino acids (BCAA) also offer\\na plethora of benefits for consumers. As explained by Sanz et al. [7], BCAAs are stored\\ndirectly in muscles and serve as the raw materials needed to build new muscle. This\\ncontributes to the overall process of strengthening muscles and alleviating post-workout\\nsoreness. Consumers often integrate these supplements into their routines with the aim of\\noptimizing the outcomes they wish to achieve and support overall well-being [1].\\nThe sports supplement industry makes for an impressive market share of nearly\\n$12 billion in the health/wellness portfolio and is projected to be worth $24.4 billion\\nby 2025. In a study by Burke [4], which investigated 20 published studies about the\\nprevalence, methods, and reasons for supplement consumption, it is evident from the\\n\\nSource: rag-dataset\\\\health supplements\\\\3.health_supplements_side_effects.pdf (Page 7): appetite, body weight, and BMI after intake for 8 weeks (74). Accidental intake of \\nsupplements with DMAA, mainly in children, have caused relatively mild adverse effects \\nsuch as tachycardia, nausea, and vomiting (75). However, serious cardiovascular events after \\nDMAA intake have also been reported. Recreational use of DMAA in New Zealand has \\nbeen associated with cases of cerebral hemorrhage (76,77). Furthermore, there are three \\ncases of cardiac arrest occurring during physical exercise in the military and in a gym \\nfollowing intake of DMAA-containing supplements (71,78). Two of the events eventually \\nled to the deaths of US soldiers. While it cannot be proven that DMAA is the causative agent \\nfor all the adverse events, it is clear that DMAA does indeed have cardiovascular effects \\nsuch as vasoconstriction and elevation of blood pressure (79,80). Following receipt of 42 \\nadverse events reports on products with DMAA, the FDA in April 2012 sent warning letters\\n\\nSource: rag-dataset\\\\health supplements\\\\3.health_supplements_side_effects.pdf (Page 7): component of Geranium plants, e.g. as geranium extract (71). However, the presence of \\nDMAA in plants has not been verified, leading to the conclusion that DMAA in supplements \\nis generated by chemical synthesis (72). DMAA has further been banned as a performance \\nenhancing drug by the World Anti-Doping Agency (73). One version of the weight-loss \\nsupplement OxyELITE Pro from USPlabs, LLC contained the compound 1,3-\\ndimethylamylamine (DMAA) in addition to ingredients such as caffeine, Bauhinia purpurea, \\nBacopa monniera, Cirsium oligophyllum, and rauwolscine (Yohimbe) extract. Studies that \\nwere supported financially by USPlabs, LLC with a small number of healthy volunteers \\nsuggested that this supplement formulation could increase lipolysis, metabolic rate, heart \\nrate and systolic blood pressure in the short term (2 h) as well as lead to small decreases in \\nappetite, body weight, and BMI after intake for 8 weeks (74). Accidental intake of\\n\\nSource: rag-dataset\\\\health supplements\\\\2. Nutraceuticals research.pdf (Page 9): (BfArM) [65]. This report conﬁrms the opinion of the Autorité\\nfrançaise\\nde\\nSécurité\\nsanitaire\\nde\\nl’Alimentation,\\nde\\nl’Environnement et du Travail, which seems to suggest that\\nhigh values of monacolin K in RYR products should be\\nconsidered with caution due to possible monacolin K content\\nvariability\\n[69].\\nThe\\npossible\\ncontamination\\nfrom\\nco-\\noccurrence of the toxic metabolite citrinin generates an addi-\\ntional disputable scenario in which dose inconsistency and\\nsafety issues suggest caution against the use and need for\\nshared regulation assessment to guarantee safety, content\\nand dose-related efﬁcacy. The establishment of a regulatory\\nframework would help avoid this scenario. Innovative,\\ncross-sectorial strategies may contribute directly or indirectly\\nto improving the quality of life making our health and social\\ncare systems more efﬁcient and sustainable. Adherence to\\nadequate lifestyles and behaviour is important to improve\\nquality of life and prevent adverse health outcomes [70].', name='retrieve_context', id='9d0a9d74-924d-4fc9-bd4f-599956b28b68', tool_call_id='094215df-2046-4d85-89e6-5ed529949e06'),\n",
       "  AIMessage(content='Branched-Chain Amino Acids (BCAA) are primarily used for their role in muscle metabolism and recovery. According to the document **\"1. Analysis of Actual Fitness Supplement.pdf\" (Page 1)**, BCAAs are stored directly in muscles and serve as raw materials for building new muscle tissue. This process supports muscle strengthening and reduces post-workout soreness. Consumers often incorporate BCAA supplements into their routines to optimize fitness outcomes and enhance overall well-being [1]. \\n\\nThe document also highlights that BCAAs are part of the sports supplement industry, which underscores their popularity among athletes and fitness enthusiasts aiming to improve performance and recovery [7]. \\n\\n**References:**  \\n- Page 1 of *1. Analysis of Actual Fitness Supplement.pdf* (Foods 2024, 13, 1424).', additional_kwargs={}, response_metadata={'model': 'qwen3', 'created_at': '2025-10-21T19:10:35.4593779Z', 'done': True, 'done_reason': 'stop', 'total_duration': 5076297400, 'load_duration': 70862000, 'prompt_eval_count': 1254, 'prompt_eval_duration': 245255400, 'eval_count': 362, 'eval_duration': 4702791400, 'model_name': 'qwen3', 'model_provider': 'ollama'}, id='lc_run--1e993fb3-4f70-45e1-a8fb-fe7d195b033d-0', usage_metadata={'input_tokens': 1254, 'output_tokens': 362, 'total_tokens': 1616})]}"
      ]
     },
     "execution_count": 21,
     "metadata": {},
     "output_type": "execute_result"
    }
   ],
   "source": [
    "result"
   ]
  },
  {
   "cell_type": "code",
   "execution_count": 24,
   "id": "c2416a3d",
   "metadata": {},
   "outputs": [
    {
     "name": "stdout",
     "output_type": "stream",
     "text": [
      "==================================\u001b[1m Ai Message \u001b[0m==================================\n",
      "\n",
      "Branched-Chain Amino Acids (BCAA) are primarily used for their role in muscle metabolism and recovery. According to the document **\"1. Analysis of Actual Fitness Supplement.pdf\" (Page 1)**, BCAAs are stored directly in muscles and serve as raw materials for building new muscle tissue. This process supports muscle strengthening and reduces post-workout soreness. Consumers often incorporate BCAA supplements into their routines to optimize fitness outcomes and enhance overall well-being [1]. \n",
      "\n",
      "The document also highlights that BCAAs are part of the sports supplement industry, which underscores their popularity among athletes and fitness enthusiasts aiming to improve performance and recovery [7]. \n",
      "\n",
      "**References:**  \n",
      "- Page 1 of *1. Analysis of Actual Fitness Supplement.pdf* (Foods 2024, 13, 1424).\n"
     ]
    }
   ],
   "source": [
    "result['messages'][-1].pretty_print()"
   ]
  },
  {
   "cell_type": "code",
   "execution_count": 27,
   "id": "e7f3bcf0",
   "metadata": {},
   "outputs": [],
   "source": [
    "# ============================================================================\n",
    "# QUERY FUNCTION\n",
    "# ============================================================================\n",
    "def ask(question: str):\n",
    "    \"\"\"Ask the agentic RAG a question.\"\"\"\n",
    "    print(f\"\\n{'='*60}\")\n",
    "    print(f\"Question: {question}\")\n",
    "    print('='*60)\n",
    "    \n",
    "    for event in rag_agent.stream(\n",
    "        {\"messages\": [{\"role\": \"user\", \"content\": question}]},\n",
    "        stream_mode=\"values\"\n",
    "    ):\n",
    "        msg = event[\"messages\"][-1]\n",
    "        \n",
    "        # Show tool usage\n",
    "        if hasattr(msg, 'tool_calls') and msg.tool_calls:\n",
    "            for tc in msg.tool_calls:\n",
    "                print(\"Tool Call: \")\n",
    "                print(f\"\\n🔧 Using: {tc['name']} with {tc['args']}\")\n",
    "        \n",
    "        # Show final answer\n",
    "        elif hasattr(msg, 'content') and msg.content:\n",
    "            print(f\"\\n💬 Answer:\\n{msg.content}\")"
   ]
  },
  {
   "cell_type": "code",
   "execution_count": 28,
   "id": "ed913f8e",
   "metadata": {},
   "outputs": [
    {
     "name": "stdout",
     "output_type": "stream",
     "text": [
      "\n",
      "============================================================\n",
      "Question: how to gain muscle mass?\n",
      "============================================================\n",
      "\n",
      "💬 Answer:\n",
      "how to gain muscle mass?\n",
      "Tool Call: \n",
      "\n",
      "🔧 Using: retrieve_context with {'query': 'how to gain muscle mass'}\n",
      "🔍 Searching: 'how to gain muscle mass'\n",
      "✓ Found 4 relevant chunks\n",
      "\n",
      "💬 Answer:\n",
      "Source: rag-dataset\\gym supplements\\2. High Prevalence of Supplement Intake.pdf (Page 8): and strength gain among men. We detected more prevalent protein and creatine supplementation\n",
      "among younger compared to older ﬁtness center users, whereas the opposite was found for vitamin\n",
      "supplementation. Other authors made similar observations [23] and it might reﬂect the diﬀerent\n",
      "training goals among age groups, i.e., more focus on strength and muscles among the younger and\n",
      "more focus on health among the older age groups.\n",
      "Comparable to other studies [4], we detected a positive correlation between training frequency\n",
      "and supplement usage. Nevertheless, the correlation is weak and is deﬁnitely not a predictor at the\n",
      "individual level. The subject with the highest supplement intake of 100 weekly servings was training\n",
      "only once a week.\n",
      "\n",
      "Source: rag-dataset\\gym supplements\\2. High Prevalence of Supplement Intake.pdf (Page 5): for two training goals. Improving health was named by 59%, 60%, 75%, and 89% as a training goal\n",
      "among the four age groups beginning from the youngest to the oldest group. On the other hand, body\n",
      "shaping was named by 69%, 55%, 41%, and 17% among the four age groups.\n",
      "\n",
      "Source: rag-dataset\\gym supplements\\1. Analysis of Actual Fitness Supplement.pdf (Page 0): acids than traditional protein sources. Its numerous benefits have made it a popular choice\n",
      "for snacks and drinks among consumers [3]. Another widely embraced supplement is\n",
      "caffeine, which is found in many sports and food supplements. Caffeine reduces perceived\n",
      "effort, minimizes fatigue and pain, and proves to be effective for endurance and high-\n",
      "intensity activities, which is the choice of consumers [4].\n",
      "Creatine monohydrate is another well-known supplement used to gain muscle mass\n",
      "and support performance and recovery. It is known not to increase fat mass and remains\n",
      "effective even when taken in recommended doses [5]. Despite its popularity in the fitness\n",
      "Foods 2024, 13, 1424. https://doi.org/10.3390/foods13091424\n",
      "https://www.mdpi.com/journal/foods\n",
      "\n",
      "Source: rag-dataset\\gym supplements\\2. High Prevalence of Supplement Intake.pdf (Page 2): bodybuilding, improve strength, improve endurance, improve sport speciﬁc performance, other\n",
      "reasons). In the second section, the supplement use was screened by listing 25 predeﬁned substances\n",
      "and product classes (Table 2). Spare lines were available to list “further” products not included in the\n",
      "questionnaire. For each product, intake frequency had to be indicated. The available categories were\n",
      "“daily”, “several times per week”, “once a week”, “less than once a week”, “never”, and “don’t know”.\n",
      "In the last section, subjects were asked about their motivation to take the supplements, where they\n",
      "informed themselves about the supplements used, whether they were informed about potential side\n",
      "eﬀects or risks by their information source (yes or no) and what they considered to be important criteria\n",
      "when selecting the particular information source(s). For these questions, a limited set of predeﬁned\n",
      "\n",
      "💬 Answer:\n",
      "To gain muscle mass, the following strategies are supported by the retrieved documents:  \n",
      "\n",
      "1. **Strength Training**: Focus on resistance exercises to stimulate muscle growth. Younger individuals often prioritize strength and muscle gains over health alone, suggesting that targeted strength training is critical [Source: *High Prevalence of Supplement Intake* (Page 5)].  \n",
      "\n",
      "2. **Protein and Creatine Supplementation**:  \n",
      "   - **Protein**: Essential for muscle repair and growth. The documents highlight high prevalence of protein supplementation among younger fitness enthusiasts [Source: *High Prevalence of Supplement Intake* (Page 8)].  \n",
      "   - **Creatine Monohydrate**: A popular supplement for gaining muscle mass. It supports performance, recovery, and muscle growth without increasing fat mass. Even at recommended doses, it remains effective [Source: *Analysis of Actual Fitness Supplement* (Page 0)].  \n",
      "\n",
      "3. **Training Frequency and Supplements**: While there is a weak correlation between training frequency and supplement use, consistent training (e.g., multiple sessions per week) combined with supplements like creatine can enhance results [Source: *High Prevalence of Supplement Intake* (Page 8)].  \n",
      "\n",
      "4. **Dietary Considerations**: Although not explicitly detailed in the documents, the emphasis on protein and creatine implies a balanced diet with adequate caloric and macronutrient intake is necessary to support muscle growth.  \n",
      "\n",
      "**Note**: Supplements like caffeine may also aid endurance and performance, but prioritize strength training and a nutrient-rich diet as foundational elements [Source: *Analysis of Actual Fitness Supplement* (Page 0)].\n"
     ]
    }
   ],
   "source": [
    "# ============================================================================\n",
    "# TESTING\n",
    "# ============================================================================\n",
    "# Test basic retrieval\n",
    "ask(\"how to gain muscle mass?\")\n"
   ]
  },
  {
   "cell_type": "code",
   "execution_count": 29,
   "id": "64946ce7",
   "metadata": {},
   "outputs": [
    {
     "name": "stdout",
     "output_type": "stream",
     "text": [
      "\n",
      "============================================================\n",
      "Question: tell me 3 facts about Earth?\n",
      "============================================================\n",
      "\n",
      "💬 Answer:\n",
      "tell me 3 facts about Earth?\n",
      "\n",
      "💬 Answer:\n",
      "The query about Earth is not related to health, so I cannot use the provided tool to retrieve information. Here are three general facts about Earth:\n",
      "\n",
      "1. **Third Planet from the Sun**: Earth is the third planet in our solar system and the only known celestial body to support life.  \n",
      "2. **Unique Atmosphere**: Its atmosphere, rich in nitrogen and oxygen, along with the presence of liquid water, creates conditions suitable for life.  \n",
      "3. **Dynamic Geology**: Earth is geologically active, with processes like plate tectonics, volcanism, and erosion shaping its surface over time.  \n",
      "\n",
      "Let me know if you'd like health-related information!\n"
     ]
    }
   ],
   "source": [
    "ask(\"tell me 3 facts about Earth?\")"
   ]
  },
  {
   "cell_type": "code",
   "execution_count": 30,
   "id": "4a082a77",
   "metadata": {},
   "outputs": [
    {
     "name": "stdout",
     "output_type": "stream",
     "text": [
      "\n",
      "🤖 Agentic RAG Chat - Type 'quit, q or exit' to exit\n",
      "\n",
      "============================================================\n",
      "Question: tell me about sun?\n",
      "============================================================\n",
      "\n",
      "💬 Answer:\n",
      "tell me about sun?\n",
      "\n",
      "💬 Answer:\n",
      "The sun is a star at the center of our solar system, composed primarily of hydrogen (about 75%) and helium (about 25%), with trace amounts of heavier elements. It generates energy through nuclear fusion in its core, where hydrogen atoms fuse into helium, releasing vast amounts of light and heat. This process sustains the sun's luminosity and provides the energy necessary for life on Earth. The sun's surface temperature is approximately 5,500°C (9,932°F), while its core reaches temperatures of about 15 million°C (27 million°F). \n",
      "\n",
      "If you were asking about health-related aspects of the sun (e.g., sunlight's role in vitamin D synthesis or skin cancer risks), I could retrieve specific health information from a document. However, since your query is general, the above covers basic scientific details. Let me know if you'd like to focus on a specific aspect!\n",
      "\n",
      "============================================================\n",
      "Question: tell me about the protein?\n",
      "============================================================\n",
      "\n",
      "💬 Answer:\n",
      "tell me about the protein?\n",
      "Tool Call: \n",
      "\n",
      "🔧 Using: retrieve_context with {'query': 'protein'}\n",
      "🔍 Searching: 'protein'\n",
      "✓ Found 4 relevant chunks\n",
      "\n",
      "💬 Answer:\n",
      "Source: rag-dataset\\health supplements\\3.health_supplements_side_effects.pdf (Page 3): liver oils which also contain vitamin A and multivitamin supplements could result in \n",
      "hypervitaminosis A. Furthermore, fish oils and omega-3 fatty acid supplements may \n",
      "exacerbate anticoagulation and promote bleeding in patients taking anticoagulant \n",
      "medications such as warfarin (32,33).\n",
      "PROTEIN POWDERS AND INFANT FORMULA\n",
      "Protein powders consisting of the dairy proteins casein, whey and of vegetable proteins in \n",
      "soy protein isolate (SPI) are popular supplements among athletes and body builders. These \n",
      "proteins are also the basis of infant formulas fed to over 4 million U.S. infants each year. \n",
      "The dairy proteins appear to have little toxicity except in individuals with allergies to cow’s \n",
      "milk protein, although excessive consumption may result in ketosis. In contrast, there is an \n",
      "Ronis et al.\n",
      "Page 4\n",
      "Annu Rev Pharmacol Toxicol. Author manuscript; available in PMC 2019 February 19.\n",
      "Author Manuscript\n",
      "Author Manuscript\n",
      "Author Manuscript\n",
      "Author Manuscript\n",
      "\n",
      "Source: rag-dataset\\gym supplements\\2. High Prevalence of Supplement Intake.pdf (Page 8): educated guess of the magnitude of supplement intake, which seems to be even more relevant than the\n",
      "mere prevalence of supplements in use. Future studies should focus more on this parameter to obtain\n",
      "more data about the scale of supplement intake and not only about the prevalence of supplement users,\n",
      "no matter the extent of use. Our data indicate that a signiﬁcant part of the supplement consumers is\n",
      "supplementing on a large scale, i.e., 31% use at least 20 supplement servings per week and 10% use 40\n",
      "or more supplement servings per week.\n",
      "Protein supplements represented the most prevalent products, which is in line with other\n",
      "supplement screening studies [19,23,24]. In line with others [4], we reported a more prevalent protein\n",
      "intake among men compared to women. This correlates with the more prevalent training goal of muscle\n",
      "and strength gain among men. We detected more prevalent protein and creatine supplementation\n",
      "\n",
      "Source: rag-dataset\\gym supplements\\1. Analysis of Actual Fitness Supplement.pdf (Page 0): sionals, and policymakers seeking to promote informed and responsible supplement use among\n",
      "health and fitness enthusiasts.\n",
      "Keywords: fitness supplements; health belief model; theory of effort of minimization; theory of\n",
      "planned behavior; structural equation modelling\n",
      "1. Introduction\n",
      "Supplementary drinks or fitness supplements are commonly used to enhance an\n",
      "individual’s performance in various sports and health settings, catering to both competitive\n",
      "and non-competitive athletes [1]. One widely known supplement for athletes and fitness\n",
      "enthusiasts is protein supplements like protein shakes. Others may be whey protein,\n",
      "caffeine, and creatine, to name a few. These supplements play a crucial role in helping\n",
      "individuals increase muscle mass, recover faster, and enhance their overall performance [2].\n",
      "Whey protein stands out as a top-quality protein source, containing more essential amino\n",
      "acids than traditional protein sources. Its numerous benefits have made it a popular choice\n",
      "\n",
      "Source: rag-dataset\\gym supplements\\2. High Prevalence of Supplement Intake.pdf (Page 4): ﬁtness center databases (38 y) was comparable to the average age of the study sample subjects (37 y).\n",
      "3.2. Supplement Intake\n",
      "Overall, 82% of all ﬁtness center users consumed at least one supplement per week and were thus\n",
      "classiﬁed as consumers (Tables 2 and 3). The most prevalent products used were protein powders and\n",
      "drinks (used by 43% of the study population), magnesium (34%), and multi-micronutrient supplements\n",
      "(31%). If solid protein bars and liquid protein products (protein powder and drinks) are combined,\n",
      "49% of all subjects consumed at least one of these protein supplements. Protein supplements were\n",
      "signiﬁcantly (p < 0.001) more prevalent among men (62%) than women (35%). The average number of\n",
      "supplement servings per week among consumers was 17.1 (SD: 16.1, median: 11.0) and the average\n",
      "number of diﬀerent products used was 6.9 (SD: 4.4, median: 6.0). Among consumers, 31%, 17%,\n",
      "and 10% of the ﬁtness center users consumed more than 20, 30, or 40 supplement servings per week,\n",
      "\n",
      "💬 Answer:\n",
      "Protein is a fundamental macronutrient essential for muscle repair, growth, and overall bodily functions. Here's a structured overview based on the retrieved documents:\n",
      "\n",
      "### **Sources and Types of Protein**\n",
      "1. **Dairy Proteins**:  \n",
      "   - Casein and whey proteins are common in protein powders, used by athletes and bodybuilders. These are also foundational in infant formulas, consumed by over 4 million U.S. infants annually (Page 3 of *3.health_supplements_side_effects.pdf*).  \n",
      "   - **Safety**: Dairy proteins generally have low toxicity but may cause allergies in individuals sensitive to cow’s milk protein. Excessive intake could lead to ketosis (Page 3).\n",
      "\n",
      "2. **Vegetable Proteins**:  \n",
      "   - Soy protein isolate (SPI) is a plant-based alternative, widely used in supplements (Page 3 of *3.health_supplements_side_effects.pdf*).\n",
      "\n",
      "3. **Whey Protein**:  \n",
      "   - Highlighted as a high-quality protein source with more essential amino acids than traditional options. It aids in muscle mass gain, recovery, and performance enhancement (Page 0 of *1. Analysis of Actual Fitness Supplement.pdf*).\n",
      "\n",
      "---\n",
      "\n",
      "### **Role in Health and Fitness**\n",
      "- **Athletic Use**:  \n",
      "  - Protein supplements (e.g., shakes, powders) are the most prevalent fitness products, with 43% of fitness center users consuming them (Page 4 of *2. High Prevalence of Supplement Intake.pdf*). Men are more likely to use them (62% vs. 35% in women) due to muscle and strength training goals (Page 4 of *2. High Prevalence of Supplement Intake.pdf*).  \n",
      "  - Average weekly intake: 17.1 servings (SD: 16.1), with 31% consuming over 20 servings and 10% exceeding 40 servings (Page 4 of *2. High Prevalence of Supplement Intake.pdf*).\n",
      "\n",
      "- **Infant Nutrition**:  \n",
      "  - Protein powders form the basis of infant formulas, ensuring adequate nutrition for growth (Page 3 of *3.health_supplements_side_effects.pdf*).\n",
      "\n",
      "---\n",
      "\n",
      "### **Considerations and Risks**\n",
      "- **Side Effects**:  \n",
      "  - While generally safe, excessive protein intake (e.g., from supplements) may cause ketosis. Dairy proteins could exacerbate anticoagulation risks when combined with blood thinners like warfarin (Page 3 of *3.health_supplements_side_effects.pdf*).  \n",
      "  - Soy protein may interact with certain medications, though specific risks are not detailed in the retrieved texts.\n",
      "\n",
      "- **Prevalence**:  \n",
      "  - 82% of fitness center users consume at least one supplement weekly, with protein being the most common (Page 4 of *2. High Prevalence of Supplement Intake.pdf*).\n",
      "\n",
      "For further details, refer to the cited pages in the respective documents.\n"
     ]
    }
   ],
   "source": [
    "# ============================================================================\n",
    "# INTERACTIVE CHAT\n",
    "# ============================================================================\n",
    "def chat():\n",
    "    \"\"\"Start interactive chat with the agentic RAG.\"\"\"\n",
    "    print(\"\\n🤖 Agentic RAG Chat - Type 'quit, q or exit' to exit\")\n",
    "    \n",
    "    while True:\n",
    "        question = input(\"\\nYour question: \").strip()\n",
    "        if question.lower() in ['quit', 'exit', 'q']:\n",
    "            break\n",
    "        if question:\n",
    "            ask(question)\n",
    "\n",
    "chat()"
   ]
  }
 ],
 "metadata": {
  "kernelspec": {
   "display_name": "ml",
   "language": "python",
   "name": "python3"
  },
  "language_info": {
   "codemirror_mode": {
    "name": "ipython",
    "version": 3
   },
   "file_extension": ".py",
   "mimetype": "text/x-python",
   "name": "python",
   "nbconvert_exporter": "python",
   "pygments_lexer": "ipython3",
   "version": "3.11.13"
  }
 },
 "nbformat": 4,
 "nbformat_minor": 5
}
